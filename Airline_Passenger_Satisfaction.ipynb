{
 "cells": [
  {
   "cell_type": "markdown",
   "metadata": {
    "id": "h033vnhXzHGe"
   },
   "source": [
    "## Libraries Installation and Import"
   ]
  },
  {
   "cell_type": "code",
   "execution_count": null,
   "metadata": {
    "colab": {
     "base_uri": "https://localhost:8080/"
    },
    "id": "6oKX5SPECFTo",
    "outputId": "a8cc6916-0800-4c3a-ce94-937f9eeee01d"
   },
   "outputs": [],
   "source": [
    "!pip install lime"
   ]
  },
  {
   "cell_type": "code",
   "execution_count": 3,
   "metadata": {
    "colab": {
     "base_uri": "https://localhost:8080/",
     "height": 1000
    },
    "id": "nqAthls4CGKJ",
    "outputId": "ac8b6b21-aa1a-47a8-bfcf-c02657b3bd48"
   },
   "outputs": [
    {
     "name": "stdout",
     "output_type": "stream",
     "text": [
      "Collecting mlflow\n",
      "  Obtaining dependency information for mlflow from https://files.pythonhosted.org/packages/c2/39/e051e58f35077500fea62adb67c0ff32cab768a5bbc1e0d8c682e30d56ee/mlflow-2.19.0-py3-none-any.whl.metadata\n",
      "  Downloading mlflow-2.19.0-py3-none-any.whl.metadata (30 kB)\n",
      "Collecting mlflow-skinny==2.19.0 (from mlflow)\n",
      "  Obtaining dependency information for mlflow-skinny==2.19.0 from https://files.pythonhosted.org/packages/05/95/75f59715e39aa2224e5ecd8c52d5a305467e16a843ade2235a215599a1fa/mlflow_skinny-2.19.0-py3-none-any.whl.metadata\n",
      "  Downloading mlflow_skinny-2.19.0-py3-none-any.whl.metadata (31 kB)\n",
      "Collecting Flask<4 (from mlflow)\n",
      "  Obtaining dependency information for Flask<4 from https://files.pythonhosted.org/packages/af/47/93213ee66ef8fae3b93b3e29206f6b251e65c97bd91d8e1c5596ef15af0a/flask-3.1.0-py3-none-any.whl.metadata\n",
      "  Downloading flask-3.1.0-py3-none-any.whl.metadata (2.7 kB)\n",
      "Collecting Jinja2<4,>=3.0 (from mlflow)\n",
      "  Obtaining dependency information for Jinja2<4,>=3.0 from https://files.pythonhosted.org/packages/31/80/3a54838c3fb461f6fec263ebf3a3a41771bd05190238de3486aae8540c36/jinja2-3.1.4-py3-none-any.whl.metadata\n",
      "  Downloading jinja2-3.1.4-py3-none-any.whl.metadata (2.6 kB)\n",
      "Collecting alembic!=1.10.0,<2 (from mlflow)\n",
      "  Obtaining dependency information for alembic!=1.10.0,<2 from https://files.pythonhosted.org/packages/cb/06/8b505aea3d77021b18dcbd8133aa1418f1a1e37e432a465b14c46b2c0eaa/alembic-1.14.0-py3-none-any.whl.metadata\n",
      "  Downloading alembic-1.14.0-py3-none-any.whl.metadata (7.4 kB)\n",
      "Collecting docker<8,>=4.0.0 (from mlflow)\n",
      "  Obtaining dependency information for docker<8,>=4.0.0 from https://files.pythonhosted.org/packages/e3/26/57c6fb270950d476074c087527a558ccb6f4436657314bfb6cdf484114c4/docker-7.1.0-py3-none-any.whl.metadata\n",
      "  Downloading docker-7.1.0-py3-none-any.whl.metadata (3.8 kB)\n",
      "Collecting graphene<4 (from mlflow)\n",
      "  Obtaining dependency information for graphene<4 from https://files.pythonhosted.org/packages/66/e0/61d8e98007182e6b2aca7cf65904721fb2e4bce0192272ab9cb6f69d8812/graphene-3.4.3-py2.py3-none-any.whl.metadata\n",
      "  Downloading graphene-3.4.3-py2.py3-none-any.whl.metadata (6.9 kB)\n",
      "Collecting markdown<4,>=3.3 (from mlflow)\n",
      "  Obtaining dependency information for markdown<4,>=3.3 from https://files.pythonhosted.org/packages/3f/08/83871f3c50fc983b88547c196d11cf8c3340e37c32d2e9d6152abe2c61f7/Markdown-3.7-py3-none-any.whl.metadata\n",
      "  Downloading Markdown-3.7-py3-none-any.whl.metadata (7.0 kB)\n",
      "Collecting matplotlib<4 (from mlflow)\n",
      "  Obtaining dependency information for matplotlib<4 from https://files.pythonhosted.org/packages/14/cf/e382598f98be11bf51dd0bc60eca44a517f6793e3dc8b9d53634a144620c/matplotlib-3.10.0-cp311-cp311-win_amd64.whl.metadata\n",
      "  Downloading matplotlib-3.10.0-cp311-cp311-win_amd64.whl.metadata (11 kB)\n",
      "Collecting numpy<3 (from mlflow)\n",
      "  Obtaining dependency information for numpy<3 from https://files.pythonhosted.org/packages/d0/06/3d1ff6ed377cb0340baf90487a35f15f9dc1db8e0a07de2bf2c54a8e490f/numpy-2.2.0-cp311-cp311-win_amd64.whl.metadata\n",
      "  Downloading numpy-2.2.0-cp311-cp311-win_amd64.whl.metadata (60 kB)\n",
      "     ---------------------------------------- 0.0/60.8 kB ? eta -:--:--\n",
      "     ---------------------------------------- 60.8/60.8 kB 3.2 MB/s eta 0:00:00\n",
      "Collecting pandas<3 (from mlflow)\n",
      "  Obtaining dependency information for pandas<3 from https://files.pythonhosted.org/packages/ed/8c/87ddf1fcb55d11f9f847e3c69bb1c6f8e46e2f40ab1a2d2abadb2401b007/pandas-2.2.3-cp311-cp311-win_amd64.whl.metadata\n",
      "  Downloading pandas-2.2.3-cp311-cp311-win_amd64.whl.metadata (19 kB)\n",
      "Collecting pyarrow<19,>=4.0.0 (from mlflow)\n",
      "  Obtaining dependency information for pyarrow<19,>=4.0.0 from https://files.pythonhosted.org/packages/4d/a3/817ac7fe0891a2d66e247e223080f3a6a262d8aefd77e11e8c27e6acf4e1/pyarrow-18.1.0-cp311-cp311-win_amd64.whl.metadata\n",
      "  Downloading pyarrow-18.1.0-cp311-cp311-win_amd64.whl.metadata (3.4 kB)\n",
      "Collecting scikit-learn<2 (from mlflow)\n",
      "  Obtaining dependency information for scikit-learn<2 from https://files.pythonhosted.org/packages/96/a2/cbfb5743de748d574ffdfd557e9cb29ba4f8b8a3e07836c6c176f713de2f/scikit_learn-1.6.0-cp311-cp311-win_amd64.whl.metadata\n",
      "  Downloading scikit_learn-1.6.0-cp311-cp311-win_amd64.whl.metadata (15 kB)\n",
      "Collecting scipy<2 (from mlflow)\n",
      "  Obtaining dependency information for scipy<2 from https://files.pythonhosted.org/packages/ea/c2/5ecadc5fcccefaece775feadcd795060adf5c3b29a883bff0e678cfe89af/scipy-1.14.1-cp311-cp311-win_amd64.whl.metadata\n",
      "  Downloading scipy-1.14.1-cp311-cp311-win_amd64.whl.metadata (60 kB)\n",
      "     ---------------------------------------- 0.0/60.8 kB ? eta -:--:--\n",
      "     ---------------------------------------- 60.8/60.8 kB 3.2 MB/s eta 0:00:00\n",
      "Collecting sqlalchemy<3,>=1.4.0 (from mlflow)\n",
      "  Obtaining dependency information for sqlalchemy<3,>=1.4.0 from https://files.pythonhosted.org/packages/b1/03/d12b7c1d36fd80150c1d52e121614cf9377dac99e5497af8d8f5b2a8db64/SQLAlchemy-2.0.36-cp311-cp311-win_amd64.whl.metadata\n",
      "  Downloading SQLAlchemy-2.0.36-cp311-cp311-win_amd64.whl.metadata (9.9 kB)\n",
      "Collecting waitress<4 (from mlflow)\n",
      "  Obtaining dependency information for waitress<4 from https://files.pythonhosted.org/packages/8d/57/a27182528c90ef38d82b636a11f606b0cbb0e17588ed205435f8affe3368/waitress-3.0.2-py3-none-any.whl.metadata\n",
      "  Downloading waitress-3.0.2-py3-none-any.whl.metadata (5.8 kB)\n",
      "Collecting cachetools<6,>=5.0.0 (from mlflow-skinny==2.19.0->mlflow)\n",
      "  Obtaining dependency information for cachetools<6,>=5.0.0 from https://files.pythonhosted.org/packages/a4/07/14f8ad37f2d12a5ce41206c21820d8cb6561b728e51fad4530dff0552a67/cachetools-5.5.0-py3-none-any.whl.metadata\n",
      "  Using cached cachetools-5.5.0-py3-none-any.whl.metadata (5.3 kB)\n",
      "Collecting click<9,>=7.0 (from mlflow-skinny==2.19.0->mlflow)\n",
      "  Obtaining dependency information for click<9,>=7.0 from https://files.pythonhosted.org/packages/00/2e/d53fa4befbf2cfa713304affc7ca780ce4fc1fd8710527771b58311a3229/click-8.1.7-py3-none-any.whl.metadata\n",
      "  Downloading click-8.1.7-py3-none-any.whl.metadata (3.0 kB)\n",
      "Collecting cloudpickle<4 (from mlflow-skinny==2.19.0->mlflow)\n",
      "  Obtaining dependency information for cloudpickle<4 from https://files.pythonhosted.org/packages/48/41/e1d85ca3cab0b674e277c8c4f678cf66a91cd2cecf93df94353a606fe0db/cloudpickle-3.1.0-py3-none-any.whl.metadata\n",
      "  Downloading cloudpickle-3.1.0-py3-none-any.whl.metadata (7.0 kB)\n",
      "Collecting databricks-sdk<1,>=0.20.0 (from mlflow-skinny==2.19.0->mlflow)\n",
      "  Obtaining dependency information for databricks-sdk<1,>=0.20.0 from https://files.pythonhosted.org/packages/10/f8/190dce0b219596fe2cc0bb93b95e0498de17ce593aeb052949518287c15f/databricks_sdk-0.40.0-py3-none-any.whl.metadata\n",
      "  Downloading databricks_sdk-0.40.0-py3-none-any.whl.metadata (38 kB)\n",
      "Collecting gitpython<4,>=3.1.9 (from mlflow-skinny==2.19.0->mlflow)\n",
      "  Obtaining dependency information for gitpython<4,>=3.1.9 from https://files.pythonhosted.org/packages/e9/bd/cc3a402a6439c15c3d4294333e13042b915bbeab54edc457c723931fed3f/GitPython-3.1.43-py3-none-any.whl.metadata\n",
      "  Using cached GitPython-3.1.43-py3-none-any.whl.metadata (13 kB)\n",
      "Collecting importlib_metadata!=4.7.0,<9,>=3.7.0 (from mlflow-skinny==2.19.0->mlflow)\n",
      "  Obtaining dependency information for importlib_metadata!=4.7.0,<9,>=3.7.0 from https://files.pythonhosted.org/packages/a0/d9/a1e041c5e7caa9a05c925f4bdbdfb7f006d1f74996af53467bc394c97be7/importlib_metadata-8.5.0-py3-none-any.whl.metadata\n",
      "  Downloading importlib_metadata-8.5.0-py3-none-any.whl.metadata (4.8 kB)\n",
      "Collecting opentelemetry-api<3,>=1.9.0 (from mlflow-skinny==2.19.0->mlflow)\n",
      "  Obtaining dependency information for opentelemetry-api<3,>=1.9.0 from https://files.pythonhosted.org/packages/43/53/5249ea860d417a26a3a6f1bdedfc0748c4f081a3adaec3d398bc0f7c6a71/opentelemetry_api-1.29.0-py3-none-any.whl.metadata\n",
      "  Downloading opentelemetry_api-1.29.0-py3-none-any.whl.metadata (1.4 kB)\n",
      "Collecting opentelemetry-sdk<3,>=1.9.0 (from mlflow-skinny==2.19.0->mlflow)\n",
      "  Obtaining dependency information for opentelemetry-sdk<3,>=1.9.0 from https://files.pythonhosted.org/packages/d1/1d/512b86af21795fb463726665e2f61db77d384e8779fdcf4cb0ceec47866d/opentelemetry_sdk-1.29.0-py3-none-any.whl.metadata\n",
      "  Downloading opentelemetry_sdk-1.29.0-py3-none-any.whl.metadata (1.5 kB)\n",
      "Collecting packaging<25 (from mlflow-skinny==2.19.0->mlflow)\n",
      "  Obtaining dependency information for packaging<25 from https://files.pythonhosted.org/packages/88/ef/eb23f262cca3c0c4eb7ab1933c3b1f03d021f2c48f54763065b6f0e321be/packaging-24.2-py3-none-any.whl.metadata\n",
      "  Downloading packaging-24.2-py3-none-any.whl.metadata (3.2 kB)\n",
      "Collecting protobuf<6,>=3.12.0 (from mlflow-skinny==2.19.0->mlflow)\n",
      "  Obtaining dependency information for protobuf<6,>=3.12.0 from https://files.pythonhosted.org/packages/6c/38/2fcc968b377b531882d6ab2ac99b10ca6d00108394f6ff57c2395fb7baff/protobuf-5.29.2-cp310-abi3-win_amd64.whl.metadata\n",
      "  Using cached protobuf-5.29.2-cp310-abi3-win_amd64.whl.metadata (592 bytes)\n",
      "Collecting pyyaml<7,>=5.1 (from mlflow-skinny==2.19.0->mlflow)\n",
      "  Obtaining dependency information for pyyaml<7,>=5.1 from https://files.pythonhosted.org/packages/ed/23/8da0bbe2ab9dcdd11f4f4557ccaf95c10b9811b13ecced089d43ce59c3c8/PyYAML-6.0.2-cp311-cp311-win_amd64.whl.metadata\n",
      "  Downloading PyYAML-6.0.2-cp311-cp311-win_amd64.whl.metadata (2.1 kB)\n",
      "Collecting requests<3,>=2.17.3 (from mlflow-skinny==2.19.0->mlflow)\n",
      "  Obtaining dependency information for requests<3,>=2.17.3 from https://files.pythonhosted.org/packages/f9/9b/335f9764261e915ed497fcdeb11df5dfd6f7bf257d4a6a2a686d80da4d54/requests-2.32.3-py3-none-any.whl.metadata\n",
      "  Downloading requests-2.32.3-py3-none-any.whl.metadata (4.6 kB)\n",
      "Collecting sqlparse<1,>=0.4.0 (from mlflow-skinny==2.19.0->mlflow)\n",
      "  Obtaining dependency information for sqlparse<1,>=0.4.0 from https://files.pythonhosted.org/packages/a9/5c/bfd6bd0bf979426d405cc6e71eceb8701b148b16c21d2dc3c261efc61c7b/sqlparse-0.5.3-py3-none-any.whl.metadata\n",
      "  Downloading sqlparse-0.5.3-py3-none-any.whl.metadata (3.9 kB)\n",
      "Collecting Mako (from alembic!=1.10.0,<2->mlflow)\n",
      "  Obtaining dependency information for Mako from https://files.pythonhosted.org/packages/1e/bf/7a6a36ce2e4cafdfb202752be68850e22607fccd692847c45c1ae3c17ba6/Mako-1.3.8-py3-none-any.whl.metadata\n",
      "  Downloading Mako-1.3.8-py3-none-any.whl.metadata (2.9 kB)\n",
      "Collecting typing-extensions>=4 (from alembic!=1.10.0,<2->mlflow)\n",
      "  Obtaining dependency information for typing-extensions>=4 from https://files.pythonhosted.org/packages/26/9f/ad63fc0248c5379346306f8668cda6e2e2e9c95e01216d2b8ffd9ff037d0/typing_extensions-4.12.2-py3-none-any.whl.metadata\n",
      "  Using cached typing_extensions-4.12.2-py3-none-any.whl.metadata (3.0 kB)\n",
      "Collecting pywin32>=304 (from docker<8,>=4.0.0->mlflow)\n",
      "  Obtaining dependency information for pywin32>=304 from https://files.pythonhosted.org/packages/48/ef/f4fb45e2196bc7ffe09cad0542d9aff66b0e33f6c0954b43e49c33cad7bd/pywin32-308-cp311-cp311-win_amd64.whl.metadata\n",
      "  Downloading pywin32-308-cp311-cp311-win_amd64.whl.metadata (8.3 kB)\n",
      "Collecting urllib3>=1.26.0 (from docker<8,>=4.0.0->mlflow)\n",
      "  Obtaining dependency information for urllib3>=1.26.0 from https://files.pythonhosted.org/packages/ce/d9/5f4c13cecde62396b0d3fe530a50ccea91e7dfc1ccf0e09c228841bb5ba8/urllib3-2.2.3-py3-none-any.whl.metadata\n",
      "  Downloading urllib3-2.2.3-py3-none-any.whl.metadata (6.5 kB)\n",
      "Collecting Werkzeug>=3.1 (from Flask<4->mlflow)\n",
      "  Obtaining dependency information for Werkzeug>=3.1 from https://files.pythonhosted.org/packages/52/24/ab44c871b0f07f491e5d2ad12c9bd7358e527510618cb1b803a88e986db1/werkzeug-3.1.3-py3-none-any.whl.metadata\n",
      "  Downloading werkzeug-3.1.3-py3-none-any.whl.metadata (3.7 kB)\n",
      "Collecting itsdangerous>=2.2 (from Flask<4->mlflow)\n",
      "  Obtaining dependency information for itsdangerous>=2.2 from https://files.pythonhosted.org/packages/04/96/92447566d16df59b2a776c0fb82dbc4d9e07cd95062562af01e408583fc4/itsdangerous-2.2.0-py3-none-any.whl.metadata\n",
      "  Downloading itsdangerous-2.2.0-py3-none-any.whl.metadata (1.9 kB)\n",
      "Collecting blinker>=1.9 (from Flask<4->mlflow)\n",
      "  Obtaining dependency information for blinker>=1.9 from https://files.pythonhosted.org/packages/10/cb/f2ad4230dc2eb1a74edf38f1a38b9b52277f75bef262d8908e60d957e13c/blinker-1.9.0-py3-none-any.whl.metadata\n",
      "  Using cached blinker-1.9.0-py3-none-any.whl.metadata (1.6 kB)\n",
      "Collecting graphql-core<3.3,>=3.1 (from graphene<4->mlflow)\n",
      "  Obtaining dependency information for graphql-core<3.3,>=3.1 from https://files.pythonhosted.org/packages/e3/dc/078bd6b304de790618ebb95e2aedaadb78f4527ac43a9ad8815f006636b6/graphql_core-3.2.5-py3-none-any.whl.metadata\n",
      "  Downloading graphql_core-3.2.5-py3-none-any.whl.metadata (10 kB)\n",
      "Collecting graphql-relay<3.3,>=3.1 (from graphene<4->mlflow)\n",
      "  Obtaining dependency information for graphql-relay<3.3,>=3.1 from https://files.pythonhosted.org/packages/74/16/a4cf06adbc711bd364a73ce043b0b08d8fa5aae3df11b6ee4248bcdad2e0/graphql_relay-3.2.0-py3-none-any.whl.metadata\n",
      "  Downloading graphql_relay-3.2.0-py3-none-any.whl.metadata (12 kB)\n",
      "Collecting python-dateutil<3,>=2.7.0 (from graphene<4->mlflow)\n",
      "  Obtaining dependency information for python-dateutil<3,>=2.7.0 from https://files.pythonhosted.org/packages/ec/57/56b9bcc3c9c6a792fcbaf139543cee77261f3651ca9da0c93f5c1221264b/python_dateutil-2.9.0.post0-py2.py3-none-any.whl.metadata\n",
      "  Downloading python_dateutil-2.9.0.post0-py2.py3-none-any.whl.metadata (8.4 kB)\n",
      "Collecting MarkupSafe>=2.0 (from Jinja2<4,>=3.0->mlflow)\n",
      "  Obtaining dependency information for MarkupSafe>=2.0 from https://files.pythonhosted.org/packages/da/b8/3a3bd761922d416f3dc5d00bfbed11f66b1ab89a0c2b6e887240a30b0f6b/MarkupSafe-3.0.2-cp311-cp311-win_amd64.whl.metadata\n",
      "  Downloading MarkupSafe-3.0.2-cp311-cp311-win_amd64.whl.metadata (4.1 kB)\n",
      "Collecting contourpy>=1.0.1 (from matplotlib<4->mlflow)\n",
      "  Obtaining dependency information for contourpy>=1.0.1 from https://files.pythonhosted.org/packages/a8/7e/cd93cab453720a5d6cb75588cc17dcdc08fc3484b9de98b885924ff61900/contourpy-1.3.1-cp311-cp311-win_amd64.whl.metadata\n",
      "  Downloading contourpy-1.3.1-cp311-cp311-win_amd64.whl.metadata (5.4 kB)\n",
      "Collecting cycler>=0.10 (from matplotlib<4->mlflow)\n",
      "  Obtaining dependency information for cycler>=0.10 from https://files.pythonhosted.org/packages/e7/05/c19819d5e3d95294a6f5947fb9b9629efb316b96de511b418c53d245aae6/cycler-0.12.1-py3-none-any.whl.metadata\n",
      "  Downloading cycler-0.12.1-py3-none-any.whl.metadata (3.8 kB)\n",
      "Collecting fonttools>=4.22.0 (from matplotlib<4->mlflow)\n",
      "  Obtaining dependency information for fonttools>=4.22.0 from https://files.pythonhosted.org/packages/be/36/d74ae1020bc41a1dff3e6f5a99f646563beecb97e386d27abdac3ba07650/fonttools-4.55.3-cp311-cp311-win_amd64.whl.metadata\n",
      "  Downloading fonttools-4.55.3-cp311-cp311-win_amd64.whl.metadata (168 kB)\n",
      "     ---------------------------------------- 0.0/168.5 kB ? eta -:--:--\n",
      "     --------------------- ----------------- 92.2/168.5 kB 5.1 MB/s eta 0:00:01\n",
      "     --------------------- ----------------- 92.2/168.5 kB 5.1 MB/s eta 0:00:01\n",
      "     --------------------- ----------------- 92.2/168.5 kB 5.1 MB/s eta 0:00:01\n",
      "     --------------------- ----------------- 92.2/168.5 kB 5.1 MB/s eta 0:00:01\n",
      "     --------------------- ----------------- 92.2/168.5 kB 5.1 MB/s eta 0:00:01\n",
      "     --------------------- ----------------- 92.2/168.5 kB 5.1 MB/s eta 0:00:01\n",
      "     ------------------------------------ 168.5/168.5 kB 505.6 kB/s eta 0:00:00\n",
      "Collecting kiwisolver>=1.3.1 (from matplotlib<4->mlflow)\n",
      "  Obtaining dependency information for kiwisolver>=1.3.1 from https://files.pythonhosted.org/packages/a1/65/d43e9a20aabcf2e798ad1aff6c143ae3a42cf506754bcb6a7ed8259c8425/kiwisolver-1.4.7-cp311-cp311-win_amd64.whl.metadata\n",
      "  Downloading kiwisolver-1.4.7-cp311-cp311-win_amd64.whl.metadata (6.4 kB)\n",
      "Collecting pillow>=8 (from matplotlib<4->mlflow)\n",
      "  Obtaining dependency information for pillow>=8 from https://files.pythonhosted.org/packages/dc/83/1470c220a4ff06cd75fc609068f6605e567ea51df70557555c2ab6516b2c/pillow-11.0.0-cp311-cp311-win_amd64.whl.metadata\n",
      "  Downloading pillow-11.0.0-cp311-cp311-win_amd64.whl.metadata (9.3 kB)\n",
      "Collecting pyparsing>=2.3.1 (from matplotlib<4->mlflow)\n",
      "  Obtaining dependency information for pyparsing>=2.3.1 from https://files.pythonhosted.org/packages/be/ec/2eb3cd785efd67806c46c13a17339708ddc346cbb684eade7a6e6f79536a/pyparsing-3.2.0-py3-none-any.whl.metadata\n",
      "  Downloading pyparsing-3.2.0-py3-none-any.whl.metadata (5.0 kB)\n",
      "Collecting pytz>=2020.1 (from pandas<3->mlflow)\n",
      "  Obtaining dependency information for pytz>=2020.1 from https://files.pythonhosted.org/packages/11/c3/005fcca25ce078d2cc29fd559379817424e94885510568bc1bc53d7d5846/pytz-2024.2-py2.py3-none-any.whl.metadata\n",
      "  Downloading pytz-2024.2-py2.py3-none-any.whl.metadata (22 kB)\n",
      "Collecting tzdata>=2022.7 (from pandas<3->mlflow)\n",
      "  Obtaining dependency information for tzdata>=2022.7 from https://files.pythonhosted.org/packages/a6/ab/7e5f53c3b9d14972843a647d8d7a853969a58aecc7559cb3267302c94774/tzdata-2024.2-py2.py3-none-any.whl.metadata\n",
      "  Downloading tzdata-2024.2-py2.py3-none-any.whl.metadata (1.4 kB)\n",
      "Collecting joblib>=1.2.0 (from scikit-learn<2->mlflow)\n",
      "  Obtaining dependency information for joblib>=1.2.0 from https://files.pythonhosted.org/packages/91/29/df4b9b42f2be0b623cbd5e2140cafcaa2bef0759a00b7b70104dcfe2fb51/joblib-1.4.2-py3-none-any.whl.metadata\n",
      "  Downloading joblib-1.4.2-py3-none-any.whl.metadata (5.4 kB)\n",
      "Collecting threadpoolctl>=3.1.0 (from scikit-learn<2->mlflow)\n",
      "  Obtaining dependency information for threadpoolctl>=3.1.0 from https://files.pythonhosted.org/packages/4b/2c/ffbf7a134b9ab11a67b0cf0726453cedd9c5043a4fe7a35d1cefa9a1bcfb/threadpoolctl-3.5.0-py3-none-any.whl.metadata\n",
      "  Downloading threadpoolctl-3.5.0-py3-none-any.whl.metadata (13 kB)\n",
      "Collecting greenlet!=0.4.17 (from sqlalchemy<3,>=1.4.0->mlflow)\n",
      "  Obtaining dependency information for greenlet!=0.4.17 from https://files.pythonhosted.org/packages/12/da/b9ed5e310bb8b89661b80cbcd4db5a067903bbcd7fc854923f5ebb4144f0/greenlet-3.1.1-cp311-cp311-win_amd64.whl.metadata\n",
      "  Downloading greenlet-3.1.1-cp311-cp311-win_amd64.whl.metadata (3.9 kB)\n",
      "Collecting colorama (from click<9,>=7.0->mlflow-skinny==2.19.0->mlflow)\n",
      "  Obtaining dependency information for colorama from https://files.pythonhosted.org/packages/d1/d6/3965ed04c63042e047cb6a3e6ed1a63a35087b6a609aa3a15ed8ac56c221/colorama-0.4.6-py2.py3-none-any.whl.metadata\n",
      "  Downloading colorama-0.4.6-py2.py3-none-any.whl.metadata (17 kB)\n",
      "Collecting google-auth~=2.0 (from databricks-sdk<1,>=0.20.0->mlflow-skinny==2.19.0->mlflow)\n",
      "  Obtaining dependency information for google-auth~=2.0 from https://files.pythonhosted.org/packages/8d/8d/4d5d5f9f500499f7bd4c93903b43e8d6976f3fc6f064637ded1a85d09b07/google_auth-2.37.0-py2.py3-none-any.whl.metadata\n",
      "  Downloading google_auth-2.37.0-py2.py3-none-any.whl.metadata (4.8 kB)\n",
      "Collecting gitdb<5,>=4.0.1 (from gitpython<4,>=3.1.9->mlflow-skinny==2.19.0->mlflow)\n",
      "  Obtaining dependency information for gitdb<5,>=4.0.1 from https://files.pythonhosted.org/packages/fd/5b/8f0c4a5bb9fd491c277c21eff7ccae71b47d43c4446c9d0c6cff2fe8c2c4/gitdb-4.0.11-py3-none-any.whl.metadata\n",
      "  Using cached gitdb-4.0.11-py3-none-any.whl.metadata (1.2 kB)\n",
      "Collecting zipp>=3.20 (from importlib_metadata!=4.7.0,<9,>=3.7.0->mlflow-skinny==2.19.0->mlflow)\n",
      "  Obtaining dependency information for zipp>=3.20 from https://files.pythonhosted.org/packages/b7/1a/7e4798e9339adc931158c9d69ecc34f5e6791489d469f5e50ec15e35f458/zipp-3.21.0-py3-none-any.whl.metadata\n",
      "  Downloading zipp-3.21.0-py3-none-any.whl.metadata (3.7 kB)\n",
      "Collecting deprecated>=1.2.6 (from opentelemetry-api<3,>=1.9.0->mlflow-skinny==2.19.0->mlflow)\n",
      "  Obtaining dependency information for deprecated>=1.2.6 from https://files.pythonhosted.org/packages/1d/8f/c7f227eb42cfeaddce3eb0c96c60cbca37797fa7b34f8e1aeadf6c5c0983/Deprecated-1.2.15-py2.py3-none-any.whl.metadata\n",
      "  Downloading Deprecated-1.2.15-py2.py3-none-any.whl.metadata (5.5 kB)\n",
      "Collecting opentelemetry-semantic-conventions==0.50b0 (from opentelemetry-sdk<3,>=1.9.0->mlflow-skinny==2.19.0->mlflow)\n",
      "  Obtaining dependency information for opentelemetry-semantic-conventions==0.50b0 from https://files.pythonhosted.org/packages/da/fb/dc15fad105450a015e913cfa4f5c27b6a5f1bea8fb649f8cae11e699c8af/opentelemetry_semantic_conventions-0.50b0-py3-none-any.whl.metadata\n",
      "  Downloading opentelemetry_semantic_conventions-0.50b0-py3-none-any.whl.metadata (2.3 kB)\n",
      "Collecting six>=1.5 (from python-dateutil<3,>=2.7.0->graphene<4->mlflow)\n",
      "  Obtaining dependency information for six>=1.5 from https://files.pythonhosted.org/packages/b7/ce/149a00dd41f10bc29e5921b496af8b574d8413afcd5e30dfa0ed46c2cc5e/six-1.17.0-py2.py3-none-any.whl.metadata\n",
      "  Downloading six-1.17.0-py2.py3-none-any.whl.metadata (1.7 kB)\n",
      "Collecting charset-normalizer<4,>=2 (from requests<3,>=2.17.3->mlflow-skinny==2.19.0->mlflow)\n",
      "  Obtaining dependency information for charset-normalizer<4,>=2 from https://files.pythonhosted.org/packages/0b/6e/b13bd47fa9023b3699e94abf565b5a2f0b0be6e9ddac9812182596ee62e4/charset_normalizer-3.4.0-cp311-cp311-win_amd64.whl.metadata\n",
      "  Downloading charset_normalizer-3.4.0-cp311-cp311-win_amd64.whl.metadata (34 kB)\n",
      "Collecting idna<4,>=2.5 (from requests<3,>=2.17.3->mlflow-skinny==2.19.0->mlflow)\n",
      "  Obtaining dependency information for idna<4,>=2.5 from https://files.pythonhosted.org/packages/76/c6/c88e154df9c4e1a2a66ccf0005a88dfb2650c1dffb6f5ce603dfbd452ce3/idna-3.10-py3-none-any.whl.metadata\n",
      "  Downloading idna-3.10-py3-none-any.whl.metadata (10 kB)\n",
      "Collecting certifi>=2017.4.17 (from requests<3,>=2.17.3->mlflow-skinny==2.19.0->mlflow)\n",
      "  Obtaining dependency information for certifi>=2017.4.17 from https://files.pythonhosted.org/packages/a5/32/8f6669fc4798494966bf446c8c4a162e0b5d893dff088afddf76414f70e1/certifi-2024.12.14-py3-none-any.whl.metadata\n",
      "  Downloading certifi-2024.12.14-py3-none-any.whl.metadata (2.3 kB)\n",
      "Collecting wrapt<2,>=1.10 (from deprecated>=1.2.6->opentelemetry-api<3,>=1.9.0->mlflow-skinny==2.19.0->mlflow)\n",
      "  Obtaining dependency information for wrapt<2,>=1.10 from https://files.pythonhosted.org/packages/63/bb/c293a67fb765a2ada48f48cd0f2bb957da8161439da4c03ea123b9894c02/wrapt-1.17.0-cp311-cp311-win_amd64.whl.metadata\n",
      "  Downloading wrapt-1.17.0-cp311-cp311-win_amd64.whl.metadata (6.5 kB)\n",
      "Collecting smmap<6,>=3.0.1 (from gitdb<5,>=4.0.1->gitpython<4,>=3.1.9->mlflow-skinny==2.19.0->mlflow)\n",
      "  Obtaining dependency information for smmap<6,>=3.0.1 from https://files.pythonhosted.org/packages/a7/a5/10f97f73544edcdef54409f1d839f6049a0d79df68adbc1ceb24d1aaca42/smmap-5.0.1-py3-none-any.whl.metadata\n",
      "  Using cached smmap-5.0.1-py3-none-any.whl.metadata (4.3 kB)\n",
      "Collecting pyasn1-modules>=0.2.1 (from google-auth~=2.0->databricks-sdk<1,>=0.20.0->mlflow-skinny==2.19.0->mlflow)\n",
      "  Obtaining dependency information for pyasn1-modules>=0.2.1 from https://files.pythonhosted.org/packages/77/89/bc88a6711935ba795a679ea6ebee07e128050d6382eaa35a0a47c8032bdc/pyasn1_modules-0.4.1-py3-none-any.whl.metadata\n",
      "  Downloading pyasn1_modules-0.4.1-py3-none-any.whl.metadata (3.5 kB)\n",
      "Collecting rsa<5,>=3.1.4 (from google-auth~=2.0->databricks-sdk<1,>=0.20.0->mlflow-skinny==2.19.0->mlflow)\n",
      "  Obtaining dependency information for rsa<5,>=3.1.4 from https://files.pythonhosted.org/packages/49/97/fa78e3d2f65c02c8e1268b9aba606569fe97f6c8f7c2d74394553347c145/rsa-4.9-py3-none-any.whl.metadata\n",
      "  Downloading rsa-4.9-py3-none-any.whl.metadata (4.2 kB)\n",
      "Collecting pyasn1<0.7.0,>=0.4.6 (from pyasn1-modules>=0.2.1->google-auth~=2.0->databricks-sdk<1,>=0.20.0->mlflow-skinny==2.19.0->mlflow)\n",
      "  Obtaining dependency information for pyasn1<0.7.0,>=0.4.6 from https://files.pythonhosted.org/packages/c8/f1/d6a797abb14f6283c0ddff96bbdd46937f64122b8c925cab503dd37f8214/pyasn1-0.6.1-py3-none-any.whl.metadata\n",
      "  Downloading pyasn1-0.6.1-py3-none-any.whl.metadata (8.4 kB)\n",
      "Downloading mlflow-2.19.0-py3-none-any.whl (27.4 MB)\n",
      "   ---------------------------------------- 0.0/27.4 MB ? eta -:--:--\n",
      "   ---------------------------------------- 0.1/27.4 MB 3.6 MB/s eta 0:00:08\n",
      "   ---------------------------------------- 0.2/27.4 MB 2.4 MB/s eta 0:00:12\n",
      "    --------------------------------------- 0.4/27.4 MB 3.2 MB/s eta 0:00:09\n",
      "    --------------------------------------- 0.5/27.4 MB 2.4 MB/s eta 0:00:12\n",
      "    --------------------------------------- 0.6/27.4 MB 2.7 MB/s eta 0:00:11\n",
      "   - -------------------------------------- 0.7/27.4 MB 2.6 MB/s eta 0:00:11\n",
      "   - -------------------------------------- 0.8/27.4 MB 2.7 MB/s eta 0:00:10\n",
      "   - -------------------------------------- 1.1/27.4 MB 2.8 MB/s eta 0:00:10\n",
      "   - -------------------------------------- 1.1/27.4 MB 2.9 MB/s eta 0:00:10\n",
      "   - -------------------------------------- 1.3/27.4 MB 2.7 MB/s eta 0:00:10\n",
      "   - -------------------------------------- 1.3/27.4 MB 2.7 MB/s eta 0:00:10\n",
      "   -- ------------------------------------- 1.5/27.4 MB 2.7 MB/s eta 0:00:10\n",
      "   -- ------------------------------------- 1.6/27.4 MB 2.7 MB/s eta 0:00:10\n",
      "   -- ------------------------------------- 1.9/27.4 MB 2.8 MB/s eta 0:00:09\n",
      "   -- ------------------------------------- 1.9/27.4 MB 2.7 MB/s eta 0:00:10\n",
      "   --- ------------------------------------ 2.2/27.4 MB 3.0 MB/s eta 0:00:09\n",
      "   --- ------------------------------------ 2.3/27.4 MB 2.9 MB/s eta 0:00:09\n",
      "   --- ------------------------------------ 2.5/27.4 MB 3.0 MB/s eta 0:00:09\n",
      "   --- ------------------------------------ 2.6/27.4 MB 2.9 MB/s eta 0:00:09\n",
      "   ---- ----------------------------------- 2.8/27.4 MB 3.0 MB/s eta 0:00:09\n",
      "   ---- ----------------------------------- 2.9/27.4 MB 3.0 MB/s eta 0:00:09\n",
      "   ---- ----------------------------------- 3.1/27.4 MB 3.0 MB/s eta 0:00:08\n",
      "   ---- ----------------------------------- 3.1/27.4 MB 2.9 MB/s eta 0:00:09\n",
      "   ---- ----------------------------------- 3.2/27.4 MB 2.9 MB/s eta 0:00:09\n",
      "   ---- ----------------------------------- 3.3/27.4 MB 2.8 MB/s eta 0:00:09\n",
      "   ---- ----------------------------------- 3.4/27.4 MB 2.8 MB/s eta 0:00:09\n",
      "   ----- ---------------------------------- 3.5/27.4 MB 2.8 MB/s eta 0:00:09\n",
      "   ----- ---------------------------------- 3.6/27.4 MB 2.8 MB/s eta 0:00:09\n",
      "   ----- ---------------------------------- 3.6/27.4 MB 2.8 MB/s eta 0:00:09\n",
      "   ----- ---------------------------------- 3.6/27.4 MB 2.8 MB/s eta 0:00:09\n",
      "   ----- ---------------------------------- 3.6/27.4 MB 2.8 MB/s eta 0:00:09\n",
      "   ----- ---------------------------------- 3.6/27.4 MB 2.8 MB/s eta 0:00:09\n",
      "   ------ --------------------------------- 4.2/27.4 MB 2.7 MB/s eta 0:00:09\n",
      "   ------ --------------------------------- 4.2/27.4 MB 2.7 MB/s eta 0:00:09\n",
      "   ------ --------------------------------- 4.4/27.4 MB 2.7 MB/s eta 0:00:09\n",
      "   ------ --------------------------------- 4.4/27.4 MB 2.7 MB/s eta 0:00:09\n",
      "   ------ --------------------------------- 4.6/27.4 MB 2.7 MB/s eta 0:00:09\n",
      "   ------ --------------------------------- 4.7/27.4 MB 2.7 MB/s eta 0:00:09\n",
      "   ------ --------------------------------- 4.7/27.4 MB 2.7 MB/s eta 0:00:09\n",
      "   ------ --------------------------------- 4.7/27.4 MB 2.5 MB/s eta 0:00:09\n",
      "   ------ --------------------------------- 4.7/27.4 MB 2.5 MB/s eta 0:00:09\n",
      "   ------ --------------------------------- 4.7/27.4 MB 2.5 MB/s eta 0:00:09\n",
      "   ------ --------------------------------- 4.7/27.4 MB 2.4 MB/s eta 0:00:10\n",
      "   ------ --------------------------------- 4.7/27.4 MB 2.4 MB/s eta 0:00:10\n",
      "   ------- -------------------------------- 4.9/27.4 MB 2.3 MB/s eta 0:00:10\n",
      "   ------- -------------------------------- 5.0/27.4 MB 2.3 MB/s eta 0:00:10\n",
      "   ------- -------------------------------- 5.2/27.4 MB 2.3 MB/s eta 0:00:10\n",
      "   ------- -------------------------------- 5.3/27.4 MB 2.3 MB/s eta 0:00:10\n",
      "   ------- -------------------------------- 5.4/27.4 MB 2.4 MB/s eta 0:00:10\n",
      "   -------- ------------------------------- 5.6/27.4 MB 2.4 MB/s eta 0:00:10\n",
      "   -------- ------------------------------- 5.7/27.4 MB 2.4 MB/s eta 0:00:09\n",
      "   -------- ------------------------------- 5.9/27.4 MB 2.4 MB/s eta 0:00:09\n",
      "   -------- ------------------------------- 5.9/27.4 MB 2.4 MB/s eta 0:00:09\n",
      "   -------- ------------------------------- 6.2/27.4 MB 2.4 MB/s eta 0:00:09\n",
      "   --------- ------------------------------ 6.3/27.4 MB 2.5 MB/s eta 0:00:09\n",
      "   --------- ------------------------------ 6.5/27.4 MB 2.5 MB/s eta 0:00:09\n",
      "   --------- ------------------------------ 6.6/27.4 MB 2.5 MB/s eta 0:00:09\n",
      "   --------- ------------------------------ 6.8/27.4 MB 2.5 MB/s eta 0:00:09\n",
      "   ---------- ----------------------------- 6.9/27.4 MB 2.5 MB/s eta 0:00:09\n",
      "   ---------- ----------------------------- 7.1/27.4 MB 2.6 MB/s eta 0:00:08\n",
      "   ---------- ----------------------------- 7.2/27.4 MB 2.6 MB/s eta 0:00:08\n",
      "   ---------- ----------------------------- 7.5/27.4 MB 2.6 MB/s eta 0:00:08\n",
      "   ----------- ---------------------------- 7.6/27.4 MB 2.6 MB/s eta 0:00:08\n",
      "   ----------- ---------------------------- 7.9/27.4 MB 2.6 MB/s eta 0:00:08\n",
      "   ----------- ---------------------------- 8.0/27.4 MB 2.6 MB/s eta 0:00:08\n",
      "   ------------ --------------------------- 8.2/27.4 MB 2.7 MB/s eta 0:00:08\n",
      "   ------------ --------------------------- 8.3/27.4 MB 2.7 MB/s eta 0:00:08\n",
      "   ------------ --------------------------- 8.6/27.4 MB 2.7 MB/s eta 0:00:07\n",
      "   ------------ --------------------------- 8.6/27.4 MB 2.7 MB/s eta 0:00:08\n",
      "   ------------ --------------------------- 8.9/27.4 MB 2.7 MB/s eta 0:00:07\n",
      "   ------------- -------------------------- 9.0/27.4 MB 2.7 MB/s eta 0:00:07\n",
      "   ------------- -------------------------- 9.2/27.4 MB 2.7 MB/s eta 0:00:07\n",
      "   ------------- -------------------------- 9.3/27.4 MB 2.7 MB/s eta 0:00:07\n",
      "   ------------- -------------------------- 9.5/27.4 MB 2.8 MB/s eta 0:00:07\n",
      "   -------------- ------------------------- 9.7/27.4 MB 2.8 MB/s eta 0:00:07\n",
      "   -------------- ------------------------- 9.9/27.4 MB 2.8 MB/s eta 0:00:07\n",
      "   -------------- ------------------------- 10.0/27.4 MB 2.8 MB/s eta 0:00:07\n",
      "   -------------- ------------------------- 10.2/27.4 MB 2.8 MB/s eta 0:00:07\n",
      "   --------------- ------------------------ 10.4/27.4 MB 2.8 MB/s eta 0:00:07\n",
      "   --------------- ------------------------ 10.6/27.4 MB 2.8 MB/s eta 0:00:06\n",
      "   --------------- ------------------------ 10.7/27.4 MB 2.8 MB/s eta 0:00:06\n",
      "   --------------- ------------------------ 10.9/27.4 MB 2.9 MB/s eta 0:00:06\n",
      "   ---------------- ----------------------- 11.0/27.4 MB 2.9 MB/s eta 0:00:06\n",
      "   ---------------- ----------------------- 11.1/27.4 MB 2.9 MB/s eta 0:00:06\n",
      "   ---------------- ----------------------- 11.3/27.4 MB 2.8 MB/s eta 0:00:06\n",
      "   ---------------- ----------------------- 11.3/27.4 MB 2.8 MB/s eta 0:00:06\n",
      "   ---------------- ----------------------- 11.6/27.4 MB 2.9 MB/s eta 0:00:06\n",
      "   ---------------- ----------------------- 11.6/27.4 MB 2.9 MB/s eta 0:00:06\n",
      "   ----------------- ---------------------- 11.9/27.4 MB 2.9 MB/s eta 0:00:06\n",
      "   ----------------- ---------------------- 12.0/27.4 MB 2.9 MB/s eta 0:00:06\n",
      "   ----------------- ---------------------- 12.3/27.4 MB 2.9 MB/s eta 0:00:06\n",
      "   ----------------- ---------------------- 12.3/27.4 MB 2.9 MB/s eta 0:00:06\n",
      "   ------------------ --------------------- 12.6/27.4 MB 2.9 MB/s eta 0:00:06\n",
      "   ------------------ --------------------- 12.6/27.4 MB 2.9 MB/s eta 0:00:06\n",
      "   ------------------ --------------------- 12.9/27.4 MB 2.9 MB/s eta 0:00:06\n",
      "   ------------------ --------------------- 12.9/27.4 MB 2.9 MB/s eta 0:00:06\n",
      "   ------------------- -------------------- 13.2/27.4 MB 2.9 MB/s eta 0:00:05\n",
      "   ------------------- -------------------- 13.3/27.4 MB 2.9 MB/s eta 0:00:05\n",
      "   ------------------- -------------------- 13.5/27.4 MB 3.0 MB/s eta 0:00:05\n",
      "   ------------------- -------------------- 13.6/27.4 MB 2.9 MB/s eta 0:00:05\n",
      "   -------------------- ------------------- 13.8/27.4 MB 3.0 MB/s eta 0:00:05\n",
      "   -------------------- ------------------- 13.9/27.4 MB 3.1 MB/s eta 0:00:05\n",
      "   -------------------- ------------------- 14.1/27.4 MB 3.1 MB/s eta 0:00:05\n",
      "   -------------------- ------------------- 14.2/27.4 MB 3.1 MB/s eta 0:00:05\n",
      "   --------------------- ------------------ 14.4/27.4 MB 3.0 MB/s eta 0:00:05\n",
      "   --------------------- ------------------ 14.6/27.4 MB 3.1 MB/s eta 0:00:05\n",
      "   --------------------- ------------------ 14.8/27.4 MB 3.1 MB/s eta 0:00:05\n",
      "   --------------------- ------------------ 14.9/27.4 MB 3.1 MB/s eta 0:00:05\n",
      "   ---------------------- ----------------- 15.1/27.4 MB 3.4 MB/s eta 0:00:04\n",
      "   ---------------------- ----------------- 15.3/27.4 MB 3.4 MB/s eta 0:00:04\n",
      "   ---------------------- ----------------- 15.4/27.4 MB 3.5 MB/s eta 0:00:04\n",
      "   ---------------------- ----------------- 15.5/27.4 MB 3.4 MB/s eta 0:00:04\n",
      "   ---------------------- ----------------- 15.6/27.4 MB 3.4 MB/s eta 0:00:04\n",
      "   ---------------------- ----------------- 15.7/27.4 MB 3.4 MB/s eta 0:00:04\n",
      "   ----------------------- ---------------- 15.8/27.4 MB 3.4 MB/s eta 0:00:04\n",
      "   ----------------------- ---------------- 15.9/27.4 MB 3.4 MB/s eta 0:00:04\n",
      "   ----------------------- ---------------- 16.0/27.4 MB 3.4 MB/s eta 0:00:04\n",
      "   ----------------------- ---------------- 16.1/27.4 MB 3.3 MB/s eta 0:00:04\n",
      "   ----------------------- ---------------- 16.1/27.4 MB 3.3 MB/s eta 0:00:04\n",
      "   ----------------------- ---------------- 16.3/27.4 MB 3.3 MB/s eta 0:00:04\n",
      "   ----------------------- ---------------- 16.3/27.4 MB 3.3 MB/s eta 0:00:04\n",
      "   ------------------------ --------------- 16.5/27.4 MB 3.3 MB/s eta 0:00:04\n",
      "   ------------------------ --------------- 16.6/27.4 MB 3.3 MB/s eta 0:00:04\n",
      "   ------------------------ --------------- 16.8/27.4 MB 3.3 MB/s eta 0:00:04\n",
      "   ------------------------ --------------- 16.9/27.4 MB 3.3 MB/s eta 0:00:04\n",
      "   ------------------------ --------------- 17.1/27.4 MB 3.2 MB/s eta 0:00:04\n",
      "   ------------------------- -------------- 17.2/27.4 MB 3.2 MB/s eta 0:00:04\n",
      "   ------------------------- -------------- 17.3/27.4 MB 3.2 MB/s eta 0:00:04\n",
      "   ------------------------- -------------- 17.4/27.4 MB 3.2 MB/s eta 0:00:04\n",
      "   ------------------------- -------------- 17.6/27.4 MB 3.2 MB/s eta 0:00:04\n",
      "   ------------------------- -------------- 17.6/27.4 MB 3.2 MB/s eta 0:00:04\n",
      "   ------------------------- -------------- 17.8/27.4 MB 3.1 MB/s eta 0:00:04\n",
      "   -------------------------- ------------- 17.9/27.4 MB 3.1 MB/s eta 0:00:04\n",
      "   -------------------------- ------------- 18.1/27.4 MB 3.1 MB/s eta 0:00:03\n",
      "   -------------------------- ------------- 18.2/27.4 MB 3.1 MB/s eta 0:00:03\n",
      "   -------------------------- ------------- 18.4/27.4 MB 3.1 MB/s eta 0:00:03\n",
      "   --------------------------- ------------ 18.5/27.4 MB 3.1 MB/s eta 0:00:03\n",
      "   --------------------------- ------------ 18.7/27.4 MB 3.1 MB/s eta 0:00:03\n",
      "   --------------------------- ------------ 18.8/27.4 MB 3.1 MB/s eta 0:00:03\n",
      "   --------------------------- ------------ 19.0/27.4 MB 3.1 MB/s eta 0:00:03\n",
      "   ---------------------------- ----------- 19.2/27.4 MB 3.1 MB/s eta 0:00:03\n",
      "   ---------------------------- ----------- 19.3/27.4 MB 3.1 MB/s eta 0:00:03\n",
      "   ---------------------------- ----------- 19.6/27.4 MB 3.1 MB/s eta 0:00:03\n",
      "   ---------------------------- ----------- 19.6/27.4 MB 3.1 MB/s eta 0:00:03\n",
      "   ---------------------------- ----------- 19.9/27.4 MB 3.1 MB/s eta 0:00:03\n",
      "   ----------------------------- ---------- 20.0/27.4 MB 3.1 MB/s eta 0:00:03\n",
      "   ----------------------------- ---------- 20.2/27.4 MB 3.1 MB/s eta 0:00:03\n",
      "   ----------------------------- ---------- 20.3/27.4 MB 3.1 MB/s eta 0:00:03\n",
      "   ----------------------------- ---------- 20.3/27.4 MB 3.1 MB/s eta 0:00:03\n",
      "   ----------------------------- ---------- 20.3/27.4 MB 3.1 MB/s eta 0:00:03\n",
      "   ----------------------------- ---------- 20.3/27.4 MB 3.1 MB/s eta 0:00:03\n",
      "   ----------------------------- ---------- 20.3/27.4 MB 3.1 MB/s eta 0:00:03\n",
      "   ----------------------------- ---------- 20.3/27.4 MB 3.1 MB/s eta 0:00:03\n",
      "   ----------------------------- ---------- 20.3/27.4 MB 3.1 MB/s eta 0:00:03\n",
      "   ----------------------------- ---------- 20.4/27.4 MB 2.8 MB/s eta 0:00:03\n",
      "   ------------------------------- -------- 21.4/27.4 MB 3.1 MB/s eta 0:00:02\n",
      "   ------------------------------- -------- 21.4/27.4 MB 3.1 MB/s eta 0:00:02\n",
      "   ------------------------------- -------- 21.5/27.4 MB 3.0 MB/s eta 0:00:02\n",
      "   ------------------------------- -------- 21.6/27.4 MB 3.0 MB/s eta 0:00:02\n",
      "   ------------------------------- -------- 21.7/27.4 MB 3.0 MB/s eta 0:00:02\n",
      "   -------------------------------- ------- 21.9/27.4 MB 3.0 MB/s eta 0:00:02\n",
      "   -------------------------------- ------- 22.0/27.4 MB 3.0 MB/s eta 0:00:02\n",
      "   -------------------------------- ------- 22.2/27.4 MB 3.0 MB/s eta 0:00:02\n",
      "   -------------------------------- ------- 22.4/27.4 MB 3.0 MB/s eta 0:00:02\n",
      "   -------------------------------- ------- 22.6/27.4 MB 3.0 MB/s eta 0:00:02\n",
      "   --------------------------------- ------ 22.7/27.4 MB 3.0 MB/s eta 0:00:02\n",
      "   --------------------------------- ------ 22.9/27.4 MB 3.0 MB/s eta 0:00:02\n",
      "   --------------------------------- ------ 23.1/27.4 MB 3.0 MB/s eta 0:00:02\n",
      "   --------------------------------- ------ 23.2/27.4 MB 3.0 MB/s eta 0:00:02\n",
      "   ---------------------------------- ----- 23.4/27.4 MB 3.0 MB/s eta 0:00:02\n",
      "   ---------------------------------- ----- 23.5/27.4 MB 3.0 MB/s eta 0:00:02\n",
      "   ---------------------------------- ----- 23.7/27.4 MB 3.0 MB/s eta 0:00:02\n",
      "   ---------------------------------- ----- 23.8/27.4 MB 3.0 MB/s eta 0:00:02\n",
      "   ----------------------------------- ---- 24.0/27.4 MB 3.0 MB/s eta 0:00:02\n",
      "   ----------------------------------- ---- 24.1/27.4 MB 3.0 MB/s eta 0:00:02\n",
      "   ----------------------------------- ---- 24.4/27.4 MB 3.0 MB/s eta 0:00:01\n",
      "   ----------------------------------- ---- 24.4/27.4 MB 3.0 MB/s eta 0:00:01\n",
      "   ----------------------------------- ---- 24.6/27.4 MB 3.0 MB/s eta 0:00:01\n",
      "   ------------------------------------ --- 24.7/27.4 MB 3.0 MB/s eta 0:00:01\n",
      "   ------------------------------------ --- 24.9/27.4 MB 3.0 MB/s eta 0:00:01\n",
      "   ------------------------------------ --- 25.0/27.4 MB 2.9 MB/s eta 0:00:01\n",
      "   ------------------------------------ --- 25.1/27.4 MB 3.0 MB/s eta 0:00:01\n",
      "   ------------------------------------ --- 25.1/27.4 MB 2.9 MB/s eta 0:00:01\n",
      "   ------------------------------------ --- 25.3/27.4 MB 2.9 MB/s eta 0:00:01\n",
      "   ------------------------------------- -- 25.4/27.4 MB 2.9 MB/s eta 0:00:01\n",
      "   ------------------------------------- -- 25.6/27.4 MB 2.9 MB/s eta 0:00:01\n",
      "   ------------------------------------- -- 25.7/27.4 MB 2.9 MB/s eta 0:00:01\n",
      "   ------------------------------------- -- 25.8/27.4 MB 2.9 MB/s eta 0:00:01\n",
      "   ------------------------------------- -- 26.0/27.4 MB 2.9 MB/s eta 0:00:01\n",
      "   -------------------------------------- - 26.2/27.4 MB 3.0 MB/s eta 0:00:01\n",
      "   -------------------------------------- - 26.3/27.4 MB 3.0 MB/s eta 0:00:01\n",
      "   -------------------------------------- - 26.5/27.4 MB 3.1 MB/s eta 0:00:01\n",
      "   -------------------------------------- - 26.7/27.4 MB 3.1 MB/s eta 0:00:01\n",
      "   ---------------------------------------  26.8/27.4 MB 3.1 MB/s eta 0:00:01\n",
      "   ---------------------------------------  27.0/27.4 MB 3.1 MB/s eta 0:00:01\n",
      "   ---------------------------------------  27.2/27.4 MB 3.1 MB/s eta 0:00:01\n",
      "   ---------------------------------------  27.4/27.4 MB 3.1 MB/s eta 0:00:01\n",
      "   ---------------------------------------  27.4/27.4 MB 3.1 MB/s eta 0:00:01\n",
      "   ---------------------------------------  27.4/27.4 MB 3.1 MB/s eta 0:00:01\n",
      "   ---------------------------------------  27.4/27.4 MB 3.1 MB/s eta 0:00:01\n",
      "   ---------------------------------------  27.4/27.4 MB 3.1 MB/s eta 0:00:01\n",
      "   ---------------------------------------  27.4/27.4 MB 3.1 MB/s eta 0:00:01\n",
      "   ---------------------------------------  27.4/27.4 MB 3.1 MB/s eta 0:00:01\n",
      "   ---------------------------------------  27.4/27.4 MB 3.1 MB/s eta 0:00:01\n",
      "   ---------------------------------------  27.4/27.4 MB 3.1 MB/s eta 0:00:01\n",
      "   ---------------------------------------  27.4/27.4 MB 3.1 MB/s eta 0:00:01\n",
      "   ---------------------------------------  27.4/27.4 MB 3.1 MB/s eta 0:00:01\n",
      "   ---------------------------------------  27.4/27.4 MB 3.1 MB/s eta 0:00:01\n",
      "   ---------------------------------------  27.4/27.4 MB 3.1 MB/s eta 0:00:01\n",
      "   ---------------------------------------  27.4/27.4 MB 3.1 MB/s eta 0:00:01\n",
      "   ---------------------------------------  27.4/27.4 MB 3.1 MB/s eta 0:00:01\n",
      "   ---------------------------------------  27.4/27.4 MB 3.1 MB/s eta 0:00:01\n",
      "   ---------------------------------------  27.4/27.4 MB 3.1 MB/s eta 0:00:01\n",
      "   ---------------------------------------  27.4/27.4 MB 3.1 MB/s eta 0:00:01\n",
      "   ---------------------------------------  27.4/27.4 MB 3.1 MB/s eta 0:00:01\n",
      "   ---------------------------------------  27.4/27.4 MB 3.1 MB/s eta 0:00:01\n",
      "   ---------------------------------------  27.4/27.4 MB 3.1 MB/s eta 0:00:01\n",
      "   ---------------------------------------  27.4/27.4 MB 3.1 MB/s eta 0:00:01\n",
      "   ---------------------------------------  27.4/27.4 MB 3.1 MB/s eta 0:00:01\n",
      "   ---------------------------------------  27.4/27.4 MB 3.1 MB/s eta 0:00:01\n",
      "   ---------------------------------------  27.4/27.4 MB 3.1 MB/s eta 0:00:01\n",
      "   ---------------------------------------  27.4/27.4 MB 3.1 MB/s eta 0:00:01\n",
      "   ---------------------------------------  27.4/27.4 MB 3.1 MB/s eta 0:00:01\n",
      "   ---------------------------------------  27.4/27.4 MB 3.1 MB/s eta 0:00:01\n",
      "   ---------------------------------------- 27.4/27.4 MB 2.2 MB/s eta 0:00:00\n",
      "Downloading mlflow_skinny-2.19.0-py3-none-any.whl (5.9 MB)\n",
      "   ---------------------------------------- 0.0/5.9 MB ? eta -:--:--\n",
      "   - -------------------------------------- 0.2/5.9 MB 4.6 MB/s eta 0:00:02\n",
      "   - -------------------------------------- 0.2/5.9 MB 4.6 MB/s eta 0:00:02\n",
      "   - -------------------------------------- 0.2/5.9 MB 4.6 MB/s eta 0:00:02\n",
      "   - -------------------------------------- 0.2/5.9 MB 4.6 MB/s eta 0:00:02\n",
      "   ---- ----------------------------------- 0.7/5.9 MB 3.2 MB/s eta 0:00:02\n",
      "   ----- ---------------------------------- 0.7/5.9 MB 2.8 MB/s eta 0:00:02\n",
      "   ------ --------------------------------- 1.0/5.9 MB 3.1 MB/s eta 0:00:02\n",
      "   ------- -------------------------------- 1.1/5.9 MB 3.0 MB/s eta 0:00:02\n",
      "   ------- -------------------------------- 1.2/5.9 MB 3.0 MB/s eta 0:00:02\n",
      "   -------- ------------------------------- 1.2/5.9 MB 2.7 MB/s eta 0:00:02\n",
      "   --------- ------------------------------ 1.4/5.9 MB 2.8 MB/s eta 0:00:02\n",
      "   ---------- ----------------------------- 1.5/5.9 MB 2.8 MB/s eta 0:00:02\n",
      "   ----------- ---------------------------- 1.7/5.9 MB 2.9 MB/s eta 0:00:02\n",
      "   ----------- ---------------------------- 1.7/5.9 MB 2.7 MB/s eta 0:00:02\n",
      "   ------------ --------------------------- 1.8/5.9 MB 2.7 MB/s eta 0:00:02\n",
      "   ------------- -------------------------- 1.9/5.9 MB 2.6 MB/s eta 0:00:02\n",
      "   ------------- -------------------------- 2.0/5.9 MB 2.7 MB/s eta 0:00:02\n",
      "   -------------- ------------------------- 2.2/5.9 MB 2.6 MB/s eta 0:00:02\n",
      "   --------------- ------------------------ 2.2/5.9 MB 2.6 MB/s eta 0:00:02\n",
      "   ---------------- ----------------------- 2.4/5.9 MB 2.6 MB/s eta 0:00:02\n",
      "   ---------------- ----------------------- 2.4/5.9 MB 2.6 MB/s eta 0:00:02\n",
      "   ------------------ --------------------- 2.6/5.9 MB 2.6 MB/s eta 0:00:02\n",
      "   ------------------ --------------------- 2.7/5.9 MB 2.5 MB/s eta 0:00:02\n",
      "   ------------------- -------------------- 2.9/5.9 MB 2.6 MB/s eta 0:00:02\n",
      "   -------------------- ------------------- 2.9/5.9 MB 2.5 MB/s eta 0:00:02\n",
      "   --------------------- ------------------ 3.1/5.9 MB 2.6 MB/s eta 0:00:02\n",
      "   --------------------- ------------------ 3.2/5.9 MB 2.5 MB/s eta 0:00:02\n",
      "   ----------------------- ---------------- 3.4/5.9 MB 2.6 MB/s eta 0:00:01\n",
      "   ----------------------- ---------------- 3.5/5.9 MB 2.6 MB/s eta 0:00:01\n",
      "   ------------------------- -------------- 3.7/5.9 MB 2.6 MB/s eta 0:00:01\n",
      "   ------------------------- -------------- 3.8/5.9 MB 2.6 MB/s eta 0:00:01\n",
      "   -------------------------- ------------- 3.9/5.9 MB 2.6 MB/s eta 0:00:01\n",
      "   --------------------------- ------------ 4.0/5.9 MB 2.6 MB/s eta 0:00:01\n",
      "   ---------------------------- ----------- 4.1/5.9 MB 2.6 MB/s eta 0:00:01\n",
      "   ---------------------------- ----------- 4.2/5.9 MB 2.6 MB/s eta 0:00:01\n",
      "   ------------------------------ --------- 4.4/5.9 MB 2.7 MB/s eta 0:00:01\n",
      "   ------------------------------- -------- 4.6/5.9 MB 2.6 MB/s eta 0:00:01\n",
      "   -------------------------------- ------- 4.7/5.9 MB 2.7 MB/s eta 0:00:01\n",
      "   --------------------------------- ------ 4.9/5.9 MB 2.7 MB/s eta 0:00:01\n",
      "   ---------------------------------- ----- 5.1/5.9 MB 2.7 MB/s eta 0:00:01\n",
      "   ----------------------------------- ---- 5.2/5.9 MB 2.7 MB/s eta 0:00:01\n",
      "   ------------------------------------ --- 5.4/5.9 MB 2.8 MB/s eta 0:00:01\n",
      "   -------------------------------------- - 5.6/5.9 MB 2.8 MB/s eta 0:00:01\n",
      "   -------------------------------------- - 5.7/5.9 MB 2.8 MB/s eta 0:00:01\n",
      "   ---------------------------------------  5.8/5.9 MB 2.8 MB/s eta 0:00:01\n",
      "   ---------------------------------------  5.8/5.9 MB 2.8 MB/s eta 0:00:01\n",
      "   ---------------------------------------  5.8/5.9 MB 2.7 MB/s eta 0:00:01\n",
      "   ---------------------------------------  5.8/5.9 MB 2.7 MB/s eta 0:00:01\n",
      "   ---------------------------------------  5.8/5.9 MB 2.7 MB/s eta 0:00:01\n",
      "   ---------------------------------------  5.8/5.9 MB 2.7 MB/s eta 0:00:01\n",
      "   ---------------------------------------  5.8/5.9 MB 2.7 MB/s eta 0:00:01\n",
      "   ---------------------------------------  5.8/5.9 MB 2.7 MB/s eta 0:00:01\n",
      "   ---------------------------------------  5.8/5.9 MB 2.7 MB/s eta 0:00:01\n",
      "   ---------------------------------------- 5.9/5.9 MB 2.3 MB/s eta 0:00:00\n",
      "Downloading alembic-1.14.0-py3-none-any.whl (233 kB)\n",
      "   ---------------------------------------- 0.0/233.5 kB ? eta -:--:--\n",
      "   ---------- ----------------------------- 61.4/233.5 kB 1.7 MB/s eta 0:00:01\n",
      "   -------------------------------------- - 225.3/233.5 kB 3.5 MB/s eta 0:00:01\n",
      "   ---------------------------------------- 233.5/233.5 kB 2.0 MB/s eta 0:00:00\n",
      "Downloading docker-7.1.0-py3-none-any.whl (147 kB)\n",
      "   ---------------------------------------- 0.0/147.8 kB ? eta -:--:--\n",
      "   -------------------------------------- - 143.4/147.8 kB 4.3 MB/s eta 0:00:01\n",
      "   ---------------------------------------- 147.8/147.8 kB 1.8 MB/s eta 0:00:00\n",
      "Downloading flask-3.1.0-py3-none-any.whl (102 kB)\n",
      "   ---------------------------------------- 0.0/103.0 kB ? eta -:--:--\n",
      "   ---------------------------------------  102.4/103.0 kB 5.8 MB/s eta 0:00:01\n",
      "   ---------------------------------------- 103.0/103.0 kB 2.0 MB/s eta 0:00:00\n",
      "Downloading graphene-3.4.3-py2.py3-none-any.whl (114 kB)\n",
      "   ---------------------------------------- 0.0/114.9 kB ? eta -:--:--\n",
      "   ------------------------ --------------- 71.7/114.9 kB 1.9 MB/s eta 0:00:01\n",
      "   ---------------------------------------  112.6/114.9 kB 1.6 MB/s eta 0:00:01\n",
      "   ---------------------------------------- 114.9/114.9 kB 1.1 MB/s eta 0:00:00\n",
      "Downloading jinja2-3.1.4-py3-none-any.whl (133 kB)\n",
      "   ---------------------------------------- 0.0/133.3 kB ? eta -:--:--\n",
      "   ------------ --------------------------- 41.0/133.3 kB 2.0 MB/s eta 0:00:01\n",
      "   ---------------------------------------  133.1/133.3 kB 1.6 MB/s eta 0:00:01\n",
      "   ---------------------------------------- 133.3/133.3 kB 1.3 MB/s eta 0:00:00\n",
      "Downloading Markdown-3.7-py3-none-any.whl (106 kB)\n",
      "   ---------------------------------------- 0.0/106.3 kB ? eta -:--:--\n",
      "   ----------- ---------------------------- 30.7/106.3 kB ? eta -:--:--\n",
      "   ---------------------------------------- 106.3/106.3 kB 3.1 MB/s eta 0:00:00\n",
      "Downloading matplotlib-3.10.0-cp311-cp311-win_amd64.whl (8.0 MB)\n",
      "   ---------------------------------------- 0.0/8.0 MB ? eta -:--:--\n",
      "   ---------------------------------------- 0.0/8.0 MB ? eta -:--:--\n",
      "    --------------------------------------- 0.2/8.0 MB 2.0 MB/s eta 0:00:04\n",
      "   - -------------------------------------- 0.2/8.0 MB 2.1 MB/s eta 0:00:04\n",
      "   - -------------------------------------- 0.3/8.0 MB 1.7 MB/s eta 0:00:05\n",
      "   - -------------------------------------- 0.3/8.0 MB 1.6 MB/s eta 0:00:05\n",
      "   -- ------------------------------------- 0.6/8.0 MB 2.0 MB/s eta 0:00:04\n",
      "   --- ------------------------------------ 0.6/8.0 MB 1.8 MB/s eta 0:00:05\n",
      "   --- ------------------------------------ 0.7/8.0 MB 1.9 MB/s eta 0:00:04\n",
      "   --- ------------------------------------ 0.7/8.0 MB 1.7 MB/s eta 0:00:05\n",
      "   ---- ----------------------------------- 0.8/8.0 MB 1.8 MB/s eta 0:00:05\n",
      "   ---- ----------------------------------- 0.9/8.0 MB 1.7 MB/s eta 0:00:05\n",
      "   ----- ---------------------------------- 1.0/8.0 MB 1.8 MB/s eta 0:00:04\n",
      "   ----- ---------------------------------- 1.0/8.0 MB 1.8 MB/s eta 0:00:04\n",
      "   ----- ---------------------------------- 1.0/8.0 MB 1.8 MB/s eta 0:00:04\n",
      "   ----- ---------------------------------- 1.0/8.0 MB 1.8 MB/s eta 0:00:04\n",
      "   ----- ---------------------------------- 1.0/8.0 MB 1.8 MB/s eta 0:00:04\n",
      "   ----- ---------------------------------- 1.0/8.0 MB 1.8 MB/s eta 0:00:04\n",
      "   -------- ------------------------------- 1.8/8.0 MB 2.1 MB/s eta 0:00:03\n",
      "   --------- ------------------------------ 1.9/8.0 MB 2.1 MB/s eta 0:00:03\n",
      "   --------- ------------------------------ 2.0/8.0 MB 2.2 MB/s eta 0:00:03\n",
      "   ---------- ----------------------------- 2.1/8.0 MB 2.1 MB/s eta 0:00:03\n",
      "   ----------- ---------------------------- 2.2/8.0 MB 2.2 MB/s eta 0:00:03\n",
      "   ----------- ---------------------------- 2.3/8.0 MB 2.2 MB/s eta 0:00:03\n",
      "   ------------ --------------------------- 2.4/8.0 MB 2.2 MB/s eta 0:00:03\n",
      "   ------------ --------------------------- 2.6/8.0 MB 2.2 MB/s eta 0:00:03\n",
      "   ------------- -------------------------- 2.7/8.0 MB 2.3 MB/s eta 0:00:03\n",
      "   -------------- ------------------------- 2.9/8.0 MB 2.3 MB/s eta 0:00:03\n",
      "   -------------- ------------------------- 2.9/8.0 MB 2.3 MB/s eta 0:00:03\n",
      "   --------------- ------------------------ 3.1/8.0 MB 2.3 MB/s eta 0:00:03\n",
      "   --------------- ------------------------ 3.1/8.0 MB 2.3 MB/s eta 0:00:03\n",
      "   --------------- ------------------------ 3.2/8.0 MB 2.2 MB/s eta 0:00:03\n",
      "   --------------- ------------------------ 3.2/8.0 MB 2.2 MB/s eta 0:00:03\n",
      "   --------------- ------------------------ 3.2/8.0 MB 2.2 MB/s eta 0:00:03\n",
      "   --------------- ------------------------ 3.2/8.0 MB 2.2 MB/s eta 0:00:03\n",
      "   --------------- ------------------------ 3.2/8.0 MB 2.2 MB/s eta 0:00:03\n",
      "   --------------- ------------------------ 3.2/8.0 MB 2.2 MB/s eta 0:00:03\n",
      "   --------------- ------------------------ 3.2/8.0 MB 2.2 MB/s eta 0:00:03\n",
      "   -------------------- ------------------- 4.1/8.0 MB 2.3 MB/s eta 0:00:02\n",
      "   --------------------- ------------------ 4.3/8.0 MB 2.4 MB/s eta 0:00:02\n",
      "   --------------------- ------------------ 4.4/8.0 MB 2.3 MB/s eta 0:00:02\n",
      "   ---------------------- ----------------- 4.5/8.0 MB 2.4 MB/s eta 0:00:02\n",
      "   ----------------------- ---------------- 4.6/8.0 MB 2.4 MB/s eta 0:00:02\n",
      "   ----------------------- ---------------- 4.8/8.0 MB 2.4 MB/s eta 0:00:02\n",
      "   ------------------------ --------------- 4.9/8.0 MB 2.4 MB/s eta 0:00:02\n",
      "   ------------------------- -------------- 5.0/8.0 MB 2.4 MB/s eta 0:00:02\n",
      "   ------------------------- -------------- 5.2/8.0 MB 2.4 MB/s eta 0:00:02\n",
      "   -------------------------- ------------- 5.3/8.0 MB 2.4 MB/s eta 0:00:02\n",
      "   --------------------------- ------------ 5.5/8.0 MB 2.4 MB/s eta 0:00:02\n",
      "   --------------------------- ------------ 5.6/8.0 MB 2.5 MB/s eta 0:00:01\n",
      "   --------------------------- ------------ 5.6/8.0 MB 2.5 MB/s eta 0:00:01\n",
      "   --------------------------- ------------ 5.6/8.0 MB 2.5 MB/s eta 0:00:01\n",
      "   --------------------------- ------------ 5.6/8.0 MB 2.5 MB/s eta 0:00:01\n",
      "   --------------------------- ------------ 5.6/8.0 MB 2.5 MB/s eta 0:00:01\n",
      "   ------------------------------- -------- 6.4/8.0 MB 2.5 MB/s eta 0:00:01\n",
      "   ------------------------------- -------- 6.4/8.0 MB 2.5 MB/s eta 0:00:01\n",
      "   -------------------------------- ------- 6.6/8.0 MB 2.5 MB/s eta 0:00:01\n",
      "   --------------------------------- ------ 6.7/8.0 MB 2.5 MB/s eta 0:00:01\n",
      "   ---------------------------------- ----- 6.9/8.0 MB 2.6 MB/s eta 0:00:01\n",
      "   ---------------------------------- ----- 7.0/8.0 MB 2.5 MB/s eta 0:00:01\n",
      "   ------------------------------------ --- 7.2/8.0 MB 2.6 MB/s eta 0:00:01\n",
      "   ------------------------------------ --- 7.3/8.0 MB 2.6 MB/s eta 0:00:01\n",
      "   ------------------------------------- -- 7.6/8.0 MB 2.6 MB/s eta 0:00:01\n",
      "   -------------------------------------- - 7.6/8.0 MB 2.6 MB/s eta 0:00:01\n",
      "   ---------------------------------------  7.9/8.0 MB 2.6 MB/s eta 0:00:01\n",
      "   ---------------------------------------  8.0/8.0 MB 2.6 MB/s eta 0:00:01\n",
      "   ---------------------------------------  8.0/8.0 MB 2.6 MB/s eta 0:00:01\n",
      "   ---------------------------------------  8.0/8.0 MB 2.6 MB/s eta 0:00:01\n",
      "   ---------------------------------------  8.0/8.0 MB 2.6 MB/s eta 0:00:01\n",
      "   ---------------------------------------  8.0/8.0 MB 2.6 MB/s eta 0:00:01\n",
      "   ---------------------------------------  8.0/8.0 MB 2.6 MB/s eta 0:00:01\n",
      "   ---------------------------------------  8.0/8.0 MB 2.6 MB/s eta 0:00:01\n",
      "   ---------------------------------------  8.0/8.0 MB 2.6 MB/s eta 0:00:01\n",
      "   ---------------------------------------  8.0/8.0 MB 2.6 MB/s eta 0:00:01\n",
      "   ---------------------------------------  8.0/8.0 MB 2.6 MB/s eta 0:00:01\n",
      "   ---------------------------------------- 8.0/8.0 MB 2.3 MB/s eta 0:00:00\n",
      "Downloading numpy-2.2.0-cp311-cp311-win_amd64.whl (12.9 MB)\n",
      "   ---------------------------------------- 0.0/12.9 MB ? eta -:--:--\n",
      "   ---------------------------------------- 0.1/12.9 MB 6.8 MB/s eta 0:00:02\n",
      "    --------------------------------------- 0.2/12.9 MB 2.6 MB/s eta 0:00:05\n",
      "   - -------------------------------------- 0.3/12.9 MB 2.9 MB/s eta 0:00:05\n",
      "   - -------------------------------------- 0.4/12.9 MB 2.4 MB/s eta 0:00:06\n",
      "   - -------------------------------------- 0.6/12.9 MB 2.7 MB/s eta 0:00:05\n",
      "   - -------------------------------------- 0.6/12.9 MB 2.3 MB/s eta 0:00:06\n",
      "   -- ------------------------------------- 0.7/12.9 MB 2.3 MB/s eta 0:00:06\n",
      "   -- ------------------------------------- 0.7/12.9 MB 2.3 MB/s eta 0:00:06\n",
      "   -- ------------------------------------- 0.7/12.9 MB 2.3 MB/s eta 0:00:06\n",
      "   -- ------------------------------------- 0.7/12.9 MB 2.3 MB/s eta 0:00:06\n",
      "   -- ------------------------------------- 0.7/12.9 MB 2.3 MB/s eta 0:00:06\n",
      "   -- ------------------------------------- 0.7/12.9 MB 2.3 MB/s eta 0:00:06\n",
      "   -- ------------------------------------- 0.7/12.9 MB 2.3 MB/s eta 0:00:06\n",
      "   -- ------------------------------------- 0.7/12.9 MB 2.3 MB/s eta 0:00:06\n",
      "   -- ------------------------------------- 0.7/12.9 MB 2.3 MB/s eta 0:00:06\n",
      "   ----- ---------------------------------- 1.6/12.9 MB 2.2 MB/s eta 0:00:06\n",
      "   ----- ---------------------------------- 1.7/12.9 MB 2.3 MB/s eta 0:00:05\n",
      "   ----- ---------------------------------- 1.8/12.9 MB 2.3 MB/s eta 0:00:05\n",
      "   ----- ---------------------------------- 1.9/12.9 MB 2.2 MB/s eta 0:00:06\n",
      "   ------ --------------------------------- 2.1/12.9 MB 2.3 MB/s eta 0:00:05\n",
      "   ------ --------------------------------- 2.2/12.9 MB 2.2 MB/s eta 0:00:05\n",
      "   ------- -------------------------------- 2.3/12.9 MB 2.3 MB/s eta 0:00:05\n",
      "   ------- -------------------------------- 2.4/12.9 MB 2.3 MB/s eta 0:00:05\n",
      "   ------- -------------------------------- 2.6/12.9 MB 2.3 MB/s eta 0:00:05\n",
      "   -------- ------------------------------- 2.6/12.9 MB 2.3 MB/s eta 0:00:05\n",
      "   -------- ------------------------------- 2.8/12.9 MB 2.4 MB/s eta 0:00:05\n",
      "   -------- ------------------------------- 2.9/12.9 MB 2.3 MB/s eta 0:00:05\n",
      "   --------- ------------------------------ 3.0/12.9 MB 2.4 MB/s eta 0:00:05\n",
      "   --------- ------------------------------ 3.1/12.9 MB 2.3 MB/s eta 0:00:05\n",
      "   ---------- ----------------------------- 3.3/12.9 MB 2.4 MB/s eta 0:00:05\n",
      "   ---------- ----------------------------- 3.3/12.9 MB 2.3 MB/s eta 0:00:05\n",
      "   ---------- ----------------------------- 3.4/12.9 MB 2.4 MB/s eta 0:00:05\n",
      "   ---------- ----------------------------- 3.5/12.9 MB 2.3 MB/s eta 0:00:05\n",
      "   ----------- ---------------------------- 3.6/12.9 MB 2.3 MB/s eta 0:00:04\n",
      "   ----------- ---------------------------- 3.7/12.9 MB 2.3 MB/s eta 0:00:04\n",
      "   ----------- ---------------------------- 3.8/12.9 MB 2.3 MB/s eta 0:00:04\n",
      "   ------------ --------------------------- 3.9/12.9 MB 2.3 MB/s eta 0:00:04\n",
      "   ------------ --------------------------- 4.0/12.9 MB 2.3 MB/s eta 0:00:04\n",
      "   ------------ --------------------------- 4.2/12.9 MB 2.3 MB/s eta 0:00:04\n",
      "   ------------- -------------------------- 4.3/12.9 MB 2.3 MB/s eta 0:00:04\n",
      "   ------------- -------------------------- 4.4/12.9 MB 2.3 MB/s eta 0:00:04\n",
      "   ------------- -------------------------- 4.5/12.9 MB 2.3 MB/s eta 0:00:04\n",
      "   -------------- ------------------------- 4.6/12.9 MB 2.3 MB/s eta 0:00:04\n",
      "   -------------- ------------------------- 4.7/12.9 MB 2.3 MB/s eta 0:00:04\n",
      "   --------------- ------------------------ 4.9/12.9 MB 2.3 MB/s eta 0:00:04\n",
      "   --------------- ------------------------ 5.0/12.9 MB 2.4 MB/s eta 0:00:04\n",
      "   --------------- ------------------------ 5.1/12.9 MB 2.3 MB/s eta 0:00:04\n",
      "   --------------- ------------------------ 5.1/12.9 MB 2.3 MB/s eta 0:00:04\n",
      "   --------------- ------------------------ 5.2/12.9 MB 2.3 MB/s eta 0:00:04\n",
      "   --------------- ------------------------ 5.2/12.9 MB 2.3 MB/s eta 0:00:04\n",
      "   --------------- ------------------------ 5.2/12.9 MB 2.3 MB/s eta 0:00:04\n",
      "   --------------- ------------------------ 5.2/12.9 MB 2.3 MB/s eta 0:00:04\n",
      "   --------------- ------------------------ 5.2/12.9 MB 2.3 MB/s eta 0:00:04\n",
      "   ---------------- ----------------------- 5.2/12.9 MB 2.1 MB/s eta 0:00:04\n",
      "   ---------------- ----------------------- 5.4/12.9 MB 2.1 MB/s eta 0:00:04\n",
      "   ---------------- ----------------------- 5.5/12.9 MB 2.1 MB/s eta 0:00:04\n",
      "   ----------------- ---------------------- 5.7/12.9 MB 2.1 MB/s eta 0:00:04\n",
      "   ----------------- ---------------------- 5.8/12.9 MB 2.1 MB/s eta 0:00:04\n",
      "   ------------------ --------------------- 6.0/12.9 MB 2.2 MB/s eta 0:00:04\n",
      "   ------------------ --------------------- 6.1/12.9 MB 2.2 MB/s eta 0:00:04\n",
      "   ------------------- -------------------- 6.3/12.9 MB 2.2 MB/s eta 0:00:03\n",
      "   ------------------- -------------------- 6.4/12.9 MB 2.2 MB/s eta 0:00:03\n",
      "   -------------------- ------------------- 6.6/12.9 MB 2.3 MB/s eta 0:00:03\n",
      "   -------------------- ------------------- 6.7/12.9 MB 2.3 MB/s eta 0:00:03\n",
      "   --------------------- ------------------ 6.9/12.9 MB 2.3 MB/s eta 0:00:03\n",
      "   --------------------- ------------------ 7.1/12.9 MB 2.3 MB/s eta 0:00:03\n",
      "   ---------------------- ----------------- 7.2/12.9 MB 2.3 MB/s eta 0:00:03\n",
      "   ----------------------- ---------------- 7.4/12.9 MB 2.4 MB/s eta 0:00:03\n",
      "   ----------------------- ---------------- 7.5/12.9 MB 2.4 MB/s eta 0:00:03\n",
      "   ------------------------ --------------- 7.8/12.9 MB 2.4 MB/s eta 0:00:03\n",
      "   ------------------------ --------------- 7.9/12.9 MB 2.4 MB/s eta 0:00:03\n",
      "   ------------------------- -------------- 8.2/12.9 MB 2.4 MB/s eta 0:00:02\n",
      "   ------------------------- -------------- 8.3/12.9 MB 2.5 MB/s eta 0:00:02\n",
      "   -------------------------- ------------- 8.6/12.9 MB 2.5 MB/s eta 0:00:02\n",
      "   -------------------------- ------------- 8.6/12.9 MB 2.5 MB/s eta 0:00:02\n",
      "   --------------------------- ------------ 8.9/12.9 MB 2.5 MB/s eta 0:00:02\n",
      "   --------------------------- ------------ 9.0/12.9 MB 2.5 MB/s eta 0:00:02\n",
      "   ---------------------------- ----------- 9.2/12.9 MB 2.5 MB/s eta 0:00:02\n",
      "   ---------------------------- ----------- 9.3/12.9 MB 2.5 MB/s eta 0:00:02\n",
      "   ----------------------------- ---------- 9.5/12.9 MB 2.6 MB/s eta 0:00:02\n",
      "   ----------------------------- ---------- 9.6/12.9 MB 2.6 MB/s eta 0:00:02\n",
      "   ------------------------------ --------- 9.9/12.9 MB 2.6 MB/s eta 0:00:02\n",
      "   ------------------------------ --------- 9.9/12.9 MB 2.6 MB/s eta 0:00:02\n",
      "   ------------------------------- -------- 10.1/12.9 MB 2.6 MB/s eta 0:00:02\n",
      "   ------------------------------- -------- 10.3/12.9 MB 2.6 MB/s eta 0:00:02\n",
      "   -------------------------------- ------- 10.4/12.9 MB 2.6 MB/s eta 0:00:01\n",
      "   -------------------------------- ------- 10.5/12.9 MB 2.6 MB/s eta 0:00:01\n",
      "   --------------------------------- ------ 10.8/12.9 MB 2.6 MB/s eta 0:00:01\n",
      "   --------------------------------- ------ 10.9/12.9 MB 3.0 MB/s eta 0:00:01\n",
      "   ---------------------------------- ----- 11.1/12.9 MB 3.0 MB/s eta 0:00:01\n",
      "   ---------------------------------- ----- 11.3/12.9 MB 2.9 MB/s eta 0:00:01\n",
      "   ----------------------------------- ---- 11.4/12.9 MB 2.9 MB/s eta 0:00:01\n",
      "   ----------------------------------- ---- 11.6/12.9 MB 2.8 MB/s eta 0:00:01\n",
      "   ------------------------------------ --- 11.8/12.9 MB 2.8 MB/s eta 0:00:01\n",
      "   ------------------------------------ --- 11.9/12.9 MB 2.8 MB/s eta 0:00:01\n",
      "   ------------------------------------- -- 12.1/12.9 MB 2.8 MB/s eta 0:00:01\n",
      "   ------------------------------------- -- 12.2/12.9 MB 2.8 MB/s eta 0:00:01\n",
      "   -------------------------------------- - 12.3/12.9 MB 2.8 MB/s eta 0:00:01\n",
      "   -------------------------------------- - 12.6/12.9 MB 2.9 MB/s eta 0:00:01\n",
      "   ---------------------------------------  12.6/12.9 MB 2.9 MB/s eta 0:00:01\n",
      "   ---------------------------------------  12.8/12.9 MB 2.9 MB/s eta 0:00:01\n",
      "   ---------------------------------------  12.9/12.9 MB 2.9 MB/s eta 0:00:01\n",
      "   ---------------------------------------  12.9/12.9 MB 2.9 MB/s eta 0:00:01\n",
      "   ---------------------------------------  12.9/12.9 MB 2.9 MB/s eta 0:00:01\n",
      "   ---------------------------------------  12.9/12.9 MB 2.9 MB/s eta 0:00:01\n",
      "   ---------------------------------------  12.9/12.9 MB 2.9 MB/s eta 0:00:01\n",
      "   ---------------------------------------  12.9/12.9 MB 2.9 MB/s eta 0:00:01\n",
      "   ---------------------------------------  12.9/12.9 MB 2.9 MB/s eta 0:00:01\n",
      "   ---------------------------------------  12.9/12.9 MB 2.9 MB/s eta 0:00:01\n",
      "   ---------------------------------------  12.9/12.9 MB 2.9 MB/s eta 0:00:01\n",
      "   ---------------------------------------  12.9/12.9 MB 2.9 MB/s eta 0:00:01\n",
      "   ---------------------------------------  12.9/12.9 MB 2.9 MB/s eta 0:00:01\n",
      "   ---------------------------------------  12.9/12.9 MB 2.9 MB/s eta 0:00:01\n",
      "   ---------------------------------------  12.9/12.9 MB 2.9 MB/s eta 0:00:01\n",
      "   ---------------------------------------  12.9/12.9 MB 2.9 MB/s eta 0:00:01\n",
      "   ---------------------------------------- 12.9/12.9 MB 2.4 MB/s eta 0:00:00\n",
      "Downloading pandas-2.2.3-cp311-cp311-win_amd64.whl (11.6 MB)\n",
      "   ---------------------------------------- 0.0/11.6 MB ? eta -:--:--\n",
      "   - -------------------------------------- 0.3/11.6 MB 6.5 MB/s eta 0:00:02\n",
      "   - -------------------------------------- 0.4/11.6 MB 4.6 MB/s eta 0:00:03\n",
      "   - -------------------------------------- 0.5/11.6 MB 4.2 MB/s eta 0:00:03\n",
      "   -- ------------------------------------- 0.6/11.6 MB 3.3 MB/s eta 0:00:04\n",
      "   -- ------------------------------------- 0.8/11.6 MB 3.5 MB/s eta 0:00:04\n",
      "   --- ------------------------------------ 0.9/11.6 MB 3.1 MB/s eta 0:00:04\n",
      "   --- ------------------------------------ 1.0/11.6 MB 3.2 MB/s eta 0:00:04\n",
      "   ---- ----------------------------------- 1.2/11.6 MB 3.2 MB/s eta 0:00:04\n",
      "   ---- ----------------------------------- 1.4/11.6 MB 3.4 MB/s eta 0:00:04\n",
      "   ----- ---------------------------------- 1.6/11.6 MB 3.3 MB/s eta 0:00:04\n",
      "   ----- ---------------------------------- 1.7/11.6 MB 3.6 MB/s eta 0:00:03\n",
      "   ------ --------------------------------- 1.9/11.6 MB 3.5 MB/s eta 0:00:03\n",
      "   ------- -------------------------------- 2.1/11.6 MB 3.6 MB/s eta 0:00:03\n",
      "   ------- -------------------------------- 2.3/11.6 MB 3.5 MB/s eta 0:00:03\n",
      "   -------- ------------------------------- 2.4/11.6 MB 3.6 MB/s eta 0:00:03\n",
      "   --------- ------------------------------ 2.7/11.6 MB 3.6 MB/s eta 0:00:03\n",
      "   --------- ------------------------------ 2.8/11.6 MB 3.6 MB/s eta 0:00:03\n",
      "   ---------- ----------------------------- 2.9/11.6 MB 3.5 MB/s eta 0:00:03\n",
      "   ---------- ----------------------------- 3.1/11.6 MB 3.6 MB/s eta 0:00:03\n",
      "   ----------- ---------------------------- 3.3/11.6 MB 3.5 MB/s eta 0:00:03\n",
      "   ----------- ---------------------------- 3.3/11.6 MB 3.6 MB/s eta 0:00:03\n",
      "   ------------ --------------------------- 3.6/11.6 MB 3.5 MB/s eta 0:00:03\n",
      "   ------------ --------------------------- 3.6/11.6 MB 3.4 MB/s eta 0:00:03\n",
      "   ------------- -------------------------- 3.9/11.6 MB 3.5 MB/s eta 0:00:03\n",
      "   ------------- -------------------------- 3.9/11.6 MB 3.4 MB/s eta 0:00:03\n",
      "   -------------- ------------------------- 4.2/11.6 MB 3.5 MB/s eta 0:00:03\n",
      "   -------------- ------------------------- 4.3/11.6 MB 3.4 MB/s eta 0:00:03\n",
      "   --------------- ------------------------ 4.6/11.6 MB 3.5 MB/s eta 0:00:03\n",
      "   ---------------- ----------------------- 4.6/11.6 MB 3.5 MB/s eta 0:00:03\n",
      "   ---------------- ----------------------- 4.9/11.6 MB 3.5 MB/s eta 0:00:02\n",
      "   ----------------- ---------------------- 5.0/11.6 MB 3.5 MB/s eta 0:00:02\n",
      "   ------------------ --------------------- 5.3/11.6 MB 3.6 MB/s eta 0:00:02\n",
      "   ------------------ --------------------- 5.4/11.6 MB 3.5 MB/s eta 0:00:02\n",
      "   ------------------- -------------------- 5.6/11.6 MB 3.6 MB/s eta 0:00:02\n",
      "   ------------------- -------------------- 5.7/11.6 MB 3.5 MB/s eta 0:00:02\n",
      "   -------------------- ------------------- 5.9/11.6 MB 3.6 MB/s eta 0:00:02\n",
      "   -------------------- ------------------- 6.0/11.6 MB 3.5 MB/s eta 0:00:02\n",
      "   --------------------- ------------------ 6.2/11.6 MB 3.5 MB/s eta 0:00:02\n",
      "   --------------------- ------------------ 6.4/11.6 MB 3.5 MB/s eta 0:00:02\n",
      "   ---------------------- ----------------- 6.5/11.6 MB 3.5 MB/s eta 0:00:02\n",
      "   ---------------------- ----------------- 6.7/11.6 MB 3.5 MB/s eta 0:00:02\n",
      "   ----------------------- ---------------- 6.8/11.6 MB 3.5 MB/s eta 0:00:02\n",
      "   ------------------------ --------------- 7.0/11.6 MB 3.5 MB/s eta 0:00:02\n",
      "   ------------------------ --------------- 7.1/11.6 MB 3.5 MB/s eta 0:00:02\n",
      "   ------------------------- -------------- 7.4/11.6 MB 3.5 MB/s eta 0:00:02\n",
      "   ------------------------- -------------- 7.5/11.6 MB 3.5 MB/s eta 0:00:02\n",
      "   -------------------------- ------------- 7.7/11.6 MB 3.5 MB/s eta 0:00:02\n",
      "   --------------------------- ------------ 7.9/11.6 MB 3.6 MB/s eta 0:00:02\n",
      "   --------------------------- ------------ 8.1/11.6 MB 3.5 MB/s eta 0:00:01\n",
      "   ---------------------------- ----------- 8.2/11.6 MB 3.6 MB/s eta 0:00:01\n",
      "   ---------------------------- ----------- 8.4/11.6 MB 3.5 MB/s eta 0:00:01\n",
      "   ----------------------------- ---------- 8.5/11.6 MB 3.5 MB/s eta 0:00:01\n",
      "   ------------------------------ --------- 8.8/11.6 MB 3.6 MB/s eta 0:00:01\n",
      "   ------------------------------ --------- 8.8/11.6 MB 3.6 MB/s eta 0:00:01\n",
      "   ------------------------------ --------- 8.8/11.6 MB 3.6 MB/s eta 0:00:01\n",
      "   ------------------------------ --------- 8.8/11.6 MB 3.6 MB/s eta 0:00:01\n",
      "   ------------------------------ --------- 8.8/11.6 MB 3.6 MB/s eta 0:00:01\n",
      "   ------------------------------ --------- 8.8/11.6 MB 3.6 MB/s eta 0:00:01\n",
      "   ------------------------------ --------- 8.8/11.6 MB 3.6 MB/s eta 0:00:01\n",
      "   ------------------------------ --------- 8.8/11.6 MB 3.6 MB/s eta 0:00:01\n",
      "   ------------------------------ --------- 8.9/11.6 MB 3.1 MB/s eta 0:00:01\n",
      "   ------------------------------ --------- 9.0/11.6 MB 3.1 MB/s eta 0:00:01\n",
      "   -------------------------------- ------- 9.4/11.6 MB 3.2 MB/s eta 0:00:01\n",
      "   -------------------------------- ------- 9.5/11.6 MB 3.2 MB/s eta 0:00:01\n",
      "   --------------------------------- ------ 9.7/11.6 MB 3.2 MB/s eta 0:00:01\n",
      "   --------------------------------- ------ 9.8/11.6 MB 3.2 MB/s eta 0:00:01\n",
      "   ---------------------------------- ----- 10.0/11.6 MB 3.2 MB/s eta 0:00:01\n",
      "   ---------------------------------- ----- 10.1/11.6 MB 3.2 MB/s eta 0:00:01\n",
      "   ----------------------------------- ---- 10.2/11.6 MB 3.2 MB/s eta 0:00:01\n",
      "   ----------------------------------- ---- 10.4/11.6 MB 3.2 MB/s eta 0:00:01\n",
      "   ----------------------------------- ---- 10.4/11.6 MB 3.1 MB/s eta 0:00:01\n",
      "   ------------------------------------ --- 10.6/11.6 MB 3.1 MB/s eta 0:00:01\n",
      "   ------------------------------------- -- 10.8/11.6 MB 3.1 MB/s eta 0:00:01\n",
      "   ------------------------------------- -- 11.0/11.6 MB 3.2 MB/s eta 0:00:01\n",
      "   -------------------------------------- - 11.1/11.6 MB 3.2 MB/s eta 0:00:01\n",
      "   ---------------------------------------  11.3/11.6 MB 3.2 MB/s eta 0:00:01\n",
      "   ---------------------------------------  11.5/11.6 MB 3.2 MB/s eta 0:00:01\n",
      "   ---------------------------------------  11.6/11.6 MB 3.2 MB/s eta 0:00:01\n",
      "   ---------------------------------------  11.6/11.6 MB 3.2 MB/s eta 0:00:01\n",
      "   ---------------------------------------  11.6/11.6 MB 3.2 MB/s eta 0:00:01\n",
      "   ---------------------------------------  11.6/11.6 MB 3.2 MB/s eta 0:00:01\n",
      "   ---------------------------------------  11.6/11.6 MB 3.2 MB/s eta 0:00:01\n",
      "   ---------------------------------------  11.6/11.6 MB 3.2 MB/s eta 0:00:01\n",
      "   ---------------------------------------  11.6/11.6 MB 3.2 MB/s eta 0:00:01\n",
      "   ---------------------------------------  11.6/11.6 MB 3.2 MB/s eta 0:00:01\n",
      "   ---------------------------------------  11.6/11.6 MB 3.2 MB/s eta 0:00:01\n",
      "   ---------------------------------------  11.6/11.6 MB 3.2 MB/s eta 0:00:01\n",
      "   ---------------------------------------  11.6/11.6 MB 3.2 MB/s eta 0:00:01\n",
      "   ---------------------------------------  11.6/11.6 MB 3.2 MB/s eta 0:00:01\n",
      "   ---------------------------------------  11.6/11.6 MB 3.2 MB/s eta 0:00:01\n",
      "   ---------------------------------------  11.6/11.6 MB 3.2 MB/s eta 0:00:01\n",
      "   ---------------------------------------  11.6/11.6 MB 3.2 MB/s eta 0:00:01\n",
      "   ---------------------------------------  11.6/11.6 MB 3.2 MB/s eta 0:00:01\n",
      "   ---------------------------------------  11.6/11.6 MB 3.2 MB/s eta 0:00:01\n",
      "   ---------------------------------------  11.6/11.6 MB 3.2 MB/s eta 0:00:01\n",
      "   ---------------------------------------  11.6/11.6 MB 3.2 MB/s eta 0:00:01\n",
      "   ---------------------------------------  11.6/11.6 MB 3.2 MB/s eta 0:00:01\n",
      "   ---------------------------------------  11.6/11.6 MB 3.2 MB/s eta 0:00:01\n",
      "   ---------------------------------------  11.6/11.6 MB 3.2 MB/s eta 0:00:01\n",
      "   ---------------------------------------  11.6/11.6 MB 3.2 MB/s eta 0:00:01\n",
      "   ---------------------------------------  11.6/11.6 MB 3.2 MB/s eta 0:00:01\n",
      "   ---------------------------------------  11.6/11.6 MB 3.2 MB/s eta 0:00:01\n",
      "   ---------------------------------------  11.6/11.6 MB 3.2 MB/s eta 0:00:01\n",
      "   ---------------------------------------  11.6/11.6 MB 3.2 MB/s eta 0:00:01\n",
      "   ---------------------------------------  11.6/11.6 MB 3.2 MB/s eta 0:00:01\n",
      "   ---------------------------------------  11.6/11.6 MB 3.2 MB/s eta 0:00:01\n",
      "   ---------------------------------------  11.6/11.6 MB 3.2 MB/s eta 0:00:01\n",
      "   ---------------------------------------  11.6/11.6 MB 3.2 MB/s eta 0:00:01\n",
      "   ---------------------------------------  11.6/11.6 MB 3.2 MB/s eta 0:00:01\n",
      "   ---------------------------------------  11.6/11.6 MB 3.2 MB/s eta 0:00:01\n",
      "   ---------------------------------------- 11.6/11.6 MB 2.1 MB/s eta 0:00:00\n",
      "Downloading pyarrow-18.1.0-cp311-cp311-win_amd64.whl (25.1 MB)\n",
      "   ---------------------------------------- 0.0/25.1 MB ? eta -:--:--\n",
      "   ---------------------------------------- 0.0/25.1 MB ? eta -:--:--\n",
      "   ---------------------------------------- 0.2/25.1 MB 2.9 MB/s eta 0:00:09\n",
      "    --------------------------------------- 0.3/25.1 MB 3.5 MB/s eta 0:00:08\n",
      "    --------------------------------------- 0.6/25.1 MB 3.5 MB/s eta 0:00:07\n",
      "   - -------------------------------------- 0.7/25.1 MB 3.5 MB/s eta 0:00:08\n",
      "   - -------------------------------------- 0.8/25.1 MB 3.4 MB/s eta 0:00:08\n",
      "   - -------------------------------------- 0.9/25.1 MB 3.2 MB/s eta 0:00:08\n",
      "   - -------------------------------------- 0.9/25.1 MB 2.8 MB/s eta 0:00:09\n",
      "   - -------------------------------------- 0.9/25.1 MB 2.3 MB/s eta 0:00:11\n",
      "   - -------------------------------------- 0.9/25.1 MB 2.1 MB/s eta 0:00:12\n",
      "   - -------------------------------------- 0.9/25.1 MB 1.9 MB/s eta 0:00:13\n",
      "   - -------------------------------------- 1.1/25.1 MB 2.0 MB/s eta 0:00:13\n",
      "   - -------------------------------------- 1.2/25.1 MB 2.0 MB/s eta 0:00:13\n",
      "   -- ------------------------------------- 1.3/25.1 MB 2.1 MB/s eta 0:00:12\n",
      "   -- ------------------------------------- 1.5/25.1 MB 2.1 MB/s eta 0:00:12\n",
      "   -- ------------------------------------- 1.6/25.1 MB 2.3 MB/s eta 0:00:11\n",
      "   -- ------------------------------------- 1.8/25.1 MB 2.3 MB/s eta 0:00:11\n",
      "   --- ------------------------------------ 1.9/25.1 MB 2.4 MB/s eta 0:00:10\n",
      "   --- ------------------------------------ 1.9/25.1 MB 2.4 MB/s eta 0:00:10\n",
      "   --- ------------------------------------ 1.9/25.1 MB 2.4 MB/s eta 0:00:10\n",
      "   --- ------------------------------------ 1.9/25.1 MB 2.4 MB/s eta 0:00:10\n",
      "   --- ------------------------------------ 1.9/25.1 MB 2.4 MB/s eta 0:00:10\n",
      "   --- ------------------------------------ 1.9/25.1 MB 2.4 MB/s eta 0:00:10\n",
      "   --- ------------------------------------ 1.9/25.1 MB 2.4 MB/s eta 0:00:10\n",
      "   --- ------------------------------------ 2.4/25.1 MB 2.0 MB/s eta 0:00:12\n",
      "   ---- ----------------------------------- 3.0/25.1 MB 2.6 MB/s eta 0:00:09\n",
      "   ----- ---------------------------------- 3.2/25.1 MB 2.5 MB/s eta 0:00:09\n",
      "   ----- ---------------------------------- 3.3/25.1 MB 2.6 MB/s eta 0:00:09\n",
      "   ----- ---------------------------------- 3.5/25.1 MB 2.6 MB/s eta 0:00:09\n",
      "   ----- ---------------------------------- 3.5/25.1 MB 2.6 MB/s eta 0:00:09\n",
      "   ------ --------------------------------- 3.8/25.1 MB 2.7 MB/s eta 0:00:09\n",
      "   ------ --------------------------------- 3.9/25.1 MB 2.6 MB/s eta 0:00:09\n",
      "   ------ --------------------------------- 4.2/25.1 MB 2.7 MB/s eta 0:00:08\n",
      "   ------ --------------------------------- 4.2/25.1 MB 2.7 MB/s eta 0:00:08\n",
      "   ------ --------------------------------- 4.4/25.1 MB 2.7 MB/s eta 0:00:08\n",
      "   ------- -------------------------------- 4.4/25.1 MB 2.6 MB/s eta 0:00:08\n",
      "   ------- -------------------------------- 4.6/25.1 MB 2.7 MB/s eta 0:00:08\n",
      "   ------- -------------------------------- 4.7/25.1 MB 2.7 MB/s eta 0:00:08\n",
      "   ------- -------------------------------- 4.9/25.1 MB 2.7 MB/s eta 0:00:08\n",
      "   ------- -------------------------------- 5.0/25.1 MB 2.7 MB/s eta 0:00:08\n",
      "   -------- ------------------------------- 5.1/25.1 MB 2.7 MB/s eta 0:00:08\n",
      "   -------- ------------------------------- 5.2/25.1 MB 2.7 MB/s eta 0:00:08\n",
      "   -------- ------------------------------- 5.2/25.1 MB 2.7 MB/s eta 0:00:08\n",
      "   -------- ------------------------------- 5.3/25.1 MB 2.6 MB/s eta 0:00:08\n",
      "   -------- ------------------------------- 5.3/25.1 MB 2.6 MB/s eta 0:00:08\n",
      "   -------- ------------------------------- 5.4/25.1 MB 2.5 MB/s eta 0:00:08\n",
      "   -------- ------------------------------- 5.5/25.1 MB 2.5 MB/s eta 0:00:08\n",
      "   --------- ------------------------------ 5.7/25.1 MB 2.6 MB/s eta 0:00:08\n",
      "   --------- ------------------------------ 5.8/25.1 MB 2.6 MB/s eta 0:00:08\n",
      "   --------- ------------------------------ 5.9/25.1 MB 2.5 MB/s eta 0:00:08\n",
      "   --------- ------------------------------ 6.0/25.1 MB 2.5 MB/s eta 0:00:08\n",
      "   --------- ------------------------------ 6.2/25.1 MB 2.6 MB/s eta 0:00:08\n",
      "   --------- ------------------------------ 6.2/25.1 MB 2.6 MB/s eta 0:00:08\n",
      "   ---------- ----------------------------- 6.5/25.1 MB 2.6 MB/s eta 0:00:08\n",
      "   ---------- ----------------------------- 6.5/25.1 MB 2.6 MB/s eta 0:00:08\n",
      "   ---------- ----------------------------- 6.7/25.1 MB 2.6 MB/s eta 0:00:08\n",
      "   ---------- ----------------------------- 6.7/25.1 MB 2.6 MB/s eta 0:00:08\n",
      "   ---------- ----------------------------- 6.9/25.1 MB 2.5 MB/s eta 0:00:08\n",
      "   ---------- ----------------------------- 6.9/25.1 MB 2.5 MB/s eta 0:00:08\n",
      "   ----------- ---------------------------- 7.1/25.1 MB 2.6 MB/s eta 0:00:08\n",
      "   ----------- ---------------------------- 7.2/25.1 MB 2.6 MB/s eta 0:00:07\n",
      "   ----------- ---------------------------- 7.5/25.1 MB 2.6 MB/s eta 0:00:07\n",
      "   ----------- ---------------------------- 7.5/25.1 MB 2.6 MB/s eta 0:00:07\n",
      "   ------------ --------------------------- 7.8/25.1 MB 2.6 MB/s eta 0:00:07\n",
      "   ------------ --------------------------- 7.8/25.1 MB 2.6 MB/s eta 0:00:07\n",
      "   ------------ --------------------------- 8.0/25.1 MB 2.6 MB/s eta 0:00:07\n",
      "   ------------ --------------------------- 8.1/25.1 MB 2.6 MB/s eta 0:00:07\n",
      "   ------------- -------------------------- 8.4/25.1 MB 2.6 MB/s eta 0:00:07\n",
      "   ------------- -------------------------- 8.4/25.1 MB 2.6 MB/s eta 0:00:07\n",
      "   ------------- -------------------------- 8.6/25.1 MB 2.6 MB/s eta 0:00:07\n",
      "   ------------- -------------------------- 8.6/25.1 MB 2.6 MB/s eta 0:00:07\n",
      "   ------------- -------------------------- 8.7/25.1 MB 2.6 MB/s eta 0:00:07\n",
      "   ------------- -------------------------- 8.8/25.1 MB 2.6 MB/s eta 0:00:07\n",
      "   -------------- ------------------------- 9.0/25.1 MB 2.6 MB/s eta 0:00:07\n",
      "   -------------- ------------------------- 9.1/25.1 MB 2.6 MB/s eta 0:00:07\n",
      "   -------------- ------------------------- 9.2/25.1 MB 2.6 MB/s eta 0:00:07\n",
      "   -------------- ------------------------- 9.3/25.1 MB 2.6 MB/s eta 0:00:07\n",
      "   --------------- ------------------------ 9.5/25.1 MB 2.6 MB/s eta 0:00:06\n",
      "   --------------- ------------------------ 9.6/25.1 MB 2.6 MB/s eta 0:00:06\n",
      "   --------------- ------------------------ 9.7/25.1 MB 2.6 MB/s eta 0:00:06\n",
      "   --------------- ------------------------ 9.9/25.1 MB 2.6 MB/s eta 0:00:06\n",
      "   --------------- ------------------------ 10.0/25.1 MB 2.7 MB/s eta 0:00:06\n",
      "   ---------------- ----------------------- 10.3/25.1 MB 2.7 MB/s eta 0:00:06\n",
      "   ---------------- ----------------------- 10.4/25.1 MB 2.7 MB/s eta 0:00:06\n",
      "   ---------------- ----------------------- 10.6/25.1 MB 2.7 MB/s eta 0:00:06\n",
      "   ---------------- ----------------------- 10.6/25.1 MB 2.7 MB/s eta 0:00:06\n",
      "   ----------------- ---------------------- 10.9/25.1 MB 2.7 MB/s eta 0:00:06\n",
      "   ----------------- ---------------------- 11.0/25.1 MB 2.7 MB/s eta 0:00:06\n",
      "   ----------------- ---------------------- 11.0/25.1 MB 2.7 MB/s eta 0:00:06\n",
      "   ----------------- ---------------------- 11.0/25.1 MB 2.7 MB/s eta 0:00:06\n",
      "   ----------------- ---------------------- 11.0/25.1 MB 2.7 MB/s eta 0:00:06\n",
      "   ----------------- ---------------------- 11.0/25.1 MB 2.7 MB/s eta 0:00:06\n",
      "   ----------------- ---------------------- 11.0/25.1 MB 2.7 MB/s eta 0:00:06\n",
      "   ----------------- ---------------------- 11.0/25.1 MB 2.7 MB/s eta 0:00:06\n",
      "   ----------------- ---------------------- 11.0/25.1 MB 2.7 MB/s eta 0:00:06\n",
      "   ----------------- ---------------------- 11.0/25.1 MB 2.7 MB/s eta 0:00:06\n",
      "   ----------------- ---------------------- 11.0/25.1 MB 2.7 MB/s eta 0:00:06\n",
      "   ----------------- ---------------------- 11.0/25.1 MB 2.7 MB/s eta 0:00:06\n",
      "   ----------------- ---------------------- 11.0/25.1 MB 2.7 MB/s eta 0:00:06\n",
      "   ----------------- ---------------------- 11.0/25.1 MB 2.7 MB/s eta 0:00:06\n",
      "   ----------------- ---------------------- 11.0/25.1 MB 2.7 MB/s eta 0:00:06\n",
      "   ----------------- ---------------------- 11.0/25.1 MB 2.7 MB/s eta 0:00:06\n",
      "   ----------------- ---------------------- 11.0/25.1 MB 2.7 MB/s eta 0:00:06\n",
      "   ----------------- ---------------------- 11.0/25.1 MB 2.7 MB/s eta 0:00:06\n",
      "   ----------------- ---------------------- 11.0/25.1 MB 2.7 MB/s eta 0:00:06\n",
      "   ----------------- ---------------------- 11.0/25.1 MB 2.7 MB/s eta 0:00:06\n",
      "   ----------------- ---------------------- 11.0/25.1 MB 2.7 MB/s eta 0:00:06\n",
      "   ----------------- ---------------------- 11.0/25.1 MB 2.7 MB/s eta 0:00:06\n",
      "   ----------------- ---------------------- 11.0/25.1 MB 2.7 MB/s eta 0:00:06\n",
      "   ----------------- ---------------------- 11.0/25.1 MB 2.7 MB/s eta 0:00:06\n",
      "   ----------------- ---------------------- 11.0/25.1 MB 2.7 MB/s eta 0:00:06\n",
      "   ----------------- ---------------------- 11.0/25.1 MB 2.7 MB/s eta 0:00:06\n",
      "   ----------------- ---------------------- 11.0/25.1 MB 2.7 MB/s eta 0:00:06\n",
      "   ----------------- ---------------------- 11.0/25.1 MB 2.7 MB/s eta 0:00:06\n",
      "   ----------------- ---------------------- 11.0/25.1 MB 2.7 MB/s eta 0:00:06\n",
      "   ----------------- ---------------------- 11.0/25.1 MB 2.7 MB/s eta 0:00:06\n",
      "   ----------------- ---------------------- 11.0/25.1 MB 2.7 MB/s eta 0:00:06\n",
      "   ----------------- ---------------------- 11.0/25.1 MB 2.7 MB/s eta 0:00:06\n",
      "   ----------------- ---------------------- 11.0/25.1 MB 2.7 MB/s eta 0:00:06\n",
      "   ------------------ --------------------- 11.7/25.1 MB 2.1 MB/s eta 0:00:07\n",
      "   ------------------- -------------------- 12.1/25.1 MB 2.1 MB/s eta 0:00:07\n",
      "   ------------------- -------------------- 12.1/25.1 MB 2.1 MB/s eta 0:00:07\n",
      "   ------------------- -------------------- 12.2/25.1 MB 2.2 MB/s eta 0:00:06\n",
      "   ------------------- -------------------- 12.4/25.1 MB 2.2 MB/s eta 0:00:06\n",
      "   ------------------- -------------------- 12.5/25.1 MB 2.2 MB/s eta 0:00:06\n",
      "   -------------------- ------------------- 12.6/25.1 MB 2.2 MB/s eta 0:00:06\n",
      "   -------------------- ------------------- 12.7/25.1 MB 2.2 MB/s eta 0:00:06\n",
      "   -------------------- ------------------- 12.9/25.1 MB 2.1 MB/s eta 0:00:06\n",
      "   -------------------- ------------------- 13.1/25.1 MB 2.1 MB/s eta 0:00:06\n",
      "   --------------------- ------------------ 13.3/25.1 MB 2.1 MB/s eta 0:00:06\n",
      "   --------------------- ------------------ 13.5/25.1 MB 2.1 MB/s eta 0:00:06\n",
      "   --------------------- ------------------ 13.7/25.1 MB 2.1 MB/s eta 0:00:06\n",
      "   --------------------- ------------------ 13.8/25.1 MB 2.1 MB/s eta 0:00:06\n",
      "   ---------------------- ----------------- 14.0/25.1 MB 2.1 MB/s eta 0:00:06\n",
      "   ---------------------- ----------------- 14.2/25.1 MB 2.1 MB/s eta 0:00:06\n",
      "   ---------------------- ----------------- 14.3/25.1 MB 2.1 MB/s eta 0:00:06\n",
      "   ---------------------- ----------------- 14.4/25.1 MB 2.1 MB/s eta 0:00:06\n",
      "   ----------------------- ---------------- 14.5/25.1 MB 2.1 MB/s eta 0:00:05\n",
      "   ----------------------- ---------------- 14.7/25.1 MB 2.1 MB/s eta 0:00:05\n",
      "   ----------------------- ---------------- 14.8/25.1 MB 2.1 MB/s eta 0:00:05\n",
      "   ----------------------- ---------------- 15.0/25.1 MB 2.1 MB/s eta 0:00:05\n",
      "   ----------------------- ---------------- 15.0/25.1 MB 2.1 MB/s eta 0:00:05\n",
      "   ------------------------ --------------- 15.3/25.1 MB 2.1 MB/s eta 0:00:05\n",
      "   ------------------------ --------------- 15.4/25.1 MB 2.1 MB/s eta 0:00:05\n",
      "   ------------------------ --------------- 15.5/25.1 MB 2.1 MB/s eta 0:00:05\n",
      "   ------------------------ --------------- 15.5/25.1 MB 2.1 MB/s eta 0:00:05\n",
      "   ------------------------ --------------- 15.5/25.1 MB 2.1 MB/s eta 0:00:05\n",
      "   ------------------------ --------------- 15.5/25.1 MB 2.1 MB/s eta 0:00:05\n",
      "   ------------------------ --------------- 15.6/25.1 MB 2.1 MB/s eta 0:00:05\n",
      "   ------------------------ --------------- 15.7/25.1 MB 2.1 MB/s eta 0:00:05\n",
      "   ------------------------- -------------- 15.7/25.1 MB 2.1 MB/s eta 0:00:05\n",
      "   ------------------------- -------------- 15.7/25.1 MB 2.1 MB/s eta 0:00:05\n",
      "   ------------------------- -------------- 15.9/25.1 MB 2.1 MB/s eta 0:00:05\n",
      "   ------------------------- -------------- 15.9/25.1 MB 2.1 MB/s eta 0:00:05\n",
      "   ------------------------- -------------- 16.1/25.1 MB 2.1 MB/s eta 0:00:05\n",
      "   ------------------------- -------------- 16.2/25.1 MB 2.1 MB/s eta 0:00:05\n",
      "   -------------------------- ------------- 16.5/25.1 MB 2.1 MB/s eta 0:00:05\n",
      "   -------------------------- ------------- 16.6/25.1 MB 2.1 MB/s eta 0:00:05\n",
      "   -------------------------- ------------- 16.7/25.1 MB 2.1 MB/s eta 0:00:05\n",
      "   -------------------------- ------------- 16.8/25.1 MB 2.1 MB/s eta 0:00:04\n",
      "   --------------------------- ------------ 17.0/25.1 MB 2.1 MB/s eta 0:00:04\n",
      "   --------------------------- ------------ 17.1/25.1 MB 2.1 MB/s eta 0:00:04\n",
      "   --------------------------- ------------ 17.3/25.1 MB 2.1 MB/s eta 0:00:04\n",
      "   --------------------------- ------------ 17.5/25.1 MB 2.1 MB/s eta 0:00:04\n",
      "   ---------------------------- ----------- 17.6/25.1 MB 2.1 MB/s eta 0:00:04\n",
      "   ---------------------------- ----------- 17.8/25.1 MB 2.1 MB/s eta 0:00:04\n",
      "   ---------------------------- ----------- 17.9/25.1 MB 2.1 MB/s eta 0:00:04\n",
      "   ---------------------------- ----------- 18.1/25.1 MB 2.1 MB/s eta 0:00:04\n",
      "   ----------------------------- ---------- 18.2/25.1 MB 2.1 MB/s eta 0:00:04\n",
      "   ----------------------------- ---------- 18.4/25.1 MB 2.1 MB/s eta 0:00:04\n",
      "   ----------------------------- ---------- 18.5/25.1 MB 2.1 MB/s eta 0:00:04\n",
      "   ----------------------------- ---------- 18.8/25.1 MB 2.1 MB/s eta 0:00:03\n",
      "   ------------------------------ --------- 18.9/25.1 MB 2.2 MB/s eta 0:00:03\n",
      "   ------------------------------ --------- 19.1/25.1 MB 2.2 MB/s eta 0:00:03\n",
      "   ------------------------------ --------- 19.2/25.1 MB 2.2 MB/s eta 0:00:03\n",
      "   ------------------------------ --------- 19.4/25.1 MB 2.2 MB/s eta 0:00:03\n",
      "   ------------------------------- -------- 19.5/25.1 MB 2.2 MB/s eta 0:00:03\n",
      "   ------------------------------- -------- 19.7/25.1 MB 2.2 MB/s eta 0:00:03\n",
      "   ------------------------------- -------- 19.9/25.1 MB 2.2 MB/s eta 0:00:03\n",
      "   ------------------------------- -------- 20.1/25.1 MB 2.2 MB/s eta 0:00:03\n",
      "   -------------------------------- ------- 20.1/25.1 MB 2.2 MB/s eta 0:00:03\n",
      "   -------------------------------- ------- 20.3/25.1 MB 2.2 MB/s eta 0:00:03\n",
      "   -------------------------------- ------- 20.4/25.1 MB 2.2 MB/s eta 0:00:03\n",
      "   -------------------------------- ------- 20.5/25.1 MB 2.2 MB/s eta 0:00:03\n",
      "   -------------------------------- ------- 20.6/25.1 MB 2.2 MB/s eta 0:00:03\n",
      "   --------------------------------- ------ 20.7/25.1 MB 2.2 MB/s eta 0:00:03\n",
      "   --------------------------------- ------ 20.8/25.1 MB 2.2 MB/s eta 0:00:02\n",
      "   --------------------------------- ------ 20.9/25.1 MB 2.2 MB/s eta 0:00:02\n",
      "   --------------------------------- ------ 21.1/25.1 MB 2.1 MB/s eta 0:00:02\n",
      "   --------------------------------- ------ 21.1/25.1 MB 2.1 MB/s eta 0:00:02\n",
      "   --------------------------------- ------ 21.3/25.1 MB 3.1 MB/s eta 0:00:02\n",
      "   ---------------------------------- ----- 21.4/25.1 MB 3.1 MB/s eta 0:00:02\n",
      "   ---------------------------------- ----- 21.6/25.1 MB 3.0 MB/s eta 0:00:02\n",
      "   ---------------------------------- ----- 21.7/25.1 MB 3.0 MB/s eta 0:00:02\n",
      "   ---------------------------------- ----- 21.9/25.1 MB 2.9 MB/s eta 0:00:02\n",
      "   ---------------------------------- ----- 22.0/25.1 MB 2.9 MB/s eta 0:00:02\n",
      "   ----------------------------------- ---- 22.2/25.1 MB 2.9 MB/s eta 0:00:02\n",
      "   ----------------------------------- ---- 22.2/25.1 MB 2.8 MB/s eta 0:00:02\n",
      "   ----------------------------------- ---- 22.5/25.1 MB 2.9 MB/s eta 0:00:01\n",
      "   ----------------------------------- ---- 22.6/25.1 MB 2.9 MB/s eta 0:00:01\n",
      "   ------------------------------------ --- 22.8/25.1 MB 2.9 MB/s eta 0:00:01\n",
      "   ------------------------------------ --- 22.8/25.1 MB 2.9 MB/s eta 0:00:01\n",
      "   ------------------------------------ --- 23.1/25.1 MB 2.9 MB/s eta 0:00:01\n",
      "   ------------------------------------ --- 23.1/25.1 MB 2.9 MB/s eta 0:00:01\n",
      "   ------------------------------------- -- 23.3/25.1 MB 2.9 MB/s eta 0:00:01\n",
      "   ------------------------------------- -- 23.5/25.1 MB 2.9 MB/s eta 0:00:01\n",
      "   ------------------------------------- -- 23.6/25.1 MB 2.9 MB/s eta 0:00:01\n",
      "   ------------------------------------- -- 23.8/25.1 MB 2.9 MB/s eta 0:00:01\n",
      "   -------------------------------------- - 24.0/25.1 MB 2.9 MB/s eta 0:00:01\n",
      "   -------------------------------------- - 24.2/25.1 MB 2.9 MB/s eta 0:00:01\n",
      "   -------------------------------------- - 24.4/25.1 MB 2.9 MB/s eta 0:00:01\n",
      "   -------------------------------------- - 24.4/25.1 MB 2.9 MB/s eta 0:00:01\n",
      "   -------------------------------------- - 24.4/25.1 MB 2.9 MB/s eta 0:00:01\n",
      "   ---------------------------------------  24.9/25.1 MB 2.9 MB/s eta 0:00:01\n",
      "   ---------------------------------------  25.1/25.1 MB 2.9 MB/s eta 0:00:01\n",
      "   ---------------------------------------  25.1/25.1 MB 2.9 MB/s eta 0:00:01\n",
      "   ---------------------------------------  25.1/25.1 MB 2.9 MB/s eta 0:00:01\n",
      "   ---------------------------------------  25.1/25.1 MB 2.9 MB/s eta 0:00:01\n",
      "   ---------------------------------------- 25.1/25.1 MB 2.8 MB/s eta 0:00:00\n",
      "Downloading scikit_learn-1.6.0-cp311-cp311-win_amd64.whl (11.1 MB)\n",
      "   ---------------------------------------- 0.0/11.1 MB ? eta -:--:--\n",
      "    --------------------------------------- 0.2/11.1 MB 5.9 MB/s eta 0:00:02\n",
      "    --------------------------------------- 0.2/11.1 MB 5.0 MB/s eta 0:00:03\n",
      "   - -------------------------------------- 0.5/11.1 MB 4.0 MB/s eta 0:00:03\n",
      "   -- ------------------------------------- 0.6/11.1 MB 3.2 MB/s eta 0:00:04\n",
      "   --- ------------------------------------ 0.8/11.1 MB 3.8 MB/s eta 0:00:03\n",
      "   --- ------------------------------------ 0.9/11.1 MB 3.4 MB/s eta 0:00:03\n",
      "   ---- ----------------------------------- 1.2/11.1 MB 3.7 MB/s eta 0:00:03\n",
      "   ---- ----------------------------------- 1.3/11.1 MB 3.5 MB/s eta 0:00:03\n",
      "   ----- ---------------------------------- 1.5/11.1 MB 3.8 MB/s eta 0:00:03\n",
      "   ----- ---------------------------------- 1.6/11.1 MB 3.5 MB/s eta 0:00:03\n",
      "   ------ --------------------------------- 1.9/11.1 MB 3.8 MB/s eta 0:00:03\n",
      "   ------ --------------------------------- 1.9/11.1 MB 3.5 MB/s eta 0:00:03\n",
      "   ------- -------------------------------- 2.1/11.1 MB 3.7 MB/s eta 0:00:03\n",
      "   -------- ------------------------------- 2.3/11.1 MB 3.5 MB/s eta 0:00:03\n",
      "   -------- ------------------------------- 2.4/11.1 MB 3.6 MB/s eta 0:00:03\n",
      "   --------- ------------------------------ 2.6/11.1 MB 3.6 MB/s eta 0:00:03\n",
      "   --------- ------------------------------ 2.7/11.1 MB 3.5 MB/s eta 0:00:03\n",
      "   --------- ------------------------------ 2.8/11.1 MB 3.3 MB/s eta 0:00:03\n",
      "   ---------- ----------------------------- 2.8/11.1 MB 3.3 MB/s eta 0:00:03\n",
      "   ---------- ----------------------------- 3.0/11.1 MB 3.2 MB/s eta 0:00:03\n",
      "   ----------- ---------------------------- 3.1/11.1 MB 3.3 MB/s eta 0:00:03\n",
      "   ------------ --------------------------- 3.4/11.1 MB 3.3 MB/s eta 0:00:03\n",
      "   ------------ --------------------------- 3.5/11.1 MB 3.3 MB/s eta 0:00:03\n",
      "   ------------- -------------------------- 3.8/11.1 MB 3.4 MB/s eta 0:00:03\n",
      "   ------------- -------------------------- 3.9/11.1 MB 3.3 MB/s eta 0:00:03\n",
      "   -------------- ------------------------- 4.1/11.1 MB 3.4 MB/s eta 0:00:03\n",
      "   --------------- ------------------------ 4.2/11.1 MB 3.4 MB/s eta 0:00:03\n",
      "   ---------------- ----------------------- 4.5/11.1 MB 3.4 MB/s eta 0:00:02\n",
      "   ---------------- ----------------------- 4.5/11.1 MB 3.4 MB/s eta 0:00:02\n",
      "   ----------------- ---------------------- 4.8/11.1 MB 3.4 MB/s eta 0:00:02\n",
      "   ----------------- ---------------------- 4.9/11.1 MB 3.4 MB/s eta 0:00:02\n",
      "   ------------------ --------------------- 5.0/11.1 MB 3.4 MB/s eta 0:00:02\n",
      "   ------------------ --------------------- 5.2/11.1 MB 3.4 MB/s eta 0:00:02\n",
      "   ------------------- -------------------- 5.4/11.1 MB 3.4 MB/s eta 0:00:02\n",
      "   ------------------- -------------------- 5.5/11.1 MB 3.4 MB/s eta 0:00:02\n",
      "   -------------------- ------------------- 5.7/11.1 MB 3.4 MB/s eta 0:00:02\n",
      "   --------------------- ------------------ 5.8/11.1 MB 3.4 MB/s eta 0:00:02\n",
      "   --------------------- ------------------ 6.0/11.1 MB 3.4 MB/s eta 0:00:02\n",
      "   ---------------------- ----------------- 6.2/11.1 MB 3.4 MB/s eta 0:00:02\n",
      "   ---------------------- ----------------- 6.4/11.1 MB 3.4 MB/s eta 0:00:02\n",
      "   ----------------------- ---------------- 6.6/11.1 MB 3.4 MB/s eta 0:00:02\n",
      "   ------------------------ --------------- 6.7/11.1 MB 3.5 MB/s eta 0:00:02\n",
      "   ------------------------ --------------- 6.9/11.1 MB 3.4 MB/s eta 0:00:02\n",
      "   ------------------------ --------------- 6.9/11.1 MB 3.5 MB/s eta 0:00:02\n",
      "   ------------------------ --------------- 7.0/11.1 MB 3.4 MB/s eta 0:00:02\n",
      "   ------------------------- -------------- 7.0/11.1 MB 3.3 MB/s eta 0:00:02\n",
      "   ------------------------- -------------- 7.2/11.1 MB 3.3 MB/s eta 0:00:02\n",
      "   -------------------------- ------------- 7.3/11.1 MB 3.3 MB/s eta 0:00:02\n",
      "   -------------------------- ------------- 7.5/11.1 MB 3.3 MB/s eta 0:00:02\n",
      "   --------------------------- ------------ 7.5/11.1 MB 3.3 MB/s eta 0:00:02\n",
      "   ---------------------------- ----------- 7.8/11.1 MB 3.3 MB/s eta 0:00:02\n",
      "   ---------------------------- ----------- 7.9/11.1 MB 3.3 MB/s eta 0:00:01\n",
      "   ----------------------------- ---------- 8.2/11.1 MB 3.3 MB/s eta 0:00:01\n",
      "   ----------------------------- ---------- 8.2/11.1 MB 3.3 MB/s eta 0:00:01\n",
      "   ------------------------------ --------- 8.5/11.1 MB 3.3 MB/s eta 0:00:01\n",
      "   ------------------------------ --------- 8.6/11.1 MB 3.3 MB/s eta 0:00:01\n",
      "   ------------------------------- -------- 8.8/11.1 MB 3.3 MB/s eta 0:00:01\n",
      "   ------------------------------- -------- 8.9/11.1 MB 3.3 MB/s eta 0:00:01\n",
      "   -------------------------------- ------- 9.1/11.1 MB 3.3 MB/s eta 0:00:01\n",
      "   -------------------------------- ------- 9.2/11.1 MB 3.3 MB/s eta 0:00:01\n",
      "   --------------------------------- ------ 9.3/11.1 MB 3.3 MB/s eta 0:00:01\n",
      "   --------------------------------- ------ 9.5/11.1 MB 3.3 MB/s eta 0:00:01\n",
      "   ---------------------------------- ----- 9.6/11.1 MB 3.3 MB/s eta 0:00:01\n",
      "   ----------------------------------- ---- 9.7/11.1 MB 3.3 MB/s eta 0:00:01\n",
      "   ----------------------------------- ---- 9.9/11.1 MB 3.3 MB/s eta 0:00:01\n",
      "   ----------------------------------- ---- 10.0/11.1 MB 3.3 MB/s eta 0:00:01\n",
      "   ------------------------------------ --- 10.1/11.1 MB 3.3 MB/s eta 0:00:01\n",
      "   ------------------------------------ --- 10.2/11.1 MB 3.2 MB/s eta 0:00:01\n",
      "   ------------------------------------- -- 10.3/11.1 MB 3.2 MB/s eta 0:00:01\n",
      "   ------------------------------------- -- 10.5/11.1 MB 3.2 MB/s eta 0:00:01\n",
      "   ------------------------------------- -- 10.5/11.1 MB 3.2 MB/s eta 0:00:01\n",
      "   ------------------------------------- -- 10.5/11.1 MB 3.2 MB/s eta 0:00:01\n",
      "   ------------------------------------- -- 10.5/11.1 MB 3.1 MB/s eta 0:00:01\n",
      "   ------------------------------------- -- 10.5/11.1 MB 3.1 MB/s eta 0:00:01\n",
      "   ------------------------------------- -- 10.5/11.1 MB 3.1 MB/s eta 0:00:01\n",
      "   ---------------------------------------  11.1/11.1 MB 3.1 MB/s eta 0:00:01\n",
      "   ---------------------------------------  11.1/11.1 MB 3.1 MB/s eta 0:00:01\n",
      "   ---------------------------------------- 11.1/11.1 MB 3.1 MB/s eta 0:00:00\n",
      "Downloading scipy-1.14.1-cp311-cp311-win_amd64.whl (44.8 MB)\n",
      "   ---------------------------------------- 0.0/44.8 MB ? eta -:--:--\n",
      "   ---------------------------------------- 0.1/44.8 MB 7.0 MB/s eta 0:00:07\n",
      "   ---------------------------------------- 0.2/44.8 MB 2.9 MB/s eta 0:00:16\n",
      "   ---------------------------------------- 0.4/44.8 MB 3.8 MB/s eta 0:00:12\n",
      "   ---------------------------------------- 0.5/44.8 MB 3.0 MB/s eta 0:00:16\n",
      "    --------------------------------------- 0.7/44.8 MB 3.3 MB/s eta 0:00:14\n",
      "    --------------------------------------- 0.8/44.8 MB 3.0 MB/s eta 0:00:15\n",
      "    --------------------------------------- 1.0/44.8 MB 3.3 MB/s eta 0:00:14\n",
      "    --------------------------------------- 1.1/44.8 MB 3.2 MB/s eta 0:00:14\n",
      "   - -------------------------------------- 1.3/44.8 MB 3.4 MB/s eta 0:00:13\n",
      "   - -------------------------------------- 1.4/44.8 MB 3.2 MB/s eta 0:00:14\n",
      "   - -------------------------------------- 1.7/44.8 MB 3.4 MB/s eta 0:00:13\n",
      "   - -------------------------------------- 1.8/44.8 MB 3.3 MB/s eta 0:00:13\n",
      "   - -------------------------------------- 2.0/44.8 MB 3.5 MB/s eta 0:00:13\n",
      "   - -------------------------------------- 2.2/44.8 MB 3.5 MB/s eta 0:00:13\n",
      "   -- ------------------------------------- 2.3/44.8 MB 3.6 MB/s eta 0:00:12\n",
      "   -- ------------------------------------- 2.5/44.8 MB 3.5 MB/s eta 0:00:13\n",
      "   -- ------------------------------------- 2.7/44.8 MB 3.6 MB/s eta 0:00:12\n",
      "   -- ------------------------------------- 2.9/44.8 MB 3.6 MB/s eta 0:00:12\n",
      "   -- ------------------------------------- 3.0/44.8 MB 3.6 MB/s eta 0:00:12\n",
      "   -- ------------------------------------- 3.3/44.8 MB 3.6 MB/s eta 0:00:12\n",
      "   --- ------------------------------------ 3.4/44.8 MB 3.7 MB/s eta 0:00:12\n",
      "   --- ------------------------------------ 3.6/44.8 MB 3.6 MB/s eta 0:00:12\n",
      "   --- ------------------------------------ 3.7/44.8 MB 3.7 MB/s eta 0:00:12\n",
      "   --- ------------------------------------ 4.0/44.8 MB 3.7 MB/s eta 0:00:12\n",
      "   --- ------------------------------------ 4.1/44.8 MB 3.7 MB/s eta 0:00:12\n",
      "   --- ------------------------------------ 4.4/44.8 MB 3.7 MB/s eta 0:00:12\n",
      "   --- ------------------------------------ 4.4/44.8 MB 3.6 MB/s eta 0:00:12\n",
      "   ---- ----------------------------------- 4.6/44.8 MB 3.6 MB/s eta 0:00:12\n",
      "   ---- ----------------------------------- 4.7/44.8 MB 3.5 MB/s eta 0:00:12\n",
      "   ---- ----------------------------------- 5.0/44.8 MB 3.6 MB/s eta 0:00:12\n",
      "   ---- ----------------------------------- 5.1/44.8 MB 3.6 MB/s eta 0:00:12\n",
      "   ---- ----------------------------------- 5.3/44.8 MB 3.6 MB/s eta 0:00:11\n",
      "   ---- ----------------------------------- 5.4/44.8 MB 3.5 MB/s eta 0:00:12\n",
      "   ----- ---------------------------------- 5.6/44.8 MB 3.6 MB/s eta 0:00:11\n",
      "   ----- ---------------------------------- 5.6/44.8 MB 3.6 MB/s eta 0:00:11\n",
      "   ----- ---------------------------------- 5.6/44.8 MB 3.6 MB/s eta 0:00:11\n",
      "   ----- ---------------------------------- 5.6/44.8 MB 3.6 MB/s eta 0:00:11\n",
      "   ----- ---------------------------------- 5.6/44.8 MB 3.6 MB/s eta 0:00:11\n",
      "   ----- ---------------------------------- 5.6/44.8 MB 3.6 MB/s eta 0:00:11\n",
      "   ----- ---------------------------------- 5.6/44.8 MB 3.6 MB/s eta 0:00:11\n",
      "   ----- ---------------------------------- 5.6/44.8 MB 3.6 MB/s eta 0:00:11\n",
      "   ----- ---------------------------------- 5.6/44.8 MB 3.6 MB/s eta 0:00:11\n",
      "   ----- ---------------------------------- 5.7/44.8 MB 2.9 MB/s eta 0:00:14\n",
      "   ------ --------------------------------- 7.1/44.8 MB 3.6 MB/s eta 0:00:11\n",
      "   ------ --------------------------------- 7.4/44.8 MB 3.5 MB/s eta 0:00:11\n",
      "   ------ --------------------------------- 7.5/44.8 MB 3.6 MB/s eta 0:00:11\n",
      "   ------ --------------------------------- 7.7/44.8 MB 3.5 MB/s eta 0:00:11\n",
      "   ------ --------------------------------- 7.8/44.8 MB 3.5 MB/s eta 0:00:11\n",
      "   ------- -------------------------------- 8.0/44.8 MB 3.5 MB/s eta 0:00:11\n",
      "   ------- -------------------------------- 8.1/44.8 MB 3.5 MB/s eta 0:00:11\n",
      "   ------- -------------------------------- 8.3/44.8 MB 3.5 MB/s eta 0:00:11\n",
      "   ------- -------------------------------- 8.4/44.8 MB 3.5 MB/s eta 0:00:11\n",
      "   ------- -------------------------------- 8.6/44.8 MB 3.5 MB/s eta 0:00:11\n",
      "   ------- -------------------------------- 8.7/44.8 MB 3.5 MB/s eta 0:00:11\n",
      "   -------- ------------------------------- 9.0/44.8 MB 3.5 MB/s eta 0:00:11\n",
      "   -------- ------------------------------- 9.1/44.8 MB 3.5 MB/s eta 0:00:11\n",
      "   -------- ------------------------------- 9.3/44.8 MB 3.5 MB/s eta 0:00:11\n",
      "   -------- ------------------------------- 9.4/44.8 MB 3.5 MB/s eta 0:00:11\n",
      "   -------- ------------------------------- 9.7/44.8 MB 3.5 MB/s eta 0:00:10\n",
      "   -------- ------------------------------- 9.8/44.8 MB 3.5 MB/s eta 0:00:10\n",
      "   -------- ------------------------------- 10.0/44.8 MB 3.6 MB/s eta 0:00:10\n",
      "   --------- ------------------------------ 10.1/44.8 MB 3.5 MB/s eta 0:00:10\n",
      "   --------- ------------------------------ 10.3/44.8 MB 3.5 MB/s eta 0:00:10\n",
      "   --------- ------------------------------ 10.5/44.8 MB 3.5 MB/s eta 0:00:10\n",
      "   --------- ------------------------------ 10.6/44.8 MB 3.5 MB/s eta 0:00:10\n",
      "   --------- ------------------------------ 10.8/44.8 MB 3.6 MB/s eta 0:00:10\n",
      "   --------- ------------------------------ 11.0/44.8 MB 3.6 MB/s eta 0:00:10\n",
      "   --------- ------------------------------ 11.1/44.8 MB 3.6 MB/s eta 0:00:10\n",
      "   ---------- ----------------------------- 11.2/44.8 MB 3.6 MB/s eta 0:00:10\n",
      "   ---------- ----------------------------- 11.4/44.8 MB 3.6 MB/s eta 0:00:10\n",
      "   ---------- ----------------------------- 11.6/44.8 MB 3.6 MB/s eta 0:00:10\n",
      "   ---------- ----------------------------- 11.8/44.8 MB 3.5 MB/s eta 0:00:10\n",
      "   ---------- ----------------------------- 11.9/44.8 MB 3.6 MB/s eta 0:00:10\n",
      "   ---------- ----------------------------- 12.1/44.8 MB 3.5 MB/s eta 0:00:10\n",
      "   ---------- ----------------------------- 12.2/44.8 MB 3.5 MB/s eta 0:00:10\n",
      "   ----------- ---------------------------- 12.5/44.8 MB 3.5 MB/s eta 0:00:10\n",
      "   ----------- ---------------------------- 12.5/44.8 MB 3.6 MB/s eta 0:00:10\n",
      "   ----------- ---------------------------- 12.8/44.8 MB 3.5 MB/s eta 0:00:10\n",
      "   ----------- ---------------------------- 12.9/44.8 MB 3.5 MB/s eta 0:00:10\n",
      "   ----------- ---------------------------- 13.1/44.8 MB 3.5 MB/s eta 0:00:09\n",
      "   ----------- ---------------------------- 13.2/44.8 MB 3.5 MB/s eta 0:00:10\n",
      "   ----------- ---------------------------- 13.4/44.8 MB 3.5 MB/s eta 0:00:09\n",
      "   ------------ --------------------------- 13.4/44.8 MB 3.5 MB/s eta 0:00:10\n",
      "   ------------ --------------------------- 13.4/44.8 MB 3.5 MB/s eta 0:00:10\n",
      "   ------------ --------------------------- 13.8/44.8 MB 3.5 MB/s eta 0:00:09\n",
      "   ------------ --------------------------- 14.0/44.8 MB 3.5 MB/s eta 0:00:09\n",
      "   ------------ --------------------------- 14.1/44.8 MB 3.5 MB/s eta 0:00:09\n",
      "   ------------ --------------------------- 14.4/44.8 MB 3.5 MB/s eta 0:00:09\n",
      "   ------------ --------------------------- 14.5/44.8 MB 3.5 MB/s eta 0:00:09\n",
      "   ------------- -------------------------- 14.7/44.8 MB 3.5 MB/s eta 0:00:09\n",
      "   ------------- -------------------------- 14.8/44.8 MB 3.5 MB/s eta 0:00:09\n",
      "   ------------- -------------------------- 15.0/44.8 MB 3.5 MB/s eta 0:00:09\n",
      "   ------------- -------------------------- 15.1/44.8 MB 3.5 MB/s eta 0:00:09\n",
      "   ------------- -------------------------- 15.3/44.8 MB 3.5 MB/s eta 0:00:09\n",
      "   ------------- -------------------------- 15.5/44.8 MB 3.5 MB/s eta 0:00:09\n",
      "   ------------- -------------------------- 15.6/44.8 MB 3.5 MB/s eta 0:00:09\n",
      "   -------------- ------------------------- 15.8/44.8 MB 3.4 MB/s eta 0:00:09\n",
      "   -------------- ------------------------- 15.9/44.8 MB 3.4 MB/s eta 0:00:09\n",
      "   -------------- ------------------------- 16.1/44.8 MB 3.9 MB/s eta 0:00:08\n",
      "   -------------- ------------------------- 16.2/44.8 MB 3.9 MB/s eta 0:00:08\n",
      "   -------------- ------------------------- 16.4/44.8 MB 3.8 MB/s eta 0:00:08\n",
      "   -------------- ------------------------- 16.5/44.8 MB 3.8 MB/s eta 0:00:08\n",
      "   -------------- ------------------------- 16.7/44.8 MB 3.7 MB/s eta 0:00:08\n",
      "   --------------- ------------------------ 16.8/44.8 MB 3.6 MB/s eta 0:00:08\n",
      "   --------------- ------------------------ 17.1/44.8 MB 3.6 MB/s eta 0:00:08\n",
      "   --------------- ------------------------ 17.1/44.8 MB 3.5 MB/s eta 0:00:08\n",
      "   --------------- ------------------------ 17.4/44.8 MB 3.5 MB/s eta 0:00:08\n",
      "   --------------- ------------------------ 17.5/44.8 MB 3.5 MB/s eta 0:00:08\n",
      "   --------------- ------------------------ 17.7/44.8 MB 3.4 MB/s eta 0:00:08\n",
      "   --------------- ------------------------ 17.8/44.8 MB 3.4 MB/s eta 0:00:08\n",
      "   ---------------- ----------------------- 18.0/44.8 MB 3.4 MB/s eta 0:00:08\n",
      "   ---------------- ----------------------- 18.1/44.8 MB 3.4 MB/s eta 0:00:08\n",
      "   ---------------- ----------------------- 18.2/44.8 MB 3.4 MB/s eta 0:00:08\n",
      "   ---------------- ----------------------- 18.3/44.8 MB 3.4 MB/s eta 0:00:08\n",
      "   ---------------- ----------------------- 18.5/44.8 MB 3.4 MB/s eta 0:00:08\n",
      "   ---------------- ----------------------- 18.6/44.8 MB 3.4 MB/s eta 0:00:08\n",
      "   ---------------- ----------------------- 18.7/44.8 MB 3.4 MB/s eta 0:00:08\n",
      "   ---------------- ----------------------- 18.9/44.8 MB 3.4 MB/s eta 0:00:08\n",
      "   ----------------- ---------------------- 19.1/44.8 MB 3.4 MB/s eta 0:00:08\n",
      "   ----------------- ---------------------- 19.2/44.8 MB 3.4 MB/s eta 0:00:08\n",
      "   ----------------- ---------------------- 19.4/44.8 MB 3.4 MB/s eta 0:00:08\n",
      "   ----------------- ---------------------- 19.6/44.8 MB 3.4 MB/s eta 0:00:08\n",
      "   ----------------- ---------------------- 19.7/44.8 MB 3.4 MB/s eta 0:00:08\n",
      "   ----------------- ---------------------- 19.9/44.8 MB 3.4 MB/s eta 0:00:08\n",
      "   ----------------- ---------------------- 20.0/44.8 MB 3.4 MB/s eta 0:00:08\n",
      "   ------------------ --------------------- 20.3/44.8 MB 3.4 MB/s eta 0:00:08\n",
      "   ------------------ --------------------- 20.4/44.8 MB 3.4 MB/s eta 0:00:08\n",
      "   ------------------ --------------------- 20.6/44.8 MB 3.4 MB/s eta 0:00:08\n",
      "   ------------------ --------------------- 20.7/44.8 MB 3.4 MB/s eta 0:00:08\n",
      "   ------------------ --------------------- 21.0/44.8 MB 3.4 MB/s eta 0:00:07\n",
      "   ------------------ --------------------- 21.1/44.8 MB 3.4 MB/s eta 0:00:08\n",
      "   ------------------- -------------------- 21.4/44.8 MB 3.4 MB/s eta 0:00:07\n",
      "   ------------------- -------------------- 21.5/44.8 MB 3.4 MB/s eta 0:00:07\n",
      "   ------------------- -------------------- 21.7/44.8 MB 3.4 MB/s eta 0:00:07\n",
      "   ------------------- -------------------- 21.8/44.8 MB 3.4 MB/s eta 0:00:07\n",
      "   ------------------- -------------------- 22.0/44.8 MB 3.4 MB/s eta 0:00:07\n",
      "   ------------------- -------------------- 22.1/44.8 MB 3.4 MB/s eta 0:00:07\n",
      "   ------------------- -------------------- 22.3/44.8 MB 3.4 MB/s eta 0:00:07\n",
      "   ------------------- -------------------- 22.4/44.8 MB 3.4 MB/s eta 0:00:07\n",
      "   -------------------- ------------------- 22.6/44.8 MB 3.4 MB/s eta 0:00:07\n",
      "   -------------------- ------------------- 22.7/44.8 MB 3.4 MB/s eta 0:00:07\n",
      "   -------------------- ------------------- 22.9/44.8 MB 3.4 MB/s eta 0:00:07\n",
      "   -------------------- ------------------- 23.0/44.8 MB 3.4 MB/s eta 0:00:07\n",
      "   -------------------- ------------------- 23.1/44.8 MB 3.4 MB/s eta 0:00:07\n",
      "   -------------------- ------------------- 23.3/44.8 MB 3.4 MB/s eta 0:00:07\n",
      "   -------------------- ------------------- 23.5/44.8 MB 3.4 MB/s eta 0:00:07\n",
      "   --------------------- ------------------ 23.6/44.8 MB 3.4 MB/s eta 0:00:07\n",
      "   --------------------- ------------------ 23.7/44.8 MB 3.5 MB/s eta 0:00:07\n",
      "   --------------------- ------------------ 24.0/44.8 MB 3.4 MB/s eta 0:00:07\n",
      "   --------------------- ------------------ 24.0/44.8 MB 3.4 MB/s eta 0:00:07\n",
      "   --------------------- ------------------ 24.3/44.8 MB 3.4 MB/s eta 0:00:07\n",
      "   --------------------- ------------------ 24.4/44.8 MB 3.4 MB/s eta 0:00:06\n",
      "   ---------------------- ----------------- 24.7/44.8 MB 3.4 MB/s eta 0:00:06\n",
      "   ---------------------- ----------------- 24.7/44.8 MB 3.4 MB/s eta 0:00:06\n",
      "   ---------------------- ----------------- 25.0/44.8 MB 3.4 MB/s eta 0:00:06\n",
      "   ---------------------- ----------------- 25.0/44.8 MB 3.4 MB/s eta 0:00:06\n",
      "   ---------------------- ----------------- 25.3/44.8 MB 3.4 MB/s eta 0:00:06\n",
      "   ---------------------- ----------------- 25.4/44.8 MB 3.4 MB/s eta 0:00:06\n",
      "   ---------------------- ----------------- 25.6/44.8 MB 3.4 MB/s eta 0:00:06\n",
      "   ---------------------- ----------------- 25.7/44.8 MB 3.4 MB/s eta 0:00:06\n",
      "   ----------------------- ---------------- 25.9/44.8 MB 3.4 MB/s eta 0:00:06\n",
      "   ----------------------- ---------------- 26.0/44.8 MB 3.4 MB/s eta 0:00:06\n",
      "   ----------------------- ---------------- 26.2/44.8 MB 3.4 MB/s eta 0:00:06\n",
      "   ----------------------- ---------------- 26.4/44.8 MB 3.4 MB/s eta 0:00:06\n",
      "   ----------------------- ---------------- 26.6/44.8 MB 3.4 MB/s eta 0:00:06\n",
      "   ----------------------- ---------------- 26.7/44.8 MB 3.4 MB/s eta 0:00:06\n",
      "   ------------------------ --------------- 26.9/44.8 MB 3.4 MB/s eta 0:00:06\n",
      "   ------------------------ --------------- 27.0/44.8 MB 3.4 MB/s eta 0:00:06\n",
      "   ------------------------ --------------- 27.3/44.8 MB 3.4 MB/s eta 0:00:06\n",
      "   ------------------------ --------------- 27.4/44.8 MB 3.4 MB/s eta 0:00:06\n",
      "   ------------------------ --------------- 27.6/44.8 MB 3.4 MB/s eta 0:00:06\n",
      "   ------------------------ --------------- 27.7/44.8 MB 3.4 MB/s eta 0:00:06\n",
      "   ------------------------ --------------- 27.9/44.8 MB 3.4 MB/s eta 0:00:05\n",
      "   ------------------------- -------------- 28.0/44.8 MB 3.4 MB/s eta 0:00:05\n",
      "   ------------------------- -------------- 28.1/44.8 MB 3.4 MB/s eta 0:00:05\n",
      "   ------------------------- -------------- 28.4/44.8 MB 3.4 MB/s eta 0:00:05\n",
      "   ------------------------- -------------- 28.5/44.8 MB 3.5 MB/s eta 0:00:05\n",
      "   ------------------------- -------------- 28.7/44.8 MB 3.4 MB/s eta 0:00:05\n",
      "   ------------------------- -------------- 28.8/44.8 MB 3.5 MB/s eta 0:00:05\n",
      "   ------------------------- -------------- 29.0/44.8 MB 3.4 MB/s eta 0:00:05\n",
      "   ------------------------- -------------- 29.1/44.8 MB 3.5 MB/s eta 0:00:05\n",
      "   -------------------------- ------------- 29.3/44.8 MB 3.5 MB/s eta 0:00:05\n",
      "   -------------------------- ------------- 29.4/44.8 MB 3.5 MB/s eta 0:00:05\n",
      "   -------------------------- ------------- 29.7/44.8 MB 3.5 MB/s eta 0:00:05\n",
      "   -------------------------- ------------- 29.8/44.8 MB 3.5 MB/s eta 0:00:05\n",
      "   -------------------------- ------------- 30.1/44.8 MB 3.5 MB/s eta 0:00:05\n",
      "   -------------------------- ------------- 30.1/44.8 MB 3.5 MB/s eta 0:00:05\n",
      "   --------------------------- ------------ 30.3/44.8 MB 3.5 MB/s eta 0:00:05\n",
      "   --------------------------- ------------ 30.4/44.8 MB 3.5 MB/s eta 0:00:05\n",
      "   --------------------------- ------------ 30.7/44.8 MB 3.5 MB/s eta 0:00:05\n",
      "   --------------------------- ------------ 30.8/44.8 MB 3.5 MB/s eta 0:00:05\n",
      "   --------------------------- ------------ 31.0/44.8 MB 3.5 MB/s eta 0:00:04\n",
      "   --------------------------- ------------ 31.0/44.8 MB 3.4 MB/s eta 0:00:04\n",
      "   --------------------------- ------------ 31.1/44.8 MB 3.4 MB/s eta 0:00:05\n",
      "   --------------------------- ------------ 31.2/44.8 MB 3.4 MB/s eta 0:00:05\n",
      "   ---------------------------- ----------- 31.4/44.8 MB 3.4 MB/s eta 0:00:04\n",
      "   ---------------------------- ----------- 31.5/44.8 MB 3.4 MB/s eta 0:00:04\n",
      "   ---------------------------- ----------- 31.7/44.8 MB 3.4 MB/s eta 0:00:04\n",
      "   ---------------------------- ----------- 31.8/44.8 MB 3.4 MB/s eta 0:00:04\n",
      "   ---------------------------- ----------- 31.9/44.8 MB 3.3 MB/s eta 0:00:04\n",
      "   ---------------------------- ----------- 31.9/44.8 MB 3.3 MB/s eta 0:00:04\n",
      "   ---------------------------- ----------- 31.9/44.8 MB 3.3 MB/s eta 0:00:04\n",
      "   ---------------------------- ----------- 31.9/44.8 MB 3.3 MB/s eta 0:00:04\n",
      "   ---------------------------- ----------- 31.9/44.8 MB 3.3 MB/s eta 0:00:04\n",
      "   ---------------------------- ----------- 31.9/44.8 MB 3.3 MB/s eta 0:00:04\n",
      "   ---------------------------- ----------- 31.9/44.8 MB 3.3 MB/s eta 0:00:04\n",
      "   ---------------------------- ----------- 31.9/44.8 MB 3.3 MB/s eta 0:00:04\n",
      "   ---------------------------- ----------- 31.9/44.8 MB 3.3 MB/s eta 0:00:04\n",
      "   ---------------------------- ----------- 31.9/44.8 MB 2.9 MB/s eta 0:00:05\n",
      "   ----------------------------- ---------- 33.0/44.8 MB 3.2 MB/s eta 0:00:04\n",
      "   ----------------------------- ---------- 33.0/44.8 MB 3.2 MB/s eta 0:00:04\n",
      "   ----------------------------- ---------- 33.0/44.8 MB 3.2 MB/s eta 0:00:04\n",
      "   ------------------------------ --------- 33.8/44.8 MB 3.3 MB/s eta 0:00:04\n",
      "   ------------------------------ --------- 33.8/44.8 MB 3.3 MB/s eta 0:00:04\n",
      "   ------------------------------ --------- 33.9/44.8 MB 3.3 MB/s eta 0:00:04\n",
      "   ------------------------------ --------- 33.9/44.8 MB 3.3 MB/s eta 0:00:04\n",
      "   ------------------------------ --------- 33.9/44.8 MB 3.2 MB/s eta 0:00:04\n",
      "   ------------------------------ --------- 33.9/44.8 MB 3.2 MB/s eta 0:00:04\n",
      "   ------------------------------ --------- 33.9/44.8 MB 3.2 MB/s eta 0:00:04\n",
      "   ------------------------------ --------- 33.9/44.8 MB 3.0 MB/s eta 0:00:04\n",
      "   ------------------------------ --------- 33.9/44.8 MB 3.0 MB/s eta 0:00:04\n",
      "   ------------------------------ --------- 34.0/44.8 MB 3.0 MB/s eta 0:00:04\n",
      "   ------------------------------ --------- 34.1/44.8 MB 3.0 MB/s eta 0:00:04\n",
      "   ------------------------------ --------- 34.1/44.8 MB 2.9 MB/s eta 0:00:04\n",
      "   ------------------------------ --------- 34.2/44.8 MB 2.9 MB/s eta 0:00:04\n",
      "   ------------------------------ --------- 34.3/44.8 MB 2.9 MB/s eta 0:00:04\n",
      "   ------------------------------ --------- 34.3/44.8 MB 2.9 MB/s eta 0:00:04\n",
      "   ------------------------------ --------- 34.4/44.8 MB 2.8 MB/s eta 0:00:04\n",
      "   ------------------------------ --------- 34.5/44.8 MB 2.8 MB/s eta 0:00:04\n",
      "   ------------------------------ --------- 34.6/44.8 MB 2.8 MB/s eta 0:00:04\n",
      "   ------------------------------ --------- 34.6/44.8 MB 2.8 MB/s eta 0:00:04\n",
      "   ------------------------------- -------- 34.8/44.8 MB 2.8 MB/s eta 0:00:04\n",
      "   ------------------------------- -------- 34.8/44.8 MB 2.8 MB/s eta 0:00:04\n",
      "   ------------------------------- -------- 35.0/44.8 MB 2.7 MB/s eta 0:00:04\n",
      "   ------------------------------- -------- 35.0/44.8 MB 2.7 MB/s eta 0:00:04\n",
      "   ------------------------------- -------- 35.2/44.8 MB 2.7 MB/s eta 0:00:04\n",
      "   ------------------------------- -------- 35.2/44.8 MB 2.7 MB/s eta 0:00:04\n",
      "   ------------------------------- -------- 35.3/44.8 MB 2.7 MB/s eta 0:00:04\n",
      "   ------------------------------- -------- 35.4/44.8 MB 2.7 MB/s eta 0:00:04\n",
      "   ------------------------------- -------- 35.6/44.8 MB 2.7 MB/s eta 0:00:04\n",
      "   ------------------------------- -------- 35.6/44.8 MB 2.7 MB/s eta 0:00:04\n",
      "   ------------------------------- -------- 35.8/44.8 MB 2.6 MB/s eta 0:00:04\n",
      "   ------------------------------- -------- 35.8/44.8 MB 2.6 MB/s eta 0:00:04\n",
      "   -------------------------------- ------- 36.0/44.8 MB 2.6 MB/s eta 0:00:04\n",
      "   -------------------------------- ------- 36.1/44.8 MB 2.6 MB/s eta 0:00:04\n",
      "   -------------------------------- ------- 36.3/44.8 MB 2.6 MB/s eta 0:00:04\n",
      "   -------------------------------- ------- 36.4/44.8 MB 2.6 MB/s eta 0:00:04\n",
      "   -------------------------------- ------- 36.6/44.8 MB 2.6 MB/s eta 0:00:04\n",
      "   -------------------------------- ------- 36.6/44.8 MB 2.6 MB/s eta 0:00:04\n",
      "   -------------------------------- ------- 36.8/44.8 MB 2.6 MB/s eta 0:00:04\n",
      "   -------------------------------- ------- 36.8/44.8 MB 2.6 MB/s eta 0:00:04\n",
      "   --------------------------------- ------ 37.0/44.8 MB 2.6 MB/s eta 0:00:04\n",
      "   --------------------------------- ------ 37.1/44.8 MB 2.5 MB/s eta 0:00:04\n",
      "   --------------------------------- ------ 37.2/44.8 MB 2.6 MB/s eta 0:00:03\n",
      "   --------------------------------- ------ 37.3/44.8 MB 2.5 MB/s eta 0:00:03\n",
      "   --------------------------------- ------ 37.4/44.8 MB 2.5 MB/s eta 0:00:03\n",
      "   --------------------------------- ------ 37.5/44.8 MB 2.5 MB/s eta 0:00:03\n",
      "   --------------------------------- ------ 37.5/44.8 MB 2.5 MB/s eta 0:00:03\n",
      "   --------------------------------- ------ 37.5/44.8 MB 2.5 MB/s eta 0:00:03\n",
      "   --------------------------------- ------ 37.5/44.8 MB 2.5 MB/s eta 0:00:03\n",
      "   --------------------------------- ------ 37.5/44.8 MB 2.5 MB/s eta 0:00:03\n",
      "   --------------------------------- ------ 37.5/44.8 MB 2.5 MB/s eta 0:00:03\n",
      "   --------------------------------- ------ 37.5/44.8 MB 2.5 MB/s eta 0:00:03\n",
      "   --------------------------------- ------ 37.5/44.8 MB 2.5 MB/s eta 0:00:03\n",
      "   --------------------------------- ------ 37.5/44.8 MB 2.5 MB/s eta 0:00:03\n",
      "   ---------------------------------- ----- 38.2/44.8 MB 2.4 MB/s eta 0:00:03\n",
      "   ---------------------------------- ----- 38.3/44.8 MB 2.4 MB/s eta 0:00:03\n",
      "   ---------------------------------- ----- 38.3/44.8 MB 2.4 MB/s eta 0:00:03\n",
      "   ---------------------------------- ----- 38.5/44.8 MB 2.3 MB/s eta 0:00:03\n",
      "   ---------------------------------- ----- 38.5/44.8 MB 2.3 MB/s eta 0:00:03\n",
      "   ---------------------------------- ----- 38.6/44.8 MB 2.3 MB/s eta 0:00:03\n",
      "   ---------------------------------- ----- 38.7/44.8 MB 2.3 MB/s eta 0:00:03\n",
      "   ---------------------------------- ----- 38.8/44.8 MB 2.3 MB/s eta 0:00:03\n",
      "   ---------------------------------- ----- 38.8/44.8 MB 2.3 MB/s eta 0:00:03\n",
      "   ---------------------------------- ----- 39.0/44.8 MB 2.3 MB/s eta 0:00:03\n",
      "   ---------------------------------- ----- 39.1/44.8 MB 2.3 MB/s eta 0:00:03\n",
      "   ----------------------------------- ---- 39.2/44.8 MB 2.3 MB/s eta 0:00:03\n",
      "   ----------------------------------- ---- 39.2/44.8 MB 2.2 MB/s eta 0:00:03\n",
      "   ----------------------------------- ---- 39.4/44.8 MB 2.3 MB/s eta 0:00:03\n",
      "   ----------------------------------- ---- 39.5/44.8 MB 2.2 MB/s eta 0:00:03\n",
      "   ----------------------------------- ---- 39.6/44.8 MB 2.2 MB/s eta 0:00:03\n",
      "   ----------------------------------- ---- 39.7/44.8 MB 2.2 MB/s eta 0:00:03\n",
      "   ----------------------------------- ---- 39.8/44.8 MB 2.2 MB/s eta 0:00:03\n",
      "   ----------------------------------- ---- 39.9/44.8 MB 2.2 MB/s eta 0:00:03\n",
      "   ----------------------------------- ---- 40.1/44.8 MB 2.2 MB/s eta 0:00:03\n",
      "   ----------------------------------- ---- 40.2/44.8 MB 2.2 MB/s eta 0:00:03\n",
      "   ------------------------------------ --- 40.3/44.8 MB 2.2 MB/s eta 0:00:03\n",
      "   ------------------------------------ --- 40.4/44.8 MB 2.2 MB/s eta 0:00:02\n",
      "   ------------------------------------ --- 40.6/44.8 MB 2.2 MB/s eta 0:00:02\n",
      "   ------------------------------------ --- 40.7/44.8 MB 2.2 MB/s eta 0:00:02\n",
      "   ------------------------------------ --- 40.8/44.8 MB 2.2 MB/s eta 0:00:02\n",
      "   ------------------------------------ --- 41.0/44.8 MB 2.2 MB/s eta 0:00:02\n",
      "   ------------------------------------ --- 41.1/44.8 MB 2.2 MB/s eta 0:00:02\n",
      "   ------------------------------------ --- 41.2/44.8 MB 2.2 MB/s eta 0:00:02\n",
      "   ------------------------------------ --- 41.3/44.8 MB 2.2 MB/s eta 0:00:02\n",
      "   ------------------------------------ --- 41.3/44.8 MB 2.2 MB/s eta 0:00:02\n",
      "   ------------------------------------ --- 41.3/44.8 MB 2.2 MB/s eta 0:00:02\n",
      "   ------------------------------------ --- 41.3/44.8 MB 2.2 MB/s eta 0:00:02\n",
      "   ------------------------------------ --- 41.3/44.8 MB 2.2 MB/s eta 0:00:02\n",
      "   ------------------------------------ --- 41.3/44.8 MB 2.2 MB/s eta 0:00:02\n",
      "   ------------------------------------ --- 41.3/44.8 MB 2.2 MB/s eta 0:00:02\n",
      "   ------------------------------------ --- 41.3/44.8 MB 2.2 MB/s eta 0:00:02\n",
      "   ------------------------------------ --- 41.3/44.8 MB 2.2 MB/s eta 0:00:02\n",
      "   ------------------------------------- -- 42.3/44.8 MB 2.3 MB/s eta 0:00:02\n",
      "   ------------------------------------- -- 42.3/44.8 MB 2.3 MB/s eta 0:00:02\n",
      "   ------------------------------------- -- 42.5/44.8 MB 2.3 MB/s eta 0:00:02\n",
      "   ------------------------------------- -- 42.5/44.8 MB 2.3 MB/s eta 0:00:02\n",
      "   ------------------------------------- -- 42.5/44.8 MB 2.3 MB/s eta 0:00:02\n",
      "   ------------------------------------- -- 42.5/44.8 MB 2.3 MB/s eta 0:00:02\n",
      "   ------------------------------------- -- 42.5/44.8 MB 2.3 MB/s eta 0:00:02\n",
      "   ------------------------------------- -- 42.5/44.8 MB 2.3 MB/s eta 0:00:02\n",
      "   -------------------------------------- - 43.2/44.8 MB 2.1 MB/s eta 0:00:01\n",
      "   -------------------------------------- - 43.2/44.8 MB 2.2 MB/s eta 0:00:01\n",
      "   -------------------------------------- - 43.3/44.8 MB 2.2 MB/s eta 0:00:01\n",
      "   -------------------------------------- - 43.4/44.8 MB 2.1 MB/s eta 0:00:01\n",
      "   -------------------------------------- - 43.5/44.8 MB 2.1 MB/s eta 0:00:01\n",
      "   -------------------------------------- - 43.6/44.8 MB 2.1 MB/s eta 0:00:01\n",
      "   ---------------------------------------  43.7/44.8 MB 2.1 MB/s eta 0:00:01\n",
      "   ---------------------------------------  43.9/44.8 MB 2.1 MB/s eta 0:00:01\n",
      "   ---------------------------------------  44.0/44.8 MB 2.1 MB/s eta 0:00:01\n",
      "   ---------------------------------------  44.1/44.8 MB 2.1 MB/s eta 0:00:01\n",
      "   ---------------------------------------  44.2/44.8 MB 2.2 MB/s eta 0:00:01\n",
      "   ---------------------------------------  44.4/44.8 MB 2.2 MB/s eta 0:00:01\n",
      "   ---------------------------------------  44.4/44.8 MB 2.2 MB/s eta 0:00:01\n",
      "   ---------------------------------------  44.6/44.8 MB 2.3 MB/s eta 0:00:01\n",
      "   ---------------------------------------  44.7/44.8 MB 2.3 MB/s eta 0:00:01\n",
      "   ---------------------------------------  44.8/44.8 MB 2.3 MB/s eta 0:00:01\n",
      "   ---------------------------------------  44.8/44.8 MB 2.3 MB/s eta 0:00:01\n",
      "   ---------------------------------------  44.8/44.8 MB 2.3 MB/s eta 0:00:01\n",
      "   ---------------------------------------- 44.8/44.8 MB 2.2 MB/s eta 0:00:00\n",
      "Downloading SQLAlchemy-2.0.36-cp311-cp311-win_amd64.whl (2.1 MB)\n",
      "   ---------------------------------------- 0.0/2.1 MB ? eta -:--:--\n",
      "   -- ------------------------------------- 0.1/2.1 MB 4.3 MB/s eta 0:00:01\n",
      "   --- ------------------------------------ 0.2/2.1 MB 4.1 MB/s eta 0:00:01\n",
      "   -------- ------------------------------- 0.4/2.1 MB 3.4 MB/s eta 0:00:01\n",
      "   --------- ------------------------------ 0.5/2.1 MB 2.9 MB/s eta 0:00:01\n",
      "   ------------- -------------------------- 0.7/2.1 MB 3.2 MB/s eta 0:00:01\n",
      "   ------------- -------------------------- 0.7/2.1 MB 2.7 MB/s eta 0:00:01\n",
      "   ---------------- ----------------------- 0.9/2.1 MB 2.8 MB/s eta 0:00:01\n",
      "   ----------------- ---------------------- 0.9/2.1 MB 2.6 MB/s eta 0:00:01\n",
      "   -------------------- ------------------- 1.1/2.1 MB 2.6 MB/s eta 0:00:01\n",
      "   --------------------- ------------------ 1.1/2.1 MB 2.5 MB/s eta 0:00:01\n",
      "   ------------------------- -------------- 1.3/2.1 MB 2.6 MB/s eta 0:00:01\n",
      "   ------------------------- -------------- 1.3/2.1 MB 2.6 MB/s eta 0:00:01\n",
      "   ------------------------------ --------- 1.6/2.1 MB 2.6 MB/s eta 0:00:01\n",
      "   ------------------------------- -------- 1.7/2.1 MB 2.6 MB/s eta 0:00:01\n",
      "   ---------------------------------- ----- 1.8/2.1 MB 2.6 MB/s eta 0:00:01\n",
      "   ------------------------------------ --- 1.9/2.1 MB 2.6 MB/s eta 0:00:01\n",
      "   -------------------------------------- - 2.0/2.1 MB 2.6 MB/s eta 0:00:01\n",
      "   ---------------------------------------- 2.1/2.1 MB 2.5 MB/s eta 0:00:00\n",
      "Downloading waitress-3.0.2-py3-none-any.whl (56 kB)\n",
      "   ---------------------------------------- 0.0/56.2 kB ? eta -:--:--\n",
      "   ---------------------------------------- 56.2/56.2 kB 2.9 MB/s eta 0:00:00\n",
      "Using cached blinker-1.9.0-py3-none-any.whl (8.5 kB)\n",
      "Using cached cachetools-5.5.0-py3-none-any.whl (9.5 kB)\n",
      "Downloading click-8.1.7-py3-none-any.whl (97 kB)\n",
      "   ---------------------------------------- 0.0/97.9 kB ? eta -:--:--\n",
      "   ---------------------------------------- 97.9/97.9 kB 2.8 MB/s eta 0:00:00\n",
      "Downloading cloudpickle-3.1.0-py3-none-any.whl (22 kB)\n",
      "Downloading contourpy-1.3.1-cp311-cp311-win_amd64.whl (219 kB)\n",
      "   ---------------------------------------- 0.0/219.8 kB ? eta -:--:--\n",
      "   -------------------- ------------------- 112.6/219.8 kB 6.4 MB/s eta 0:00:01\n",
      "   ---------------------------------------- 219.8/219.8 kB 2.7 MB/s eta 0:00:00\n",
      "Downloading cycler-0.12.1-py3-none-any.whl (8.3 kB)\n",
      "Downloading databricks_sdk-0.40.0-py3-none-any.whl (629 kB)\n",
      "   ---------------------------------------- 0.0/629.7 kB ? eta -:--:--\n",
      "   - -------------------------------------- 30.7/629.7 kB 1.3 MB/s eta 0:00:01\n",
      "   -------------- ------------------------- 225.3/629.7 kB 2.8 MB/s eta 0:00:01\n",
      "   ---------------------- ----------------- 348.2/629.7 kB 3.1 MB/s eta 0:00:01\n",
      "   ----------------------------------- ---- 553.0/629.7 kB 3.2 MB/s eta 0:00:01\n",
      "   ---------------------------------------  624.6/629.7 kB 3.3 MB/s eta 0:00:01\n",
      "   ---------------------------------------- 629.7/629.7 kB 2.6 MB/s eta 0:00:00\n",
      "Downloading fonttools-4.55.3-cp311-cp311-win_amd64.whl (2.2 MB)\n",
      "   ---------------------------------------- 0.0/2.2 MB ? eta -:--:--\n",
      "   -- ------------------------------------- 0.1/2.2 MB 3.5 MB/s eta 0:00:01\n",
      "   --- ------------------------------------ 0.2/2.2 MB 2.1 MB/s eta 0:00:01\n",
      "   ------- -------------------------------- 0.4/2.2 MB 3.4 MB/s eta 0:00:01\n",
      "   --------- ------------------------------ 0.5/2.2 MB 2.9 MB/s eta 0:00:01\n",
      "   ------------- -------------------------- 0.7/2.2 MB 3.4 MB/s eta 0:00:01\n",
      "   -------------- ------------------------- 0.8/2.2 MB 3.0 MB/s eta 0:00:01\n",
      "   ------------------- -------------------- 1.1/2.2 MB 3.4 MB/s eta 0:00:01\n",
      "   ------------------- -------------------- 1.1/2.2 MB 3.0 MB/s eta 0:00:01\n",
      "   ----------------------- ---------------- 1.3/2.2 MB 3.2 MB/s eta 0:00:01\n",
      "   ------------------------ --------------- 1.4/2.2 MB 3.0 MB/s eta 0:00:01\n",
      "   ---------------------------- ----------- 1.6/2.2 MB 3.1 MB/s eta 0:00:01\n",
      "   ------------------------------ --------- 1.7/2.2 MB 3.1 MB/s eta 0:00:01\n",
      "   --------------------------------- ------ 1.9/2.2 MB 3.2 MB/s eta 0:00:01\n",
      "   ----------------------------------- ---- 2.0/2.2 MB 3.1 MB/s eta 0:00:01\n",
      "   -------------------------------------- - 2.1/2.2 MB 3.1 MB/s eta 0:00:01\n",
      "   ---------------------------------------  2.2/2.2 MB 3.0 MB/s eta 0:00:01\n",
      "   ---------------------------------------- 2.2/2.2 MB 2.9 MB/s eta 0:00:00\n",
      "Using cached GitPython-3.1.43-py3-none-any.whl (207 kB)\n",
      "Downloading graphql_core-3.2.5-py3-none-any.whl (203 kB)\n",
      "   ---------------------------------------- 0.0/203.2 kB ? eta -:--:--\n",
      "   ---------------------------------------- 203.2/203.2 kB 6.2 MB/s eta 0:00:00\n",
      "Downloading graphql_relay-3.2.0-py3-none-any.whl (16 kB)\n",
      "Downloading greenlet-3.1.1-cp311-cp311-win_amd64.whl (298 kB)\n",
      "   ---------------------------------------- 0.0/298.9 kB ? eta -:--:--\n",
      "   --------- ------------------------------ 71.7/298.9 kB 3.8 MB/s eta 0:00:01\n",
      "   ---------------- ----------------------- 122.9/298.9 kB 2.4 MB/s eta 0:00:01\n",
      "   ---------------------------------------- 298.9/298.9 kB 2.6 MB/s eta 0:00:00\n",
      "Downloading importlib_metadata-8.5.0-py3-none-any.whl (26 kB)\n",
      "Downloading itsdangerous-2.2.0-py3-none-any.whl (16 kB)\n",
      "Downloading joblib-1.4.2-py3-none-any.whl (301 kB)\n",
      "   ---------------------------------------- 0.0/301.8 kB ? eta -:--:--\n",
      "   - -------------------------------------- 10.2/301.8 kB ? eta -:--:--\n",
      "   ------------- -------------------------- 102.4/301.8 kB 2.0 MB/s eta 0:00:01\n",
      "   -------------------------------- ------- 245.8/301.8 kB 3.0 MB/s eta 0:00:01\n",
      "   ---------------------------------------- 301.8/301.8 kB 2.1 MB/s eta 0:00:00\n",
      "Downloading kiwisolver-1.4.7-cp311-cp311-win_amd64.whl (56 kB)\n",
      "   ---------------------------------------- 0.0/56.0 kB ? eta -:--:--\n",
      "   ---------------------------------------- 56.0/56.0 kB 1.5 MB/s eta 0:00:00\n",
      "Downloading MarkupSafe-3.0.2-cp311-cp311-win_amd64.whl (15 kB)\n",
      "Downloading opentelemetry_api-1.29.0-py3-none-any.whl (64 kB)\n",
      "   ---------------------------------------- 0.0/64.3 kB ? eta -:--:--\n",
      "   ------------------------- -------------- 41.0/64.3 kB 991.0 kB/s eta 0:00:01\n",
      "   ---------------------------------------- 64.3/64.3 kB 1.2 MB/s eta 0:00:00\n",
      "Downloading opentelemetry_sdk-1.29.0-py3-none-any.whl (118 kB)\n",
      "   ---------------------------------------- 0.0/118.1 kB ? eta -:--:--\n",
      "   ---------------------------------------- 118.1/118.1 kB 6.7 MB/s eta 0:00:00\n",
      "Downloading opentelemetry_semantic_conventions-0.50b0-py3-none-any.whl (166 kB)\n",
      "   ---------------------------------------- 0.0/166.6 kB ? eta -:--:--\n",
      "   ---------------------------------------  163.8/166.6 kB 3.3 MB/s eta 0:00:01\n",
      "   ---------------------------------------- 166.6/166.6 kB 3.3 MB/s eta 0:00:00\n",
      "Downloading packaging-24.2-py3-none-any.whl (65 kB)\n",
      "   ---------------------------------------- 0.0/65.5 kB ? eta -:--:--\n",
      "   ---------------------------------------- 65.5/65.5 kB 3.7 MB/s eta 0:00:00\n",
      "Downloading pillow-11.0.0-cp311-cp311-win_amd64.whl (2.6 MB)\n",
      "   ---------------------------------------- 0.0/2.6 MB ? eta -:--:--\n",
      "    --------------------------------------- 0.0/2.6 MB 2.0 MB/s eta 0:00:02\n",
      "   --- ------------------------------------ 0.2/2.6 MB 2.1 MB/s eta 0:00:02\n",
      "   ---- ----------------------------------- 0.3/2.6 MB 2.6 MB/s eta 0:00:01\n",
      "   ------- -------------------------------- 0.5/2.6 MB 2.6 MB/s eta 0:00:01\n",
      "   -------- ------------------------------- 0.5/2.6 MB 2.6 MB/s eta 0:00:01\n",
      "   --------- ------------------------------ 0.6/2.6 MB 2.3 MB/s eta 0:00:01\n",
      "   --------- ------------------------------ 0.6/2.6 MB 2.3 MB/s eta 0:00:01\n",
      "   --------- ------------------------------ 0.6/2.6 MB 1.8 MB/s eta 0:00:02\n",
      "   --------- ------------------------------ 0.6/2.6 MB 1.8 MB/s eta 0:00:02\n",
      "   --------- ------------------------------ 0.6/2.6 MB 1.4 MB/s eta 0:00:02\n",
      "   --------- ------------------------------ 0.6/2.6 MB 1.4 MB/s eta 0:00:02\n",
      "   ---------- ----------------------------- 0.7/2.6 MB 1.2 MB/s eta 0:00:02\n",
      "   ----------- ---------------------------- 0.7/2.6 MB 1.2 MB/s eta 0:00:02\n",
      "   --------------- ------------------------ 1.0/2.6 MB 1.5 MB/s eta 0:00:02\n",
      "   ---------------- ----------------------- 1.1/2.6 MB 1.5 MB/s eta 0:00:01\n",
      "   ------------------ --------------------- 1.2/2.6 MB 1.6 MB/s eta 0:00:01\n",
      "   ------------------- -------------------- 1.3/2.6 MB 1.6 MB/s eta 0:00:01\n",
      "   ---------------------- ----------------- 1.4/2.6 MB 1.7 MB/s eta 0:00:01\n",
      "   ----------------------- ---------------- 1.5/2.6 MB 1.7 MB/s eta 0:00:01\n",
      "   --------------------------- ------------ 1.8/2.6 MB 1.9 MB/s eta 0:00:01\n",
      "   ---------------------------- ----------- 1.8/2.6 MB 1.9 MB/s eta 0:00:01\n",
      "   ------------------------------- -------- 2.0/2.6 MB 2.0 MB/s eta 0:00:01\n",
      "   --------------------------------- ------ 2.2/2.6 MB 2.0 MB/s eta 0:00:01\n",
      "   ------------------------------------ --- 2.3/2.6 MB 2.1 MB/s eta 0:00:01\n",
      "   -------------------------------------- - 2.4/2.6 MB 2.1 MB/s eta 0:00:01\n",
      "   ---------------------------------------  2.6/2.6 MB 2.1 MB/s eta 0:00:01\n",
      "   ---------------------------------------- 2.6/2.6 MB 2.1 MB/s eta 0:00:00\n",
      "Using cached protobuf-5.29.2-cp310-abi3-win_amd64.whl (434 kB)\n",
      "Downloading pyparsing-3.2.0-py3-none-any.whl (106 kB)\n",
      "   ---------------------------------------- 0.0/106.9 kB ? eta -:--:--\n",
      "   ----------- ---------------------------- 30.7/106.9 kB ? eta -:--:--\n",
      "   ---------------------------------------- 106.9/106.9 kB 1.6 MB/s eta 0:00:00\n",
      "Downloading python_dateutil-2.9.0.post0-py2.py3-none-any.whl (229 kB)\n",
      "   ---------------------------------------- 0.0/229.9 kB ? eta -:--:--\n",
      "   ----------------- ---------------------- 102.4/229.9 kB 3.0 MB/s eta 0:00:01\n",
      "   -------------------------- ------------- 153.6/229.9 kB 1.8 MB/s eta 0:00:01\n",
      "   ---------------------------------------- 229.9/229.9 kB 2.3 MB/s eta 0:00:00\n",
      "Downloading pytz-2024.2-py2.py3-none-any.whl (508 kB)\n",
      "   ---------------------------------------- 0.0/508.0 kB ? eta -:--:--\n",
      "   ---- ----------------------------------- 61.4/508.0 kB 3.4 MB/s eta 0:00:01\n",
      "   ------------------- -------------------- 245.8/508.0 kB 2.5 MB/s eta 0:00:01\n",
      "   ----------------------------- ---------- 378.9/508.0 kB 2.9 MB/s eta 0:00:01\n",
      "   ---------------------------------------- 508.0/508.0 kB 2.7 MB/s eta 0:00:00\n",
      "Downloading pywin32-308-cp311-cp311-win_amd64.whl (6.6 MB)\n",
      "   ---------------------------------------- 0.0/6.6 MB ? eta -:--:--\n",
      "   ---------------------------------------- 0.0/6.6 MB ? eta -:--:--\n",
      "   - -------------------------------------- 0.3/6.6 MB 3.2 MB/s eta 0:00:03\n",
      "   -- ------------------------------------- 0.3/6.6 MB 3.5 MB/s eta 0:00:02\n",
      "   --- ------------------------------------ 0.6/6.6 MB 3.2 MB/s eta 0:00:02\n",
      "   --- ------------------------------------ 0.6/6.6 MB 2.8 MB/s eta 0:00:03\n",
      "   ----- ---------------------------------- 0.9/6.6 MB 3.3 MB/s eta 0:00:02\n",
      "   ----- ---------------------------------- 1.0/6.6 MB 3.1 MB/s eta 0:00:02\n",
      "   ------ --------------------------------- 1.1/6.6 MB 3.2 MB/s eta 0:00:02\n",
      "   ------ --------------------------------- 1.1/6.6 MB 3.2 MB/s eta 0:00:02\n",
      "   ------- -------------------------------- 1.3/6.6 MB 2.8 MB/s eta 0:00:02\n",
      "   ------- -------------------------------- 1.3/6.6 MB 2.6 MB/s eta 0:00:03\n",
      "   -------- ------------------------------- 1.4/6.6 MB 2.6 MB/s eta 0:00:02\n",
      "   --------- ------------------------------ 1.5/6.6 MB 2.5 MB/s eta 0:00:03\n",
      "   --------- ------------------------------ 1.6/6.6 MB 2.6 MB/s eta 0:00:02\n",
      "   ---------- ----------------------------- 1.7/6.6 MB 2.5 MB/s eta 0:00:02\n",
      "   ----------- ---------------------------- 1.9/6.6 MB 2.7 MB/s eta 0:00:02\n",
      "   ------------ --------------------------- 2.1/6.6 MB 2.6 MB/s eta 0:00:02\n",
      "   ------------- -------------------------- 2.3/6.6 MB 2.8 MB/s eta 0:00:02\n",
      "   -------------- ------------------------- 2.4/6.6 MB 2.8 MB/s eta 0:00:02\n",
      "   --------------- ------------------------ 2.6/6.6 MB 2.9 MB/s eta 0:00:02\n",
      "   ---------------- ----------------------- 2.8/6.6 MB 2.9 MB/s eta 0:00:02\n",
      "   ------------------ --------------------- 3.0/6.6 MB 3.0 MB/s eta 0:00:02\n",
      "   ------------------- -------------------- 3.1/6.6 MB 2.9 MB/s eta 0:00:02\n",
      "   ------------------- -------------------- 3.2/6.6 MB 3.0 MB/s eta 0:00:02\n",
      "   -------------------- ------------------- 3.4/6.6 MB 2.9 MB/s eta 0:00:02\n",
      "   --------------------- ------------------ 3.5/6.6 MB 3.0 MB/s eta 0:00:02\n",
      "   ---------------------- ----------------- 3.7/6.6 MB 3.0 MB/s eta 0:00:01\n",
      "   ----------------------- ---------------- 3.9/6.6 MB 3.0 MB/s eta 0:00:01\n",
      "   ------------------------ --------------- 4.0/6.6 MB 3.0 MB/s eta 0:00:01\n",
      "   ------------------------- -------------- 4.1/6.6 MB 3.1 MB/s eta 0:00:01\n",
      "   -------------------------- ------------- 4.4/6.6 MB 3.1 MB/s eta 0:00:01\n",
      "   -------------------------- ------------- 4.4/6.6 MB 3.0 MB/s eta 0:00:01\n",
      "   ---------------------------- ----------- 4.7/6.6 MB 3.1 MB/s eta 0:00:01\n",
      "   ---------------------------- ----------- 4.8/6.6 MB 3.0 MB/s eta 0:00:01\n",
      "   ------------------------------ --------- 5.0/6.6 MB 3.1 MB/s eta 0:00:01\n",
      "   ------------------------------ --------- 5.1/6.6 MB 3.0 MB/s eta 0:00:01\n",
      "   -------------------------------- ------- 5.3/6.6 MB 3.1 MB/s eta 0:00:01\n",
      "   -------------------------------- ------- 5.4/6.6 MB 3.1 MB/s eta 0:00:01\n",
      "   ---------------------------------- ----- 5.7/6.6 MB 3.1 MB/s eta 0:00:01\n",
      "   ----------------------------------- ---- 5.8/6.6 MB 3.1 MB/s eta 0:00:01\n",
      "   ------------------------------------ --- 6.0/6.6 MB 3.2 MB/s eta 0:00:01\n",
      "   ------------------------------------- -- 6.1/6.6 MB 3.1 MB/s eta 0:00:01\n",
      "   -------------------------------------- - 6.3/6.6 MB 3.2 MB/s eta 0:00:01\n",
      "   ---------------------------------------  6.4/6.6 MB 3.2 MB/s eta 0:00:01\n",
      "   ---------------------------------------  6.6/6.6 MB 3.2 MB/s eta 0:00:01\n",
      "   ---------------------------------------- 6.6/6.6 MB 3.1 MB/s eta 0:00:00\n",
      "Downloading PyYAML-6.0.2-cp311-cp311-win_amd64.whl (161 kB)\n",
      "   ---------------------------------------- 0.0/162.0 kB ? eta -:--:--\n",
      "   ----------------------------------- ---- 143.4/162.0 kB 4.3 MB/s eta 0:00:01\n",
      "   ---------------------------------------- 162.0/162.0 kB 3.2 MB/s eta 0:00:00\n",
      "Downloading requests-2.32.3-py3-none-any.whl (64 kB)\n",
      "   ---------------------------------------- 0.0/64.9 kB ? eta -:--:--\n",
      "   ---------------------------------------- 64.9/64.9 kB 3.4 MB/s eta 0:00:00\n",
      "Downloading sqlparse-0.5.3-py3-none-any.whl (44 kB)\n",
      "   ---------------------------------------- 0.0/44.4 kB ? eta -:--:--\n",
      "   ---------------------------------------- 44.4/44.4 kB 727.1 kB/s eta 0:00:00\n",
      "Downloading threadpoolctl-3.5.0-py3-none-any.whl (18 kB)\n",
      "Using cached typing_extensions-4.12.2-py3-none-any.whl (37 kB)\n",
      "Downloading tzdata-2024.2-py2.py3-none-any.whl (346 kB)\n",
      "   ---------------------------------------- 0.0/346.6 kB ? eta -:--:--\n",
      "   ------------ --------------------------- 112.6/346.6 kB 6.4 MB/s eta 0:00:01\n",
      "   ------------------------------------ --- 317.4/346.6 kB 3.3 MB/s eta 0:00:01\n",
      "   ---------------------------------------- 346.6/346.6 kB 3.1 MB/s eta 0:00:00\n",
      "Downloading urllib3-2.2.3-py3-none-any.whl (126 kB)\n",
      "   ---------------------------------------- 0.0/126.3 kB ? eta -:--:--\n",
      "   ---------------------------------------- 126.3/126.3 kB 7.3 MB/s eta 0:00:00\n",
      "Downloading werkzeug-3.1.3-py3-none-any.whl (224 kB)\n",
      "   ---------------------------------------- 0.0/224.5 kB ? eta -:--:--\n",
      "   ---------------------------------------- 0.0/224.5 kB ? eta -:--:--\n",
      "   ------------------------------------ --- 204.8/224.5 kB 6.3 MB/s eta 0:00:01\n",
      "   ---------------------------------------- 224.5/224.5 kB 4.6 MB/s eta 0:00:00\n",
      "Downloading Mako-1.3.8-py3-none-any.whl (78 kB)\n",
      "   ---------------------------------------- 0.0/78.6 kB ? eta -:--:--\n",
      "   ------------------------------- -------- 61.4/78.6 kB 3.2 MB/s eta 0:00:01\n",
      "   ---------------------------------------- 78.6/78.6 kB 2.2 MB/s eta 0:00:00\n",
      "Downloading certifi-2024.12.14-py3-none-any.whl (164 kB)\n",
      "   ---------------------------------------- 0.0/164.9 kB ? eta -:--:--\n",
      "   ------- -------------------------------- 30.7/164.9 kB ? eta -:--:--\n",
      "   ---------------------------------------- 164.9/164.9 kB 2.0 MB/s eta 0:00:00\n",
      "Downloading charset_normalizer-3.4.0-cp311-cp311-win_amd64.whl (101 kB)\n",
      "   ---------------------------------------- 0.0/101.8 kB ? eta -:--:--\n",
      "   ---------------------------------------- 0.0/101.8 kB ? eta -:--:--\n",
      "   ---------------------------------------- 101.8/101.8 kB 2.9 MB/s eta 0:00:00\n",
      "Downloading Deprecated-1.2.15-py2.py3-none-any.whl (9.9 kB)\n",
      "Using cached gitdb-4.0.11-py3-none-any.whl (62 kB)\n",
      "Downloading google_auth-2.37.0-py2.py3-none-any.whl (209 kB)\n",
      "   ---------------------------------------- 0.0/209.8 kB ? eta -:--:--\n",
      "   --------------------------- ------------ 143.4/209.8 kB 4.3 MB/s eta 0:00:01\n",
      "   ---------------------------------------- 209.8/209.8 kB 3.2 MB/s eta 0:00:00\n",
      "Downloading idna-3.10-py3-none-any.whl (70 kB)\n",
      "   ---------------------------------------- 0.0/70.4 kB ? eta -:--:--\n",
      "   ---------------------------------------- 70.4/70.4 kB 3.8 MB/s eta 0:00:00\n",
      "Downloading six-1.17.0-py2.py3-none-any.whl (11 kB)\n",
      "Downloading zipp-3.21.0-py3-none-any.whl (9.6 kB)\n",
      "Downloading colorama-0.4.6-py2.py3-none-any.whl (25 kB)\n",
      "Downloading pyasn1_modules-0.4.1-py3-none-any.whl (181 kB)\n",
      "   ---------------------------------------- 0.0/181.5 kB ? eta -:--:--\n",
      "   -------- ------------------------------ 41.0/181.5 kB 991.0 kB/s eta 0:00:01\n",
      "   --------------- ----------------------- 71.7/181.5 kB 787.7 kB/s eta 0:00:01\n",
      "   ---------------------------------------- 181.5/181.5 kB 1.6 MB/s eta 0:00:00\n",
      "Downloading rsa-4.9-py3-none-any.whl (34 kB)\n",
      "Using cached smmap-5.0.1-py3-none-any.whl (24 kB)\n",
      "Downloading wrapt-1.17.0-cp311-cp311-win_amd64.whl (38 kB)\n",
      "Downloading pyasn1-0.6.1-py3-none-any.whl (83 kB)\n",
      "   ---------------------------------------- 0.0/83.1 kB ? eta -:--:--\n",
      "   ---------------------------------------- 83.1/83.1 kB 4.6 MB/s eta 0:00:00\n",
      "Installing collected packages: pywin32, pytz, zipp, wrapt, waitress, urllib3, tzdata, typing-extensions, threadpoolctl, sqlparse, smmap, six, pyyaml, pyparsing, pyasn1, pyarrow, protobuf, pillow, packaging, numpy, MarkupSafe, markdown, kiwisolver, joblib, itsdangerous, idna, greenlet, graphql-core, fonttools, cycler, colorama, cloudpickle, charset-normalizer, certifi, cachetools, blinker, Werkzeug, sqlalchemy, scipy, rsa, requests, python-dateutil, pyasn1-modules, Mako, Jinja2, importlib_metadata, graphql-relay, gitdb, deprecated, contourpy, click, scikit-learn, pandas, opentelemetry-api, matplotlib, graphene, google-auth, gitpython, Flask, docker, alembic, opentelemetry-semantic-conventions, databricks-sdk, opentelemetry-sdk, mlflow-skinny, mlflow\n",
      "Successfully installed Flask-2.2.2 Jinja2-3.1.2 Mako-1.3.8 MarkupSafe-2.1.1 Werkzeug-2.2.3 alembic-1.14.0 blinker-1.9.0 cachetools-5.5.0 certifi-2024.12.14 charset-normalizer-2.0.4 click-8.0.4 cloudpickle-2.2.1 colorama-0.4.6 contourpy-1.0.5 cycler-0.11.0 databricks-sdk-0.40.0 deprecated-1.2.15 docker-7.1.0 fonttools-4.25.0 gitdb-4.0.11 gitpython-3.1.43 google-auth-2.37.0 graphene-3.4.3 graphql-core-3.2.5 graphql-relay-3.2.0 greenlet-2.0.1 idna-3.10 importlib_metadata-6.0.0 itsdangerous-2.0.1 joblib-1.2.0 kiwisolver-1.4.4 markdown-3.4.1 matplotlib-3.10.0 mlflow-2.19.0 mlflow-skinny-2.19.0 numpy-1.24.3 opentelemetry-api-1.29.0 opentelemetry-sdk-1.29.0 opentelemetry-semantic-conventions-0.50b0 packaging-23.1 pandas-2.0.3 pillow-10.2.0 protobuf-5.29.2 pyarrow-11.0.0 pyasn1-0.4.8 pyasn1-modules-0.2.8 pyparsing-3.0.9 python-dateutil-2.8.2 pytz-2023.3.post1 pywin32-305.1 pyyaml-6.0.2 requests-2.31.0 rsa-4.9 scikit-learn-1.3.0 scipy-1.11.1 six-1.16.0 smmap-5.0.1 sqlalchemy-1.4.39 sqlparse-0.5.3 threadpoolctl-2.2.0 typing-extensions-4.12.2 tzdata-2023.3 urllib3-1.26.16 waitress-3.0.2 wrapt-1.14.1 zipp-3.11.0\n"
     ]
    },
    {
     "name": "stderr",
     "output_type": "stream",
     "text": [
      "ERROR: pip's dependency resolver does not currently take into account all the packages that are installed. This behaviour is the source of the following dependency conflicts.\n",
      "conda-repo-cli 1.0.75 requires requests_mock, which is not installed.\n",
      "gensim 4.3.0 requires FuzzyTM>=0.4.0, which is not installed.\n",
      "tables 3.8.0 requires blosc2~=2.0.0, which is not installed.\n",
      "tables 3.8.0 requires cython>=0.29.21, which is not installed.\n",
      "botocore 1.29.76 requires urllib3<1.27,>=1.25.4, but you have urllib3 2.2.3 which is incompatible.\n",
      "conda-repo-cli 1.0.75 requires clyent==1.2.1, but you have clyent 1.2.2 which is incompatible.\n",
      "conda-repo-cli 1.0.75 requires python-dateutil==2.8.2, but you have python-dateutil 2.9.0.post0 which is incompatible.\n",
      "conda-repo-cli 1.0.75 requires PyYAML==6.0.1, but you have pyyaml 6.0.2 which is incompatible.\n",
      "conda-repo-cli 1.0.75 requires requests==2.31.0, but you have requests 2.32.3 which is incompatible.\n",
      "numba 0.57.1 requires numpy<1.25,>=1.21, but you have numpy 2.2.0 which is incompatible.\n",
      "python-lsp-black 1.2.1 requires black>=22.3.0, but you have black 0.0 which is incompatible.\n"
     ]
    }
   ],
   "source": [
    "!pip install --ignore-installed mlflow"
   ]
  },
  {
   "cell_type": "code",
   "execution_count": 4,
   "metadata": {
    "colab": {
     "base_uri": "https://localhost:8080/"
    },
    "id": "kdj5_r8TCT0T",
    "outputId": "b3bb2104-9028-40f9-8250-7663777758fd"
   },
   "outputs": [
    {
     "name": "stdout",
     "output_type": "stream",
     "text": [
      "Collecting pyngrok\n",
      "  Obtaining dependency information for pyngrok from https://files.pythonhosted.org/packages/19/bf/bc68710f743fe7501e18ae50a87fa1c806f6f51faf8cd4999eafb4ae606d/pyngrok-7.2.2-py3-none-any.whl.metadata\n",
      "  Downloading pyngrok-7.2.2-py3-none-any.whl.metadata (8.4 kB)\n",
      "Requirement already satisfied: PyYAML>=5.1 in c:\\users\\ziad\\anaconda3\\lib\\site-packages (from pyngrok) (6.0.2)\n",
      "Downloading pyngrok-7.2.2-py3-none-any.whl (22 kB)\n",
      "Installing collected packages: pyngrok\n",
      "Successfully installed pyngrok-7.2.2\n"
     ]
    }
   ],
   "source": [
    "!pip install pyngrok"
   ]
  },
  {
   "cell_type": "code",
   "execution_count": 60,
   "metadata": {
    "id": "dS-XzYjtX7Z0",
    "scrolled": true
   },
   "outputs": [
    {
     "name": "stderr",
     "output_type": "stream",
     "text": [
      "C:\\Users\\Ziad\\anaconda3\\Lib\\site-packages\\numpy\\_typing\\_scalars.py:12: FutureWarning: In the future `np.bool` will be defined as the corresponding NumPy scalar.\n",
      "  _BoolLike_co: TypeAlias = bool | np.bool\n"
     ]
    },
    {
     "name": "stdout",
     "output_type": "stream",
     "text": [
      "Unexpected exception formatting exception. Falling back to standard exception\n"
     ]
    },
    {
     "name": "stderr",
     "output_type": "stream",
     "text": [
      "Traceback (most recent call last):\n",
      "  File \"C:\\Users\\Ziad\\anaconda3\\Lib\\site-packages\\IPython\\core\\interactiveshell.py\", line 3526, in run_code\n",
      "    # compilation of odd code (such as a naked 'return' outside a\n",
      "            ^^^^^^^^^^^^^^^^^^^^^^^^^^^^^^^^^^^^^^^^^^^^^^^^^\n",
      "  File \"C:\\Users\\Ziad\\AppData\\Local\\Temp\\ipykernel_48292\\1747108790.py\", line 2, in <module>\n",
      "    from sklearn.impute import KNNImputer\n",
      "  File \"C:\\Users\\Ziad\\anaconda3\\Lib\\site-packages\\sklearn\\__init__.py\", line 73, in <module>\n",
      "    from .base import clone  # noqa: E402\n",
      "    ^^^^^^^^^^^^^^^^^^^^^^^\n",
      "  File \"C:\\Users\\Ziad\\anaconda3\\Lib\\site-packages\\sklearn\\base.py\", line 19, in <module>\n",
      "    from .utils._estimator_html_repr import _HTMLDocumentationLinkMixin, estimator_html_repr\n",
      "  File \"C:\\Users\\Ziad\\anaconda3\\Lib\\site-packages\\sklearn\\utils\\__init__.py\", line 15, in <module>\n",
      "    from ._chunking import gen_batches, gen_even_slices\n",
      "  File \"C:\\Users\\Ziad\\anaconda3\\Lib\\site-packages\\sklearn\\utils\\_chunking.py\", line 11, in <module>\n",
      "    from ._param_validation import Interval, validate_params\n",
      "  File \"C:\\Users\\Ziad\\anaconda3\\Lib\\site-packages\\sklearn\\utils\\_param_validation.py\", line 14, in <module>\n",
      "    from scipy.sparse import csr_matrix, issparse\n",
      "  File \"C:\\Users\\Ziad\\anaconda3\\Lib\\site-packages\\scipy\\sparse\\__init__.py\", line 293, in <module>\n",
      "    from ._base import *\n",
      "  File \"C:\\Users\\Ziad\\anaconda3\\Lib\\site-packages\\scipy\\sparse\\_base.py\", line 5, in <module>\n",
      "    from ._sputils import (asmatrix, check_reshape_kwargs, check_shape,\n",
      "  File \"C:\\Users\\Ziad\\anaconda3\\Lib\\site-packages\\scipy\\sparse\\_sputils.py\", line 10, in <module>\n",
      "    from scipy._lib._util import np_long, np_ulong\n",
      "  File \"C:\\Users\\Ziad\\anaconda3\\Lib\\site-packages\\scipy\\_lib\\_util.py\", line 18, in <module>\n",
      "    from scipy._lib._array_api import array_namespace, is_numpy, size as xp_size\n",
      "  File \"C:\\Users\\Ziad\\anaconda3\\Lib\\site-packages\\scipy\\_lib\\_array_api.py\", line 18, in <module>\n",
      "    import numpy.typing as npt\n",
      "  File \"C:\\Users\\Ziad\\anaconda3\\Lib\\site-packages\\numpy\\typing\\__init__.py\", line 158, in <module>\n",
      "    from numpy._typing import (\n",
      "  File \"C:\\Users\\Ziad\\anaconda3\\Lib\\site-packages\\numpy\\_typing\\__init__.py\", line 86, in <module>\n",
      "    from ._scalars import (\n",
      "  File \"C:\\Users\\Ziad\\anaconda3\\Lib\\site-packages\\numpy\\_typing\\_scalars.py\", line 12, in <module>\n",
      "    _BoolLike_co: TypeAlias = bool | np.bool\n",
      "                                     ^^^^^^^\n",
      "  File \"C:\\Users\\Ziad\\anaconda3\\Lib\\site-packages\\numpy\\__init__.py\", line 305, in __getattr__\n",
      "AttributeError: module 'numpy' has no attribute 'bool'.\n",
      "`np.bool` was a deprecated alias for the builtin `bool`. To avoid this error in existing code, use `bool` by itself. Doing this will not modify any behavior and is safe. If you specifically wanted the numpy scalar type, use `np.bool_` here.\n",
      "The aliases was originally deprecated in NumPy 1.20; for more details and guidance see the original release note at:\n",
      "    https://numpy.org/devdocs/release/1.20.0-notes.html#deprecations\n",
      "\n",
      "During handling of the above exception, another exception occurred:\n",
      "\n",
      "Traceback (most recent call last):\n",
      "  File \"C:\\Users\\Ziad\\anaconda3\\Lib\\site-packages\\IPython\\core\\interactiveshell.py\", line 2120, in showtraceback\n",
      "    should be used throughout the code for presenting user tracebacks,\n",
      "                                  ^^^^^^^^^^^^^^^^^^^^^^^^^^^^^^^^^^^^\n",
      "  File \"C:\\Users\\Ziad\\anaconda3\\Lib\\site-packages\\IPython\\core\\ultratb.py\", line 1435, in structured_traceback\n",
      "    # that to the clients.\n",
      "           ^^^^^^^^^^^^^^^\n",
      "  File \"C:\\Users\\Ziad\\anaconda3\\Lib\\site-packages\\IPython\\core\\ultratb.py\", line 1326, in structured_traceback\n",
      "    # NEVER change the order of this list. Put new modes at the end:\n",
      "               ^^^^^^^^^^^^^^^^^^^^^^^^^^^^^^^^^^^^^^^^^^^^^^^^^^^^^\n",
      "  File \"C:\\Users\\Ziad\\anaconda3\\Lib\\site-packages\\IPython\\core\\ultratb.py\", line 1173, in structured_traceback\n",
      "    code = frame.f_code\n",
      "                  ^^^^^\n",
      "  File \"C:\\Users\\Ziad\\anaconda3\\Lib\\site-packages\\IPython\\core\\ultratb.py\", line 1088, in format_exception_as_a_whole\n",
      "    frames = []\n",
      "                \n",
      "  File \"C:\\Users\\Ziad\\anaconda3\\Lib\\site-packages\\IPython\\core\\ultratb.py\", line 970, in format_record\n",
      "    else:\n",
      "          \n",
      "  File \"C:\\Users\\Ziad\\anaconda3\\Lib\\site-packages\\IPython\\core\\ultratb.py\", line 792, in lines\n",
      "    @property\n",
      "              \n",
      "  File \"C:\\Users\\Ziad\\anaconda3\\Lib\\site-packages\\stack_data\\utils.py\", line 145, in cached_property_wrapper\n",
      "    value = obj.__dict__[self.func.__name__] = self.func(obj)\n",
      "                                               ^^^^^^^^^^^^^^\n",
      "  File \"C:\\Users\\Ziad\\anaconda3\\Lib\\site-packages\\stack_data\\core.py\", line 698, in lines\n",
      "    \"\"\"\n",
      "        \n",
      "  File \"C:\\Users\\Ziad\\anaconda3\\Lib\\site-packages\\stack_data\\utils.py\", line 145, in cached_property_wrapper\n",
      "    value = obj.__dict__[self.func.__name__] = self.func(obj)\n",
      "                                               ^^^^^^^^^^^^^^\n",
      "  File \"C:\\Users\\Ziad\\anaconda3\\Lib\\site-packages\\stack_data\\core.py\", line 649, in included_pieces\n",
      "    # strange entries...\n",
      "                     ^^^^\n",
      "  File \"C:\\Users\\Ziad\\anaconda3\\Lib\\site-packages\\stack_data\\utils.py\", line 145, in cached_property_wrapper\n",
      "    value = obj.__dict__[self.func.__name__] = self.func(obj)\n",
      "                                               ^^^^^^^^^^^^^^\n",
      "  File \"C:\\Users\\Ziad\\anaconda3\\Lib\\site-packages\\stack_data\\core.py\", line 628, in executing_piece\n",
      "    result = self.code.co_filename\n",
      "           ^^^^^^^^^^^^^^^^^^^^^^^\n",
      "  File \"C:\\Users\\Ziad\\anaconda3\\Lib\\site-packages\\executing\\executing.py\", line 164, in only\n",
      "    except (SyntaxError, ValueError):\n",
      "executing.executing.NotOneValueFound: Expected one value, found 0\n"
     ]
    }
   ],
   "source": [
    "import pandas as pd\n",
    "from sklearn.impute import KNNImputer\n",
    "import plotly.express as px\n",
    "import plotly.graph_objs as go\n",
    "from scipy.stats import zscore\n",
    "from plotly.subplots import make_subplots\n",
    "from sklearn.preprocessing import LabelEncoder,OrdinalEncoder\n",
    "import seaborn as sns\n",
    "import matplotlib.pyplot as plt\n",
    "from sklearn.preprocessing import RobustScaler,PowerTransformer\n",
    "from sklearn.model_selection import train_test_split\n",
    "from sklearn.metrics import accuracy_score,confusion_matrix,classification_report,precision_score,recall_score,f1_score,roc_auc_score,roc_curve,precision_recall_curve,average_precision_score\n",
    "from sklearn.tree import DecisionTreeClassifier\n",
    "from sklearn.neighbors import KNeighborsClassifier\n",
    "from sklearn.naive_bayes import GaussianNB\n",
    "from sklearn.svm import SVC\n",
    "from sklearn.model_selection import GridSearchCV\n",
    "from sklearn.model_selection import RandomizedSearchCV\n",
    "from scipy.stats import uniform\n",
    "import pickle as pkl\n",
    "from sklearn import tree\n",
    "import mlflow\n",
    "import mlflow.sklearn\n",
    "from pyngrok import ngrok\n",
    "import subprocess\n",
    "from lime import lime_tabular\n",
    "import plotly.express as px\n",
    "from sklearn.ensemble import GradientBoostingClassifier"
   ]
  },
  {
   "cell_type": "markdown",
   "metadata": {
    "id": "g7_UQAOLzhbO"
   },
   "source": [
    "##Data Reading"
   ]
  },
  {
   "cell_type": "code",
   "execution_count": null,
   "metadata": {
    "id": "EeP5MLYaeyuI"
   },
   "outputs": [],
   "source": [
    "df_train=pd.read_csv(\"train.csv\")\n",
    "df_test=pd.read_csv(\"test.csv\")"
   ]
  },
  {
   "cell_type": "code",
   "execution_count": null,
   "metadata": {
    "id": "XnMqrNZQe-mk"
   },
   "outputs": [],
   "source": [
    "df=pd.concat([df_train,df_test],axis=0)"
   ]
  },
  {
   "cell_type": "code",
   "execution_count": null,
   "metadata": {
    "colab": {
     "base_uri": "https://localhost:8080/",
     "height": 669
    },
    "id": "IjhYJbkVfb_B",
    "outputId": "dd9388df-6f77-4d77-c9d0-607c5320daf2"
   },
   "outputs": [],
   "source": [
    "df"
   ]
  },
  {
   "cell_type": "code",
   "execution_count": null,
   "metadata": {
    "colab": {
     "base_uri": "https://localhost:8080/"
    },
    "id": "cCqfMn8lgxPI",
    "outputId": "9768313a-515e-40fa-d879-c1372830b377"
   },
   "outputs": [],
   "source": [
    "df.columns"
   ]
  },
  {
   "cell_type": "code",
   "execution_count": null,
   "metadata": {
    "id": "cHetEZFSgjuv"
   },
   "outputs": [],
   "source": [
    "df.drop(['Unnamed: 0','id'],axis=1,inplace=True)"
   ]
  },
  {
   "cell_type": "code",
   "execution_count": null,
   "metadata": {
    "colab": {
     "base_uri": "https://localhost:8080/",
     "height": 355
    },
    "id": "_6lWYaEMgbbb",
    "outputId": "4fe5d015-6425-4d7d-a817-54fee1471d9d"
   },
   "outputs": [],
   "source": [
    "df.describe()"
   ]
  },
  {
   "cell_type": "markdown",
   "metadata": {
    "id": "DgxIBaWFzo-g"
   },
   "source": [
    "##Duplicates Checking"
   ]
  },
  {
   "cell_type": "code",
   "execution_count": null,
   "metadata": {
    "colab": {
     "base_uri": "https://localhost:8080/"
    },
    "id": "DvP73hXbhjwu",
    "outputId": "dbe69319-8930-458b-e0a3-7cc9f3a11dbc"
   },
   "outputs": [],
   "source": [
    "df.duplicated().sum()"
   ]
  },
  {
   "cell_type": "markdown",
   "metadata": {
    "id": "NU0HMVbxzwfI"
   },
   "source": [
    "## Null Checking & Handling"
   ]
  },
  {
   "cell_type": "code",
   "execution_count": null,
   "metadata": {
    "colab": {
     "base_uri": "https://localhost:8080/",
     "height": 805
    },
    "id": "YxmWLUizfdDJ",
    "outputId": "a46851b2-87f2-47b5-c934-747c8cb152fa"
   },
   "outputs": [],
   "source": [
    "df.isnull().sum()"
   ]
  },
  {
   "cell_type": "code",
   "execution_count": null,
   "metadata": {
    "id": "iR41af-QfoW0"
   },
   "outputs": [],
   "source": [
    "num_columns=df.select_dtypes(include=['number']).columns\n",
    "cat_columns=df.select_dtypes(include=['object']).columns"
   ]
  },
  {
   "cell_type": "code",
   "execution_count": null,
   "metadata": {
    "id": "-LITfkrwgKan"
   },
   "outputs": [],
   "source": [
    "imputer = KNNImputer(n_neighbors=5)\n",
    "df[num_columns]=imputer.fit_transform(df[num_columns])"
   ]
  },
  {
   "cell_type": "code",
   "execution_count": null,
   "metadata": {
    "colab": {
     "base_uri": "https://localhost:8080/",
     "height": 805
    },
    "id": "LA9hsiLGgZWx",
    "outputId": "276f57f1-b7ff-444d-8259-c996eb2c7c54"
   },
   "outputs": [],
   "source": [
    "df.isnull().sum()"
   ]
  },
  {
   "cell_type": "markdown",
   "metadata": {
    "id": "TTLF0xXr0Iv5"
   },
   "source": [
    "##Outliers Checking"
   ]
  },
  {
   "cell_type": "code",
   "execution_count": null,
   "metadata": {
    "colab": {
     "base_uri": "https://localhost:8080/",
     "height": 542
    },
    "id": "x2UHd486iXQy",
    "outputId": "71fc45f7-2152-4066-bcac-6f59d5400f1f"
   },
   "outputs": [],
   "source": [
    "num_cols = len(num_columns)\n",
    "num_rows = (num_cols + 3) //4\n",
    "fig = make_subplots(rows=num_rows, cols=4, subplot_titles=num_columns)\n",
    "for i, col in enumerate(num_columns, start=1):\n",
    "    row_num = (i - 1) // 4 + 1\n",
    "    col_num = (i - 1) % 4 + 1\n",
    "    fig.add_trace(\n",
    "        go.Box(\n",
    "            x=df[col],\n",
    "            name='',\n",
    "            marker_color='rgba(0, 162, 232, 0.7)',\n",
    "            line_color='rgba(0, 85, 153, 1)'\n",
    "        ),\n",
    "        row=row_num,\n",
    "        col=col_num\n",
    "    )\n",
    "fig.update_layout(\n",
    "    title_text=\"Horizontal Boxplots of Numerical Columns\",\n",
    "    title_font=dict(size=24, color='rgba(0, 85, 153, 1)'),\n",
    "    showlegend=False,\n",
    "    plot_bgcolor=\"#E0F7FA\",\n",
    "    paper_bgcolor=\"#B2EBF2\"\n",
    ")\n",
    "\n",
    "fig.show()"
   ]
  },
  {
   "cell_type": "markdown",
   "metadata": {
    "id": "4fpETHtR0Ovf"
   },
   "source": [
    "##Outliers Handling"
   ]
  },
  {
   "cell_type": "code",
   "execution_count": null,
   "metadata": {
    "id": "zs1LTS-biJ0y"
   },
   "outputs": [],
   "source": [
    "df['Z_Score'] = zscore(df['Flight Distance'])\n",
    "threshold = 3\n",
    "lower_bound = df['Flight Distance'].mean() - threshold * df['Flight Distance'].std()\n",
    "upper_bound = df['Flight Distance'].mean() + threshold * df['Flight Distance'].std()\n",
    "df['Flight Distance'] = df['Flight Distance'].clip(lower=lower_bound, upper=upper_bound)\n",
    "df.drop(columns='Z_Score', inplace=True)"
   ]
  },
  {
   "cell_type": "code",
   "execution_count": null,
   "metadata": {
    "id": "3_lS3JgwjNBt"
   },
   "outputs": [],
   "source": [
    "Q1 = df['Departure Delay in Minutes'].quantile(0.25)\n",
    "Q3 = df['Departure Delay in Minutes'].quantile(0.75)\n",
    "IQR = Q3 - Q1\n",
    "lower_bound = Q1 - 1.5 * IQR\n",
    "upper_bound = Q3 + 1.5 * IQR\n",
    "df['Departure Delay in Minutes'] = df['Departure Delay in Minutes'].clip(lower=lower_bound, upper=upper_bound)"
   ]
  },
  {
   "cell_type": "code",
   "execution_count": null,
   "metadata": {
    "id": "7skn7qE0jfMq"
   },
   "outputs": [],
   "source": [
    "Q1 = df['Arrival Delay in Minutes'].quantile(0.25)\n",
    "Q3 = df['Arrival Delay in Minutes'].quantile(0.75)\n",
    "IQR = Q3 - Q1\n",
    "lower_bound = Q1 - 1.5 * IQR\n",
    "upper_bound = Q3 + 1.5 * IQR\n",
    "df['Arrival Delay in Minutes'] = df['Arrival Delay in Minutes'].clip(lower=lower_bound, upper=upper_bound)"
   ]
  },
  {
   "cell_type": "code",
   "execution_count": null,
   "metadata": {
    "colab": {
     "base_uri": "https://localhost:8080/",
     "height": 542
    },
    "id": "RmEKwhQ8jnwS",
    "outputId": "bd92c980-69f8-4dad-e9e3-a4b54c782042"
   },
   "outputs": [],
   "source": [
    "num_cols = len(num_columns)\n",
    "num_rows = (num_cols + 3) // 4\n",
    "fig = make_subplots(rows=num_rows, cols=4, subplot_titles=num_columns)\n",
    "for i, col in enumerate(num_columns, start=1):\n",
    "    row_num = (i - 1) // 4 + 1\n",
    "    col_num = (i - 1) % 4 + 1\n",
    "    fig.add_trace(\n",
    "        go.Box(\n",
    "            x=df[col],\n",
    "            name='',\n",
    "            marker_color='rgba(0, 162, 232, 0.7)',\n",
    "            line_color='rgba(0, 85, 153, 1)'\n",
    "        ),\n",
    "        row=row_num,\n",
    "        col=col_num\n",
    "    )\n",
    "\n",
    "fig.update_layout(\n",
    "    title_text=\"Horizontal Boxplots of Numerical Columns\",\n",
    "    title_font=dict(size=24, color='rgba(0, 85, 153, 1)'),\n",
    "    showlegend=False,\n",
    "    plot_bgcolor=\"#E0F7FA\",\n",
    "    paper_bgcolor=\"#B2EBF2\"\n",
    ")\n",
    "\n",
    "fig.show()"
   ]
  },
  {
   "cell_type": "markdown",
   "metadata": {
    "id": "FFZveCpC0T_W"
   },
   "source": [
    "## Encoding"
   ]
  },
  {
   "cell_type": "code",
   "execution_count": null,
   "metadata": {
    "id": "PfIyB4qNlX-B"
   },
   "outputs": [],
   "source": [
    "encoder_gender = LabelEncoder()\n",
    "encoder_customer_type = LabelEncoder()\n",
    "encoder_type_of_travel = LabelEncoder()\n",
    "encoder_satisfaction = LabelEncoder()"
   ]
  },
  {
   "cell_type": "code",
   "execution_count": null,
   "metadata": {},
   "outputs": [],
   "source": [
    "df['Gender'] = encoder_gender.fit_transform(df['Gender'])\n",
    "df['Customer Type'] = encoder_customer_type.fit_transform(df['Customer Type'])\n",
    "df['Type of Travel'] = encoder_type_of_travel.fit_transform(df['Type of Travel'])\n",
    "df['satisfaction'] = encoder_satisfaction.fit_transform(df['satisfaction'])"
   ]
  },
  {
   "cell_type": "code",
   "execution_count": null,
   "metadata": {
    "id": "6l3qpPzsDN5P"
   },
   "outputs": [],
   "source": [
    "pkl.dump(encoder_gender, open('encoder_gender.pkl', 'wb'))\n",
    "pkl.dump(encoder_customer_type, open('encoder_customer_type.pkl', 'wb'))\n",
    "pkl.dump(encoder_type_of_travel, open('encoder_type_of_travel.pkl', 'wb'))\n",
    "pkl.dump(encoder_satisfaction, open('encoder_satisfaction.pkl', 'wb'))"
   ]
  },
  {
   "cell_type": "code",
   "execution_count": null,
   "metadata": {
    "id": "ouZAVjrAl3fa"
   },
   "outputs": [],
   "source": [
    "or_encoder=OrdinalEncoder(categories=[['Business','Eco','Eco Plus']])\n",
    "df['Class']=or_encoder.fit_transform(df[['Class']])"
   ]
  },
  {
   "cell_type": "code",
   "execution_count": null,
   "metadata": {
    "id": "YrJ6HbVpDRFh"
   },
   "outputs": [],
   "source": [
    "pkl.dump(or_encoder,open('or_encoder.pkl','wb'))"
   ]
  },
  {
   "cell_type": "markdown",
   "metadata": {
    "id": "xWsR-tNw0aQB"
   },
   "source": [
    "##Correlation"
   ]
  },
  {
   "cell_type": "code",
   "execution_count": null,
   "metadata": {
    "colab": {
     "base_uri": "https://localhost:8080/",
     "height": 918
    },
    "id": "lRnNRU4_mdR2",
    "outputId": "78161f99-b093-4339-8b3a-f88f86c960af"
   },
   "outputs": [],
   "source": [
    "fig, ax = plt.subplots(figsize=(20, 20))\n",
    "ax=sns.heatmap(df.corr(), annot=True, cmap='Blues')\n",
    "plt.show()"
   ]
  },
  {
   "cell_type": "code",
   "execution_count": null,
   "metadata": {
    "id": "t8oW6F7Bmkv4"
   },
   "outputs": [],
   "source": [
    "df.drop(['Customer Type','Type of Travel','Class','Ease of Online booking','Arrival Delay in Minutes'],axis=1,inplace=True)"
   ]
  },
  {
   "cell_type": "markdown",
   "metadata": {
    "id": "8qFmfObW0iWD"
   },
   "source": [
    "##Unbalance Checking"
   ]
  },
  {
   "cell_type": "code",
   "execution_count": null,
   "metadata": {
    "colab": {
     "base_uri": "https://localhost:8080/",
     "height": 542
    },
    "id": "YUQOhagvoiiY",
    "outputId": "7dabdeb7-c898-4aef-9b3e-8d7758ac94a2"
   },
   "outputs": [],
   "source": [
    "fig=px.bar(\n",
    "    df.groupby('satisfaction').size().reset_index(name='Count'),\n",
    "    x='satisfaction',\n",
    "    y='Count',\n",
    "    title='Count of satisfaction',\n",
    "    labels={'satisfaction':'satisfaction','Count':'Number of Occurrences'},\n",
    "    color='satisfaction',\n",
    "    color_discrete_sequence=px.colors.qualitative.Set2\n",
    ")\n",
    "fig.show()"
   ]
  },
  {
   "cell_type": "markdown",
   "metadata": {
    "id": "iOaogZGN0nrd"
   },
   "source": [
    "##Data Spliting\n"
   ]
  },
  {
   "cell_type": "code",
   "execution_count": null,
   "metadata": {
    "id": "szef9IpcojFT"
   },
   "outputs": [],
   "source": [
    "x=df.drop('satisfaction',axis=1)\n",
    "y=df['satisfaction']"
   ]
  },
  {
   "cell_type": "code",
   "execution_count": null,
   "metadata": {
    "id": "H3OddYR5oyFq"
   },
   "outputs": [],
   "source": [
    "x_train,x_test,y_train,y_test=train_test_split(x,y,test_size=0.2,random_state=42,stratify=y)\n",
    "x_train,x_valid,y_train,y_valid=train_test_split(x_train,y_train,test_size=0.2,random_state=42,stratify=y_train)"
   ]
  },
  {
   "cell_type": "markdown",
   "metadata": {
    "id": "HVzlxooh0t7w"
   },
   "source": [
    "##Data Scaling\n"
   ]
  },
  {
   "cell_type": "code",
   "execution_count": null,
   "metadata": {
    "id": "L8zd4YeypHSk"
   },
   "outputs": [],
   "source": [
    "pt = PowerTransformer(method='yeo-johnson')\n",
    "x_train = pt.fit_transform(x_train)\n",
    "x_test = pt.transform(x_test)\n",
    "x_valid= pt.transform(x_valid)"
   ]
  },
  {
   "cell_type": "code",
   "execution_count": null,
   "metadata": {
    "id": "sPvvSmeaC-pJ"
   },
   "outputs": [],
   "source": [
    "pkl.dump(pt,open('pt.pkl','wb'))"
   ]
  },
  {
   "cell_type": "code",
   "execution_count": null,
   "metadata": {
    "id": "_90UKIOGqMU2"
   },
   "outputs": [],
   "source": [
    "scaler=RobustScaler()\n",
    "x_train=scaler.fit_transform(x_train)\n",
    "x_valid=scaler.transform(x_valid)\n",
    "x_test=scaler.transform(x_test)"
   ]
  },
  {
   "cell_type": "code",
   "execution_count": null,
   "metadata": {
    "id": "WbvSd-9gDHqK"
   },
   "outputs": [],
   "source": [
    "pkl.dump(scaler,open('scaler.pkl','wb'))"
   ]
  },
  {
   "cell_type": "markdown",
   "metadata": {
    "id": "nFaSYJH-0wNv"
   },
   "source": [
    "##Function For Check OverFitting"
   ]
  },
  {
   "cell_type": "code",
   "execution_count": null,
   "metadata": {
    "id": "mcTf9HDSshc7"
   },
   "outputs": [],
   "source": [
    "def check_overfitting(model,x_train,y_train,x_vald,y_vald):\n",
    "        y_tr_pred=model.predict(x_train)\n",
    "        train_accuracy=accuracy_score(y_train,y_tr_pred)\n",
    "        y_val_pred=model.predict(x_vald)\n",
    "        valid_accuracy=accuracy_score(y_vald,y_val_pred)\n",
    "        print(\"Model Metrics for CheckingOverfitting\")\n",
    "        print(f\"Accuracy_ train {train_accuracy}\")\n",
    "        print(f\"Accuracy_ validation {valid_accuracy}\")\n",
    "        return train_accuracy,valid_accuracy"
   ]
  },
  {
   "cell_type": "markdown",
   "metadata": {
    "id": "z50yXbI500oK"
   },
   "source": [
    "## Models Building"
   ]
  },
  {
   "cell_type": "markdown",
   "metadata": {
    "id": "OFDByhF804IL"
   },
   "source": [
    "##KNN"
   ]
  },
  {
   "cell_type": "code",
   "execution_count": null,
   "metadata": {
    "colab": {
     "base_uri": "https://localhost:8080/"
    },
    "id": "BptQa8CqqQXY",
    "outputId": "6f7839e8-ecff-40e1-fea7-e5c460639cb5"
   },
   "outputs": [],
   "source": [
    "input_example=x_train[0].reshape(1,-1)\n",
    "params={\n",
    "    'n_neighbors':[3,5,7,9,11,13,15],\n",
    "    'p':[1,2]\n",
    "}\n",
    "knn=KNeighborsClassifier()\n",
    "mlflow.set_experiment('KNeighborsClassifier')\n",
    "mlflow.start_run(run_name='KNeighborsClassifier_Run')\n",
    "grid=GridSearchCV(knn,param_grid=params,cv=5)\n",
    "grid.fit(x_train,y_train)\n",
    "knn=grid.best_estimator_\n",
    "mlflow.log_param('n_neighbors',knn.n_neighbors)\n",
    "mlflow.log_param('p',knn.p)\n",
    "mlflow.sklearn.log_model(knn,'KNeighborsClassifier',input_example=input_example)"
   ]
  },
  {
   "cell_type": "code",
   "execution_count": null,
   "metadata": {
    "colab": {
     "base_uri": "https://localhost:8080/"
    },
    "id": "468x5qzPslzP",
    "outputId": "bf00ff01-dae2-4aae-df84-22f043df6edc"
   },
   "outputs": [],
   "source": [
    "train_accuracy, valid_accuracy = check_overfitting(knn, x_train, y_train, x_valid, y_valid)\n",
    "mlflow.log_metric('train_accuracy', train_accuracy)\n",
    "mlflow.log_metric('valid_accuracy', valid_accuracy)"
   ]
  },
  {
   "cell_type": "code",
   "execution_count": null,
   "metadata": {
    "id": "dB9E3S-PsnsF"
   },
   "outputs": [],
   "source": [
    "y_pred=knn.predict(x_test)\n",
    "knn_accuracy=accuracy_score(y_test,y_pred)\n",
    "knn_precision=accuracy_score(y_test,y_pred)\n",
    "knn_recall=accuracy_score(y_test,y_pred)\n",
    "knn_F1=accuracy_score(y_test,y_pred)\n",
    "mlflow.log_metric('knn_accuracy',knn_accuracy)\n",
    "mlflow.log_metric('knn_precision',knn_precision)\n",
    "mlflow.log_metric('knn_recall',knn_recall)\n",
    "mlflow.log_metric('knn_F1',knn_F1)"
   ]
  },
  {
   "cell_type": "code",
   "execution_count": null,
   "metadata": {
    "colab": {
     "base_uri": "https://localhost:8080/"
    },
    "id": "revRzf3-s2kH",
    "outputId": "f85b84b0-325c-4264-d1d7-bf0b39dd49c4"
   },
   "outputs": [],
   "source": [
    "print(f'Accuracy = {knn_accuracy}')\n",
    "print(f'Precision = {knn_precision}')\n",
    "print(f'Recall = {knn_recall}')\n",
    "print(f'F1 = {knn_F1}')"
   ]
  },
  {
   "cell_type": "code",
   "execution_count": null,
   "metadata": {
    "colab": {
     "base_uri": "https://localhost:8080/"
    },
    "id": "LyGcVXi1s_ZF",
    "outputId": "445bbc74-c43f-4e02-f14b-81666262b9b3"
   },
   "outputs": [],
   "source": [
    "confusion_matrix(y_test,y_pred)"
   ]
  },
  {
   "cell_type": "code",
   "execution_count": null,
   "metadata": {
    "colab": {
     "base_uri": "https://localhost:8080/",
     "height": 430
    },
    "id": "5a_EGcafs_8V",
    "outputId": "9d724f9b-b646-412f-c575-0b073ce4c5a0"
   },
   "outputs": [],
   "source": [
    "fig = plt.figure()\n",
    "sns.heatmap(confusion_matrix(y_test,y_pred),annot=True,fmt='.2f',cmap='Blues')\n",
    "fig.patch.set_facecolor('#E0F7FA')\n",
    "ax = plt.gca()\n",
    "plt.show()"
   ]
  },
  {
   "cell_type": "code",
   "execution_count": null,
   "metadata": {
    "colab": {
     "base_uri": "https://localhost:8080/",
     "height": 607
    },
    "id": "xaSDIWGpNniv",
    "outputId": "0be09543-9d49-4a86-8ab9-7dc9ee78bfb1"
   },
   "outputs": [],
   "source": [
    "explainer = lime_tabular.LimeTabularExplainer(\n",
    "    training_data=x_train,\n",
    "    training_labels=y_train,\n",
    "    feature_names=x.columns,\n",
    "    class_names=[\"Not Satisfy\", \"Satisfy\"],\n",
    "    mode=\"classification\"\n",
    ")\n",
    "sample_instance = x_test[0]\n",
    "explanation = explainer.explain_instance(\n",
    "    sample_instance,\n",
    "    knn.predict_proba,\n",
    "    num_features=10\n",
    ")\n",
    "feature_importance = explanation.as_list()\n",
    "features, values = zip(*feature_importance)\n",
    "plt.figure(figsize=(8, 6))\n",
    "plt.barh(features, values, color=[\"orange\" if v < 0 else \"blue\" for v in values])\n",
    "plt.xlabel(\"Feature Contribution\")\n",
    "plt.ylabel(\"Features\")\n",
    "plt.title(\"Feature Contributions to Prediction\")\n",
    "plt.tight_layout()\n",
    "plt.show()"
   ]
  },
  {
   "cell_type": "code",
   "execution_count": null,
   "metadata": {
    "id": "nU3wh5qewko2"
   },
   "outputs": [],
   "source": [
    "pkl.dump(knn,open('knn.pkl','wb'))\n",
    "mlflow.end_run()"
   ]
  },
  {
   "cell_type": "markdown",
   "metadata": {
    "id": "OETg8yKO08ae"
   },
   "source": [
    "##Naive Bayes"
   ]
  },
  {
   "cell_type": "code",
   "execution_count": null,
   "metadata": {
    "colab": {
     "base_uri": "https://localhost:8080/"
    },
    "id": "UqagmXClcVV-",
    "outputId": "310fae2e-41d6-4484-e1b5-720fc8956875"
   },
   "outputs": [],
   "source": [
    "params = {\n",
    "    'var_smoothing': [1e-9, 1e-8, 1e-7, 1e-6, 1e-5, 1e-4]\n",
    "}\n",
    "NV = GaussianNB()\n",
    "mlflow.set_experiment('GaussianNB')\n",
    "mlflow.start_run(run_name='GaussianNB_Run')\n",
    "grid = GridSearchCV(NV, param_grid=params, cv=5)\n",
    "grid.fit(x_train, y_train)\n",
    "naive_bayes=grid.best_estimator_\n",
    "mlflow.log_param('var_smoothing',naive_bayes.var_smoothing)\n",
    "mlflow.sklearn.log_model(naive_bayes,'GaussianNB',input_example=input_example)"
   ]
  },
  {
   "cell_type": "code",
   "execution_count": null,
   "metadata": {
    "colab": {
     "base_uri": "https://localhost:8080/"
    },
    "id": "NIiaAdDq68FF",
    "outputId": "935b9277-3fcb-44b7-f09c-07bc93d6f294"
   },
   "outputs": [],
   "source": [
    "train_accuracy, valid_accuracy = check_overfitting(naive_bayes, x_train, y_train, x_valid, y_valid)\n",
    "mlflow.log_metric('train_accuracy', train_accuracy)\n",
    "mlflow.log_metric('valid_accuracy', valid_accuracy)"
   ]
  },
  {
   "cell_type": "code",
   "execution_count": null,
   "metadata": {
    "id": "JuTU4Om-7U79"
   },
   "outputs": [],
   "source": [
    "y_pred=naive_bayes.predict(x_test)\n",
    "NV_accuracy = accuracy_score(y_test,y_pred)\n",
    "NV_precision = accuracy_score(y_test,y_pred)\n",
    "NV_recall = accuracy_score(y_test,y_pred)\n",
    "NV_F1 = accuracy_score(y_test,y_pred)\n",
    "mlflow.log_metric('NV_accuracy',NV_accuracy)\n",
    "mlflow.log_metric('NV_precision',NV_precision)\n",
    "mlflow.log_metric('NV_recall',NV_recall)\n",
    "mlflow.log_metric('NV_F1',NV_F1)"
   ]
  },
  {
   "cell_type": "code",
   "execution_count": null,
   "metadata": {
    "colab": {
     "base_uri": "https://localhost:8080/"
    },
    "id": "S15nureb7kIw",
    "outputId": "a8e3bbc3-fed1-468e-a505-039b04d630f5"
   },
   "outputs": [],
   "source": [
    "print(f'Accuracy = {NV_accuracy}')\n",
    "print(f'Precision = {NV_precision}')\n",
    "print(f'Recall = {NV_recall}')\n",
    "print(f'F1 = {NV_F1}')"
   ]
  },
  {
   "cell_type": "code",
   "execution_count": null,
   "metadata": {
    "colab": {
     "base_uri": "https://localhost:8080/"
    },
    "id": "BTE_xx6KDT5Z",
    "outputId": "56669d01-fffe-429a-b351-492587278958"
   },
   "outputs": [],
   "source": [
    "confusion_matrix(y_test,y_pred)"
   ]
  },
  {
   "cell_type": "code",
   "execution_count": null,
   "metadata": {
    "colab": {
     "base_uri": "https://localhost:8080/",
     "height": 430
    },
    "id": "HEZFNj35DQ3g",
    "outputId": "b7d8d594-5331-4d92-d590-be5a64271da9"
   },
   "outputs": [],
   "source": [
    "fig = plt.figure()\n",
    "sns.heatmap(confusion_matrix(y_test,y_pred),annot=True,fmt='.2f',cmap='Blues')\n",
    "fig.patch.set_facecolor('#E0F7FA')\n",
    "ax = plt.gca()\n",
    "plt.show()"
   ]
  },
  {
   "cell_type": "code",
   "execution_count": null,
   "metadata": {
    "colab": {
     "base_uri": "https://localhost:8080/",
     "height": 607
    },
    "id": "6CI6fG0cNkbs",
    "outputId": "75a83453-73b9-4f63-f8a7-a08edcc280a9"
   },
   "outputs": [],
   "source": [
    "explainer = lime_tabular.LimeTabularExplainer(\n",
    "    training_data=x_train,\n",
    "    training_labels=y_train,\n",
    "    feature_names=x.columns,\n",
    "    class_names=[\"Not Satisfy\", \"Satisfy\"],\n",
    "    mode=\"classification\"\n",
    ")\n",
    "sample_instance = x_test[0]\n",
    "explanation = explainer.explain_instance(\n",
    "    sample_instance,\n",
    "    naive_bayes.predict_proba,\n",
    "    num_features=10\n",
    ")\n",
    "feature_importance = explanation.as_list()\n",
    "features, values = zip(*feature_importance)\n",
    "plt.figure(figsize=(8, 6))\n",
    "plt.barh(features, values, color=[\"orange\" if v < 0 else \"blue\" for v in values])\n",
    "plt.xlabel(\"Feature Contribution\")\n",
    "plt.ylabel(\"Features\")\n",
    "plt.title(\"Feature Contributions to Prediction\")\n",
    "plt.tight_layout()\n",
    "plt.show()"
   ]
  },
  {
   "cell_type": "code",
   "execution_count": null,
   "metadata": {
    "id": "zwLchXlyHdpL"
   },
   "outputs": [],
   "source": [
    "pkl.dump(naive_bayes,open('Naive.pkl','wb'))\n",
    "mlflow.end_run()"
   ]
  },
  {
   "cell_type": "markdown",
   "metadata": {
    "id": "JuHrmHFo1A27"
   },
   "source": [
    "##SVM"
   ]
  },
  {
   "cell_type": "code",
   "execution_count": null,
   "metadata": {
    "colab": {
     "base_uri": "https://localhost:8080/",
     "height": 183
    },
    "id": "jrt52ove_ebU",
    "outputId": "4b26c810-595f-4e9e-9b03-31e599a140eb"
   },
   "outputs": [],
   "source": [
    "x_sample, _, y_sample, _ = train_test_split(x_train, y_train,test_size=0.9,random_state=42,stratify=y_train)\n",
    "param_dist = {\n",
    "    'C': uniform(0.1, 10),\n",
    "    'kernel': ['linear', 'rbf', 'poly', 'sigmoid'],\n",
    "    'gamma': ['scale', 'auto'],\n",
    "    'degree': [2, 3, 4],\n",
    "}\n",
    "\n",
    "svm = SVC()\n",
    "random_search = RandomizedSearchCV(\n",
    "    estimator=svm,\n",
    "    param_distributions=param_dist,\n",
    "    n_iter=20,\n",
    "    cv=5,\n",
    "    scoring='accuracy',\n",
    "    random_state=42,\n",
    "    verbose=2,\n",
    "    n_jobs=-1\n",
    ")\n",
    "random_search.fit(x_sample, y_sample)"
   ]
  },
  {
   "cell_type": "code",
   "execution_count": null,
   "metadata": {
    "colab": {
     "base_uri": "https://localhost:8080/"
    },
    "id": "OTjsdfRmAtqR",
    "outputId": "893a36b0-aa69-46eb-fa86-e75bf8e147b8"
   },
   "outputs": [],
   "source": [
    "random_search.best_params_"
   ]
  },
  {
   "cell_type": "code",
   "execution_count": null,
   "metadata": {
    "colab": {
     "base_uri": "https://localhost:8080/"
    },
    "id": "wLTgKfWABO4-",
    "outputId": "421cee84-6a04-4056-d3d8-f96ef437094d"
   },
   "outputs": [],
   "source": [
    "mlflow.set_experiment('SVC')\n",
    "svm=SVC(C= 5.777003278199914, degree=2, gamma= 'scale', kernel= 'rbf',probability=True)\n",
    "mlflow.start_run(run_name='SVC_Run')\n",
    "svm.fit(x_train,y_train)\n",
    "mlflow.log_param('C',svm.C)\n",
    "mlflow.log_param('kernel',svm.kernel)\n",
    "mlflow.log_param('gamma',svm.gamma)\n",
    "mlflow.log_param('degree',svm.degree)\n",
    "mlflow.sklearn.log_model(svm,'SVC',input_example=input_example)"
   ]
  },
  {
   "cell_type": "code",
   "execution_count": null,
   "metadata": {
    "colab": {
     "base_uri": "https://localhost:8080/"
    },
    "id": "_pWZEHD_CFGT",
    "outputId": "92421faf-1964-4bc9-8689-e8c7b435c0b5"
   },
   "outputs": [],
   "source": [
    "train_accuracy, valid_accuracy = check_overfitting(svm, x_train, y_train, x_valid, y_valid)\n",
    "mlflow.log_metric('train_accuracy', train_accuracy)\n",
    "mlflow.log_metric('valid_accuracy', valid_accuracy)"
   ]
  },
  {
   "cell_type": "code",
   "execution_count": null,
   "metadata": {
    "id": "Z3O3QI7vCFXS"
   },
   "outputs": [],
   "source": [
    "y_pred=svm.predict(x_test)\n",
    "svm_accuracy = accuracy_score(y_test,y_pred)\n",
    "svm_precision = accuracy_score(y_test,y_pred)\n",
    "svm_recall = accuracy_score(y_test,y_pred)\n",
    "svm_F1 = accuracy_score(y_test,y_pred)\n",
    "mlflow.log_metric('svm_accuracy',svm_accuracy)\n",
    "mlflow.log_metric('svm_precision',svm_precision)\n",
    "mlflow.log_metric('svm_recall',svm_recall)\n",
    "mlflow.log_metric('svm_F1',svm_F1)"
   ]
  },
  {
   "cell_type": "code",
   "execution_count": null,
   "metadata": {
    "colab": {
     "base_uri": "https://localhost:8080/"
    },
    "id": "Us_Jgkd5DX6z",
    "outputId": "443986cc-a6bc-4538-d8dd-7845ebe18840"
   },
   "outputs": [],
   "source": [
    "print(f'Accuracy = {svm_accuracy}')\n",
    "print(f'Precision = {svm_precision}')\n",
    "print(f'Recall = {svm_recall}')\n",
    "print(f'F1 = {svm_F1}')"
   ]
  },
  {
   "cell_type": "code",
   "execution_count": null,
   "metadata": {
    "colab": {
     "base_uri": "https://localhost:8080/"
    },
    "id": "WCph-QcVC65a",
    "outputId": "13bd3531-5858-4c79-caed-3ef55a317149"
   },
   "outputs": [],
   "source": [
    "confusion_matrix(y_test,y_pred)"
   ]
  },
  {
   "cell_type": "code",
   "execution_count": null,
   "metadata": {
    "colab": {
     "base_uri": "https://localhost:8080/",
     "height": 435
    },
    "id": "STa3PZEXDCvL",
    "outputId": "0136bb63-a633-4bdb-a8dd-4fb4eea56e1e"
   },
   "outputs": [],
   "source": [
    "fig = plt.figure()\n",
    "sns.heatmap(confusion_matrix(y_test,y_pred),annot=True,fmt='.2f',cmap='Blues')\n",
    "fig.patch.set_facecolor('#E0F7FA')\n",
    "ax = plt.gca()\n",
    "plt.show()"
   ]
  },
  {
   "cell_type": "code",
   "execution_count": null,
   "metadata": {
    "colab": {
     "base_uri": "https://localhost:8080/",
     "height": 607
    },
    "id": "xMvrxKSlNf66",
    "outputId": "cd7ce943-3bbe-4441-f05d-9c81544ab8e1"
   },
   "outputs": [],
   "source": [
    "explainer = lime_tabular.LimeTabularExplainer(\n",
    "    training_data=x_train,\n",
    "    training_labels=y_train,\n",
    "    feature_names=x.columns,\n",
    "    class_names=[\"Not Satisfy\", \"Satisfy\"],\n",
    "    mode=\"classification\"\n",
    ")\n",
    "sample_instance = x_test[0]\n",
    "explanation = explainer.explain_instance(\n",
    "    sample_instance,\n",
    "    svm.predict_proba,\n",
    "    num_features=10\n",
    ")\n",
    "feature_importance = explanation.as_list()\n",
    "features, values = zip(*feature_importance)\n",
    "plt.figure(figsize=(8, 6))\n",
    "plt.barh(features, values, color=[\"orange\" if v < 0 else \"blue\" for v in values])\n",
    "plt.xlabel(\"Feature Contribution\")\n",
    "plt.ylabel(\"Features\")\n",
    "plt.title(\"Feature Contributions to Prediction\")\n",
    "plt.tight_layout()\n",
    "plt.show()"
   ]
  },
  {
   "cell_type": "code",
   "execution_count": null,
   "metadata": {
    "id": "IU90aJBGDqOK"
   },
   "outputs": [],
   "source": [
    "pkl.dump(svm,open('svm.pkl','wb'))\n",
    "mlflow.end_run()"
   ]
  },
  {
   "cell_type": "markdown",
   "metadata": {
    "id": "17HGHyyH1EU6"
   },
   "source": [
    "##Decision Tree"
   ]
  },
  {
   "cell_type": "code",
   "execution_count": null,
   "metadata": {
    "colab": {
     "base_uri": "https://localhost:8080/"
    },
    "id": "dWBEXPceD2jY",
    "outputId": "6ebf460a-598f-40b9-e2b9-86f81dc7e505"
   },
   "outputs": [],
   "source": [
    "dt = DecisionTreeClassifier(random_state=42)\n",
    "param_grid = {\n",
    "    'criterion': ['gini', 'entropy', 'log_loss'],\n",
    "    'max_depth': [None, 5, 10, 15, 20],\n",
    "    'min_samples_split': [2, 5, 10],\n",
    "    'min_samples_leaf': [1, 2, 4],\n",
    "                }\n",
    "mlflow.set_experiment('DecisionTree')\n",
    "mlflow.start_run(run_name='DecisionTree_Run')\n",
    "grid_search = GridSearchCV(estimator=dt\n",
    "                            , param_grid=param_grid,\n",
    "                            cv=5,\n",
    "                            n_jobs=-1,\n",
    "                            verbose=1,\n",
    "                            scoring='accuracy')\n",
    "grid_search.fit(x_train, y_train)\n",
    "decision_tree=grid_search.best_estimator_\n",
    "mlflow.log_param('criterion',decision_tree.criterion)\n",
    "mlflow.log_param('max_depth',decision_tree.max_depth)\n",
    "mlflow.log_param('min_samples_split',decision_tree.min_samples_split)\n",
    "mlflow.log_param('min_samples_leaf',decision_tree.min_samples_leaf)\n",
    "mlflow.sklearn.log_model(decision_tree,'DecisionTree',input_example=input_example)"
   ]
  },
  {
   "cell_type": "code",
   "execution_count": null,
   "metadata": {
    "colab": {
     "base_uri": "https://localhost:8080/"
    },
    "id": "vd8UoHViGPDm",
    "outputId": "1d9fa405-78b2-49b9-c5d7-018c4efa7fa7"
   },
   "outputs": [],
   "source": [
    "train_accuracy, valid_accuracy = check_overfitting(decision_tree, x_train, y_train, x_valid, y_valid)\n",
    "mlflow.log_metric('train_accuracy', train_accuracy)\n",
    "mlflow.log_metric('valid_accuracy', valid_accuracy)"
   ]
  },
  {
   "cell_type": "code",
   "execution_count": null,
   "metadata": {
    "id": "dg1U9EeQGbI_"
   },
   "outputs": [],
   "source": [
    "y_pred=decision_tree.predict(x_test)\n",
    "decision_tree_accuracy = accuracy_score(y_test,y_pred)\n",
    "decision_tree_precision = accuracy_score(y_test,y_pred)\n",
    "decision_tree_recall = accuracy_score(y_test,y_pred)\n",
    "decision_tree_F1 = accuracy_score(y_test,y_pred)\n",
    "mlflow.log_metric('decision_tree_accuracy',decision_tree_accuracy)\n",
    "mlflow.log_metric('decision_tree_precision',decision_tree_precision)\n",
    "mlflow.log_metric('decision_tree_recall',decision_tree_recall)\n",
    "mlflow.log_metric('decision_tree_F1',decision_tree_F1)"
   ]
  },
  {
   "cell_type": "code",
   "execution_count": null,
   "metadata": {
    "colab": {
     "base_uri": "https://localhost:8080/"
    },
    "id": "AOKZ05HlGnAQ",
    "outputId": "413f6406-c87a-4b38-8007-0fbf35cb70f6"
   },
   "outputs": [],
   "source": [
    "print(f'Accuracy = {decision_tree_accuracy}')\n",
    "print(f'Precision = {decision_tree_precision}')\n",
    "print(f'Recall = {decision_tree_recall}')\n",
    "print(f'F1 = {decision_tree_F1}')"
   ]
  },
  {
   "cell_type": "code",
   "execution_count": null,
   "metadata": {
    "colab": {
     "base_uri": "https://localhost:8080/"
    },
    "id": "K3xbMAGiG4nT",
    "outputId": "c8b14134-2e9a-4e24-b29d-e66cf7e3cf5c"
   },
   "outputs": [],
   "source": [
    "confusion_matrix(y_test,y_pred)"
   ]
  },
  {
   "cell_type": "code",
   "execution_count": null,
   "metadata": {
    "colab": {
     "base_uri": "https://localhost:8080/",
     "height": 430
    },
    "id": "FuGQxITCHBRx",
    "outputId": "046926cd-22b9-46ad-b449-56c9bcc3fb08"
   },
   "outputs": [],
   "source": [
    "fig = plt.figure()\n",
    "sns.heatmap(confusion_matrix(y_test,y_pred),annot=True,fmt='.2f',cmap='Blues')\n",
    "fig.patch.set_facecolor('#E0F7FA')\n",
    "ax = plt.gca()\n",
    "plt.show()"
   ]
  },
  {
   "cell_type": "code",
   "execution_count": null,
   "metadata": {
    "colab": {
     "base_uri": "https://localhost:8080/",
     "height": 189
    },
    "id": "lUPneUsVI6i_",
    "outputId": "3cd3ffe7-ffac-4853-9389-88ec70b47e44"
   },
   "outputs": [],
   "source": [
    "plt.figure(figsize=(50,10))\n",
    "tree.plot_tree(decision_tree,filled=True)\n",
    "plt.show()"
   ]
  },
  {
   "cell_type": "code",
   "execution_count": null,
   "metadata": {
    "colab": {
     "base_uri": "https://localhost:8080/",
     "height": 607
    },
    "id": "V8Otq16cNbHb",
    "outputId": "88f25c5b-4d2d-4f2f-bf4b-a12241150680"
   },
   "outputs": [],
   "source": [
    "explainer = lime_tabular.LimeTabularExplainer(\n",
    "    training_data=x_train,\n",
    "    training_labels=y_train,\n",
    "    feature_names=x.columns,\n",
    "    class_names=[\"Not Satisfy\", \"Satisfy\"],\n",
    "    mode=\"classification\"\n",
    ")\n",
    "sample_instance = x_test[0]\n",
    "explanation = explainer.explain_instance(\n",
    "    sample_instance,\n",
    "    decision_tree.predict_proba,\n",
    "    num_features=10\n",
    ")\n",
    "feature_importance = explanation.as_list()\n",
    "features, values = zip(*feature_importance)\n",
    "plt.figure(figsize=(8, 6))\n",
    "plt.barh(features, values, color=[\"orange\" if v < 0 else \"blue\" for v in values])\n",
    "plt.xlabel(\"Feature Contribution\")\n",
    "plt.ylabel(\"Features\")\n",
    "plt.title(\"Feature Contributions to Prediction\")\n",
    "plt.tight_layout()\n",
    "plt.show()"
   ]
  },
  {
   "cell_type": "code",
   "execution_count": null,
   "metadata": {
    "id": "YmGRt-mlHIA1"
   },
   "outputs": [],
   "source": [
    "pkl.dump(decision_tree,open('decision_tree.pkl','wb'))\n",
    "mlflow.end_run()"
   ]
  },
  {
   "cell_type": "markdown",
   "metadata": {
    "id": "KHxryGu21JCT"
   },
   "source": [
    "##GradientBoosting"
   ]
  },
  {
   "cell_type": "code",
   "execution_count": null,
   "metadata": {
    "colab": {
     "base_uri": "https://localhost:8080/"
    },
    "id": "ZLyS7_iRj2TV",
    "outputId": "a481bdff-9f4b-4308-bb52-02e0e49f570d"
   },
   "outputs": [],
   "source": [
    "params = {\n",
    "    \"n_estimators\":[50,100,200],\n",
    "    \"learning_rate\":[.5,.05,.25,.1],\n",
    "    'random_state':[42]\n",
    "}\n",
    "grad = GradientBoostingClassifier()\n",
    "mlflow.set_experiment('GradientBoostingClassifier')\n",
    "mlflow.start_run(run_name='GradientBoostingClassifier_Run')\n",
    "grid = GridSearchCV(grad, param_grid = params,scoring='accuracy',cv=5)\n",
    "grid.fit(x_train,y_train)\n",
    "grad=grid.best_estimator_\n",
    "mlflow.log_param('n_estimators',grad.n_estimators)\n",
    "mlflow.log_param('learning_rate',grad.learning_rate)\n",
    "mlflow.log_param('random_state',grad.random_state)\n",
    "mlflow.sklearn.log_model(grad,'GradientBoostingClassifier',input_example=input_example)"
   ]
  },
  {
   "cell_type": "code",
   "execution_count": null,
   "metadata": {
    "colab": {
     "base_uri": "https://localhost:8080/"
    },
    "id": "-yUVCeKVlnRJ",
    "outputId": "77b3913d-898b-4562-e472-7d402a08ad1b"
   },
   "outputs": [],
   "source": [
    "train_accuracy, valid_accuracy = check_overfitting(grad, x_train, y_train, x_valid, y_valid)\n",
    "mlflow.log_metric('train_accuracy', train_accuracy)\n",
    "mlflow.log_metric('valid_accuracy', valid_accuracy)"
   ]
  },
  {
   "cell_type": "code",
   "execution_count": null,
   "metadata": {
    "id": "gweZfCMhlz2n"
   },
   "outputs": [],
   "source": [
    "y_pred=grad.predict(x_test)\n",
    "grad_accuracy=accuracy_score(y_test,y_pred)\n",
    "grad_precision=accuracy_score(y_test,y_pred)\n",
    "grad_recall=accuracy_score(y_test,y_pred)\n",
    "grad_F1=accuracy_score(y_test,y_pred)\n",
    "mlflow.log_metric('grad_accuracy',grad_accuracy)\n",
    "mlflow.log_metric('grad_precision',grad_precision)\n",
    "mlflow.log_metric('grad_recall',grad_recall)\n",
    "mlflow.log_metric('grad_F1',grad_F1)"
   ]
  },
  {
   "cell_type": "code",
   "execution_count": null,
   "metadata": {
    "colab": {
     "base_uri": "https://localhost:8080/"
    },
    "id": "IWIon_3QmBhJ",
    "outputId": "26d6605c-6b0a-4387-b8c2-630fbaad4129"
   },
   "outputs": [],
   "source": [
    "print(f'Accuracy = {grad_accuracy}')\n",
    "print(f'Precision = {grad_precision}')\n",
    "print(f'Recall = {grad_recall}')\n",
    "print(f'F1 = {grad_F1}')"
   ]
  },
  {
   "cell_type": "code",
   "execution_count": null,
   "metadata": {
    "colab": {
     "base_uri": "https://localhost:8080/"
    },
    "id": "jxtyh5iymFbT",
    "outputId": "f312398d-598b-468c-cb7f-c9bacdc6727d"
   },
   "outputs": [],
   "source": [
    "confusion_matrix(y_test,y_pred)"
   ]
  },
  {
   "cell_type": "code",
   "execution_count": null,
   "metadata": {
    "colab": {
     "base_uri": "https://localhost:8080/",
     "height": 434
    },
    "id": "cWdcsnhMmHSX",
    "outputId": "192c372c-e64c-41e2-e8a0-770d51bdccd0"
   },
   "outputs": [],
   "source": [
    "fig = plt.figure()\n",
    "sns.heatmap(confusion_matrix(y_test,y_pred),annot=True,fmt='.2f',cmap='Blues')\n",
    "fig.patch.set_facecolor('#E0F7FA')\n",
    "ax = plt.gca()\n",
    "plt.show()"
   ]
  },
  {
   "cell_type": "code",
   "execution_count": null,
   "metadata": {
    "colab": {
     "base_uri": "https://localhost:8080/",
     "height": 607
    },
    "id": "JudtIU1kmHV_",
    "outputId": "b89c37c6-2137-4d23-c747-bbd27c03a0df"
   },
   "outputs": [],
   "source": [
    "explainer = lime_tabular.LimeTabularExplainer(\n",
    "    training_data=x_train,\n",
    "    training_labels=y_train,\n",
    "    feature_names=x.columns,\n",
    "    class_names=[\"Not Satisfy\", \"Satisfy\"],\n",
    "    mode=\"classification\"\n",
    ")\n",
    "sample_instance = x_test[0]\n",
    "explanation = explainer.explain_instance(\n",
    "    sample_instance,\n",
    "    grad.predict_proba,\n",
    "    num_features=10\n",
    ")\n",
    "feature_importance = explanation.as_list()\n",
    "features, values = zip(*feature_importance)\n",
    "plt.figure(figsize=(8, 6))\n",
    "plt.barh(features, values, color=[\"orange\" if v < 0 else \"blue\" for v in values])\n",
    "plt.xlabel(\"Feature Contribution\")\n",
    "plt.ylabel(\"Features\")\n",
    "plt.title(\"Feature Contributions to Prediction\")\n",
    "plt.tight_layout()\n",
    "plt.show()"
   ]
  },
  {
   "cell_type": "code",
   "execution_count": null,
   "metadata": {
    "id": "O0PAy-pomLvh"
   },
   "outputs": [],
   "source": [
    "pkl.dump(grad,open('GradientBoostingClassifier.pkl','wb'))\n",
    "mlflow.end_run()"
   ]
  },
  {
   "cell_type": "markdown",
   "metadata": {
    "id": "54R0oSYI1PSR"
   },
   "source": [
    "## Models Comparing"
   ]
  },
  {
   "cell_type": "markdown",
   "metadata": {
    "id": "-hqvmfW81S83"
   },
   "source": [
    "##Accuracy"
   ]
  },
  {
   "cell_type": "code",
   "execution_count": null,
   "metadata": {
    "colab": {
     "base_uri": "https://localhost:8080/",
     "height": 668
    },
    "id": "uoyy600Bwczi",
    "outputId": "557e456f-a2c4-4257-8f50-883913a18010"
   },
   "outputs": [],
   "source": [
    "plt.figure(figsize=(20,15))\n",
    "metrics = ['SVM', 'KNN','Decision Tree','Naive Bayes','Gradient']\n",
    "accuracy = [svm_accuracy,knn_accuracy,decision_tree_accuracy,NV_accuracy,grad_accuracy]\n",
    "sns.barplot(x=metrics, y=accuracy)"
   ]
  },
  {
   "cell_type": "markdown",
   "metadata": {
    "id": "q5oQspXu1W4a"
   },
   "source": [
    "## Roc Curve"
   ]
  },
  {
   "cell_type": "code",
   "execution_count": null,
   "metadata": {
    "colab": {
     "base_uri": "https://localhost:8080/",
     "height": 694
    },
    "id": "fDuTmlXdxLcp",
    "outputId": "223d5551-2f88-4cde-b545-a9b70ed7542b"
   },
   "outputs": [],
   "source": [
    "models = [('Gradient',grad),('SVM',svm),('Decsion Tree',decision_tree),('Naive Bayes',naive_bayes),('KNN',knn)]\n",
    "\n",
    "plt.figure(figsize=(10, 8))\n",
    "for name, model in models:\n",
    "    y_prob = model.predict_proba(x_test)[:, 1]\n",
    "    fpr, tpr, _ = roc_curve(y_test, y_prob)\n",
    "    auc = roc_auc_score(y_test, y_prob)\n",
    "    plt.plot(fpr, tpr, label=f'{name} (AUC = {auc:.2f})')\n",
    "\n",
    "plt.plot([0, 1], [0, 1], color='navy', linestyle='--', label='Random Guessing')\n",
    "plt.xlabel('False Positive Rate')\n",
    "plt.ylabel('True Positive Rate')\n",
    "plt.title('ROC Curve')\n",
    "plt.legend(loc='lower right')\n",
    "plt.grid(True)\n",
    "plt.tight_layout()\n",
    "plt.show()"
   ]
  },
  {
   "cell_type": "markdown",
   "metadata": {
    "id": "ek305P-q1Za8"
   },
   "source": [
    "##Precision Recall Curve"
   ]
  },
  {
   "cell_type": "code",
   "execution_count": null,
   "metadata": {
    "colab": {
     "base_uri": "https://localhost:8080/",
     "height": 694
    },
    "id": "XxOHmV8nxNh4",
    "outputId": "b20200e8-d082-48a9-def6-a9359859609c"
   },
   "outputs": [],
   "source": [
    "models = [('Gradient',grad),('SVM',svm),('Decsion Tree',decision_tree),('Naive Bayes',naive_bayes),('KNN',knn)]\n",
    "plt.figure(figsize=(10, 8))\n",
    "for name, model in models:\n",
    "    y_prob = model.predict_proba(x_test)[:, 1]\n",
    "    precision, recall, _ = precision_recall_curve(y_test, y_prob)\n",
    "    avg_precision = average_precision_score(y_test, y_prob)\n",
    "    plt.plot(recall, precision, label=f'{name} (AP = {avg_precision:.2f})')\n",
    "\n",
    "plt.xlabel('Recall')\n",
    "plt.ylabel('Precision')\n",
    "plt.title('Precision-Recall Curve')\n",
    "plt.legend(loc='lower left')\n",
    "plt.grid(True)\n",
    "plt.tight_layout()\n",
    "plt.show()"
   ]
  },
  {
   "cell_type": "markdown",
   "metadata": {
    "id": "xwRFekzd1j84"
   },
   "source": [
    "##Setting Up and Exposing MLflow UI with Ngrok"
   ]
  },
  {
   "cell_type": "code",
   "execution_count": null,
   "metadata": {
    "colab": {
     "base_uri": "https://localhost:8080/"
    },
    "id": "Wg8n3Q6bJRYq",
    "outputId": "d9e44e59-9021-4887-a037-445e9a213f65"
   },
   "outputs": [],
   "source": [
    "ngrok.set_auth_token(\"2qK2jbZc9PvMBVBuOi3tpUZ3FoR_5kQc9NHamkTc6BsLgCeE1\")\n",
    "\n",
    "mlflow_process = subprocess.Popen([\"mlflow\", \"ui\", \"--port\", \"5000\"])\n",
    "\n",
    "public_url = ngrok.connect(5000)\n",
    "print(f\"MLflow UI is accessible at: {public_url}\")"
   ]
  },
  {
   "cell_type": "code",
   "execution_count": null,
   "metadata": {
    "id": "HMmaqeflJXSw"
   },
   "outputs": [],
   "source": [
    "mlflow_process.terminate()"
   ]
  },
  {
   "cell_type": "code",
   "execution_count": 58,
   "metadata": {},
   "outputs": [
    {
     "name": "stdout",
     "output_type": "stream",
     "text": [
      "Requirement already satisfied: ipython in c:\\users\\ziad\\anaconda3\\lib\\site-packages (8.15.0)\n",
      "Collecting ipython\n",
      "  Obtaining dependency information for ipython from https://files.pythonhosted.org/packages/04/60/d0feb6b6d9fe4ab89fe8fe5b47cbf6cd936bfd9f1e7ffa9d0015425aeed6/ipython-8.31.0-py3-none-any.whl.metadata\n",
      "  Downloading ipython-8.31.0-py3-none-any.whl.metadata (4.9 kB)\n",
      "Requirement already satisfied: jupyter in c:\\users\\ziad\\anaconda3\\lib\\site-packages (1.0.0)\n",
      "Collecting jupyter\n",
      "  Obtaining dependency information for jupyter from https://files.pythonhosted.org/packages/38/64/285f20a31679bf547b75602702f7800e74dbabae36ef324f716c02804753/jupyter-1.1.1-py2.py3-none-any.whl.metadata\n",
      "  Downloading jupyter-1.1.1-py2.py3-none-any.whl.metadata (2.0 kB)\n",
      "Requirement already satisfied: stack-data in c:\\users\\ziad\\anaconda3\\lib\\site-packages (0.2.0)\n",
      "Collecting stack-data\n",
      "  Obtaining dependency information for stack-data from https://files.pythonhosted.org/packages/f1/7b/ce1eafaf1a76852e2ec9b22edecf1daa58175c090266e9f6c64afcd81d91/stack_data-0.6.3-py3-none-any.whl.metadata\n",
      "  Downloading stack_data-0.6.3-py3-none-any.whl.metadata (18 kB)\n",
      "Requirement already satisfied: executing in c:\\users\\ziad\\anaconda3\\lib\\site-packages (0.8.3)\n",
      "Collecting executing\n",
      "  Obtaining dependency information for executing from https://files.pythonhosted.org/packages/b5/fd/afcd0496feca3276f509df3dbd5dae726fcc756f1a08d9e25abe1733f962/executing-2.1.0-py2.py3-none-any.whl.metadata\n",
      "  Downloading executing-2.1.0-py2.py3-none-any.whl.metadata (8.9 kB)\n",
      "Requirement already satisfied: colorama in c:\\users\\ziad\\anaconda3\\lib\\site-packages (from ipython) (0.4.6)\n",
      "Requirement already satisfied: decorator in c:\\users\\ziad\\anaconda3\\lib\\site-packages (from ipython) (5.1.1)\n",
      "Requirement already satisfied: jedi>=0.16 in c:\\users\\ziad\\anaconda3\\lib\\site-packages (from ipython) (0.18.1)\n",
      "Requirement already satisfied: matplotlib-inline in c:\\users\\ziad\\anaconda3\\lib\\site-packages (from ipython) (0.1.6)\n",
      "Collecting prompt_toolkit<3.1.0,>=3.0.41 (from ipython)\n",
      "  Obtaining dependency information for prompt_toolkit<3.1.0,>=3.0.41 from https://files.pythonhosted.org/packages/a9/6a/fd08d94654f7e67c52ca30523a178b3f8ccc4237fce4be90d39c938a831a/prompt_toolkit-3.0.48-py3-none-any.whl.metadata\n",
      "  Downloading prompt_toolkit-3.0.48-py3-none-any.whl.metadata (6.4 kB)\n",
      "Requirement already satisfied: pygments>=2.4.0 in c:\\users\\ziad\\anaconda3\\lib\\site-packages (from ipython) (2.15.1)\n",
      "Collecting traitlets>=5.13.0 (from ipython)\n",
      "  Obtaining dependency information for traitlets>=5.13.0 from https://files.pythonhosted.org/packages/00/c0/8f5d070730d7836adc9c9b6408dec68c6ced86b304a9b26a14df072a6e8c/traitlets-5.14.3-py3-none-any.whl.metadata\n",
      "  Downloading traitlets-5.14.3-py3-none-any.whl.metadata (10 kB)\n",
      "Requirement already satisfied: typing_extensions>=4.6 in c:\\users\\ziad\\anaconda3\\lib\\site-packages (from ipython) (4.12.2)\n",
      "Requirement already satisfied: notebook in c:\\users\\ziad\\anaconda3\\lib\\site-packages (from jupyter) (7.0.8)\n",
      "Requirement already satisfied: jupyter-console in c:\\users\\ziad\\anaconda3\\lib\\site-packages (from jupyter) (6.6.3)\n",
      "Requirement already satisfied: nbconvert in c:\\users\\ziad\\anaconda3\\lib\\site-packages (from jupyter) (6.5.4)\n",
      "Requirement already satisfied: ipykernel in c:\\users\\ziad\\anaconda3\\lib\\site-packages (from jupyter) (6.25.0)\n",
      "Requirement already satisfied: ipywidgets in c:\\users\\ziad\\anaconda3\\lib\\site-packages (from jupyter) (8.0.4)\n",
      "Requirement already satisfied: jupyterlab in c:\\users\\ziad\\anaconda3\\lib\\site-packages (from jupyter) (4.0.11)\n",
      "Collecting asttokens>=2.1.0 (from stack-data)\n",
      "  Obtaining dependency information for asttokens>=2.1.0 from https://files.pythonhosted.org/packages/25/8a/c46dcc25341b5bce5472c718902eb3d38600a903b14fa6aeecef3f21a46f/asttokens-3.0.0-py3-none-any.whl.metadata\n",
      "  Downloading asttokens-3.0.0-py3-none-any.whl.metadata (4.7 kB)\n",
      "Requirement already satisfied: pure-eval in c:\\users\\ziad\\anaconda3\\lib\\site-packages (from stack-data) (0.2.2)\n",
      "Requirement already satisfied: parso<0.9.0,>=0.8.0 in c:\\users\\ziad\\anaconda3\\lib\\site-packages (from jedi>=0.16->ipython) (0.8.3)\n",
      "Requirement already satisfied: wcwidth in c:\\users\\ziad\\anaconda3\\lib\\site-packages (from prompt_toolkit<3.1.0,>=3.0.41->ipython) (0.2.5)\n",
      "Requirement already satisfied: comm>=0.1.1 in c:\\users\\ziad\\anaconda3\\lib\\site-packages (from ipykernel->jupyter) (0.1.2)\n",
      "Requirement already satisfied: debugpy>=1.6.5 in c:\\users\\ziad\\anaconda3\\lib\\site-packages (from ipykernel->jupyter) (1.6.7)\n",
      "Requirement already satisfied: jupyter-client>=6.1.12 in c:\\users\\ziad\\anaconda3\\lib\\site-packages (from ipykernel->jupyter) (7.4.9)\n",
      "Requirement already satisfied: jupyter-core!=5.0.*,>=4.12 in c:\\users\\ziad\\anaconda3\\lib\\site-packages (from ipykernel->jupyter) (5.3.0)\n",
      "Requirement already satisfied: nest-asyncio in c:\\users\\ziad\\anaconda3\\lib\\site-packages (from ipykernel->jupyter) (1.5.6)\n",
      "Requirement already satisfied: packaging in c:\\users\\ziad\\anaconda3\\lib\\site-packages (from ipykernel->jupyter) (23.1)\n",
      "Requirement already satisfied: psutil in c:\\users\\ziad\\anaconda3\\lib\\site-packages (from ipykernel->jupyter) (5.9.0)\n",
      "Requirement already satisfied: pyzmq>=20 in c:\\users\\ziad\\anaconda3\\lib\\site-packages (from ipykernel->jupyter) (25.1.2)\n",
      "Requirement already satisfied: tornado>=6.1 in c:\\users\\ziad\\anaconda3\\lib\\site-packages (from ipykernel->jupyter) (6.3.2)\n",
      "Requirement already satisfied: widgetsnbextension~=4.0 in c:\\users\\ziad\\anaconda3\\lib\\site-packages (from ipywidgets->jupyter) (4.0.5)\n",
      "Requirement already satisfied: jupyterlab-widgets~=3.0 in c:\\users\\ziad\\anaconda3\\lib\\site-packages (from ipywidgets->jupyter) (3.0.10)\n",
      "Requirement already satisfied: async-lru>=1.0.0 in c:\\users\\ziad\\anaconda3\\lib\\site-packages (from jupyterlab->jupyter) (2.0.4)\n",
      "Requirement already satisfied: jinja2>=3.0.3 in c:\\users\\ziad\\anaconda3\\lib\\site-packages (from jupyterlab->jupyter) (3.1.2)\n",
      "Requirement already satisfied: jupyter-lsp>=2.0.0 in c:\\users\\ziad\\anaconda3\\lib\\site-packages (from jupyterlab->jupyter) (2.2.0)\n",
      "Requirement already satisfied: jupyter-server<3,>=2.4.0 in c:\\users\\ziad\\anaconda3\\lib\\site-packages (from jupyterlab->jupyter) (2.10.0)\n",
      "Requirement already satisfied: jupyterlab-server<3,>=2.19.0 in c:\\users\\ziad\\anaconda3\\lib\\site-packages (from jupyterlab->jupyter) (2.25.1)\n",
      "Requirement already satisfied: notebook-shim>=0.2 in c:\\users\\ziad\\anaconda3\\lib\\site-packages (from jupyterlab->jupyter) (0.2.2)\n",
      "Requirement already satisfied: lxml in c:\\users\\ziad\\anaconda3\\lib\\site-packages (from nbconvert->jupyter) (4.9.3)\n",
      "Requirement already satisfied: beautifulsoup4 in c:\\users\\ziad\\anaconda3\\lib\\site-packages (from nbconvert->jupyter) (4.12.2)\n",
      "Requirement already satisfied: bleach in c:\\users\\ziad\\anaconda3\\lib\\site-packages (from nbconvert->jupyter) (4.1.0)\n",
      "Requirement already satisfied: defusedxml in c:\\users\\ziad\\anaconda3\\lib\\site-packages (from nbconvert->jupyter) (0.7.1)\n",
      "Requirement already satisfied: entrypoints>=0.2.2 in c:\\users\\ziad\\anaconda3\\lib\\site-packages (from nbconvert->jupyter) (0.4)\n",
      "Requirement already satisfied: jupyterlab-pygments in c:\\users\\ziad\\anaconda3\\lib\\site-packages (from nbconvert->jupyter) (0.1.2)\n",
      "Requirement already satisfied: MarkupSafe>=2.0 in c:\\users\\ziad\\anaconda3\\lib\\site-packages (from nbconvert->jupyter) (2.1.1)\n",
      "Requirement already satisfied: mistune<2,>=0.8.1 in c:\\users\\ziad\\anaconda3\\lib\\site-packages (from nbconvert->jupyter) (0.8.4)\n",
      "Requirement already satisfied: nbclient>=0.5.0 in c:\\users\\ziad\\anaconda3\\lib\\site-packages (from nbconvert->jupyter) (0.5.13)\n",
      "Requirement already satisfied: nbformat>=5.1 in c:\\users\\ziad\\anaconda3\\lib\\site-packages (from nbconvert->jupyter) (5.9.2)\n",
      "Requirement already satisfied: pandocfilters>=1.4.1 in c:\\users\\ziad\\anaconda3\\lib\\site-packages (from nbconvert->jupyter) (1.5.0)\n",
      "Requirement already satisfied: tinycss2 in c:\\users\\ziad\\anaconda3\\lib\\site-packages (from nbconvert->jupyter) (1.2.1)\n",
      "Requirement already satisfied: python-dateutil>=2.8.2 in c:\\users\\ziad\\anaconda3\\lib\\site-packages (from jupyter-client>=6.1.12->ipykernel->jupyter) (2.8.2)\n",
      "Requirement already satisfied: platformdirs>=2.5 in c:\\users\\ziad\\anaconda3\\lib\\site-packages (from jupyter-core!=5.0.*,>=4.12->ipykernel->jupyter) (3.10.0)\n",
      "Requirement already satisfied: pywin32>=300 in c:\\users\\ziad\\anaconda3\\lib\\site-packages (from jupyter-core!=5.0.*,>=4.12->ipykernel->jupyter) (305.1)\n",
      "Requirement already satisfied: anyio>=3.1.0 in c:\\users\\ziad\\anaconda3\\lib\\site-packages (from jupyter-server<3,>=2.4.0->jupyterlab->jupyter) (3.5.0)\n",
      "Requirement already satisfied: argon2-cffi in c:\\users\\ziad\\anaconda3\\lib\\site-packages (from jupyter-server<3,>=2.4.0->jupyterlab->jupyter) (21.3.0)\n",
      "Requirement already satisfied: jupyter-events>=0.6.0 in c:\\users\\ziad\\anaconda3\\lib\\site-packages (from jupyter-server<3,>=2.4.0->jupyterlab->jupyter) (0.6.3)\n",
      "Requirement already satisfied: jupyter-server-terminals in c:\\users\\ziad\\anaconda3\\lib\\site-packages (from jupyter-server<3,>=2.4.0->jupyterlab->jupyter) (0.4.4)\n",
      "Requirement already satisfied: overrides in c:\\users\\ziad\\anaconda3\\lib\\site-packages (from jupyter-server<3,>=2.4.0->jupyterlab->jupyter) (7.4.0)\n",
      "Requirement already satisfied: prometheus-client in c:\\users\\ziad\\anaconda3\\lib\\site-packages (from jupyter-server<3,>=2.4.0->jupyterlab->jupyter) (0.14.1)\n",
      "Requirement already satisfied: pywinpty in c:\\users\\ziad\\anaconda3\\lib\\site-packages (from jupyter-server<3,>=2.4.0->jupyterlab->jupyter) (2.0.10)\n",
      "Requirement already satisfied: send2trash>=1.8.2 in c:\\users\\ziad\\anaconda3\\lib\\site-packages (from jupyter-server<3,>=2.4.0->jupyterlab->jupyter) (1.8.2)\n",
      "Requirement already satisfied: terminado>=0.8.3 in c:\\users\\ziad\\anaconda3\\lib\\site-packages (from jupyter-server<3,>=2.4.0->jupyterlab->jupyter) (0.17.1)\n",
      "Requirement already satisfied: websocket-client in c:\\users\\ziad\\anaconda3\\lib\\site-packages (from jupyter-server<3,>=2.4.0->jupyterlab->jupyter) (1.8.0)\n",
      "Requirement already satisfied: babel>=2.10 in c:\\users\\ziad\\anaconda3\\lib\\site-packages (from jupyterlab-server<3,>=2.19.0->jupyterlab->jupyter) (2.11.0)\n",
      "Requirement already satisfied: json5>=0.9.0 in c:\\users\\ziad\\anaconda3\\lib\\site-packages (from jupyterlab-server<3,>=2.19.0->jupyterlab->jupyter) (0.9.6)\n",
      "Requirement already satisfied: jsonschema>=4.18.0 in c:\\users\\ziad\\anaconda3\\lib\\site-packages (from jupyterlab-server<3,>=2.19.0->jupyterlab->jupyter) (4.19.2)\n",
      "Requirement already satisfied: requests>=2.31 in c:\\users\\ziad\\anaconda3\\lib\\site-packages (from jupyterlab-server<3,>=2.19.0->jupyterlab->jupyter) (2.31.0)\n",
      "Requirement already satisfied: fastjsonschema in c:\\users\\ziad\\anaconda3\\lib\\site-packages (from nbformat>=5.1->nbconvert->jupyter) (2.16.2)\n",
      "Requirement already satisfied: soupsieve>1.2 in c:\\users\\ziad\\anaconda3\\lib\\site-packages (from beautifulsoup4->nbconvert->jupyter) (2.4)\n",
      "Requirement already satisfied: six>=1.9.0 in c:\\users\\ziad\\anaconda3\\lib\\site-packages (from bleach->nbconvert->jupyter) (1.16.0)\n",
      "Requirement already satisfied: webencodings in c:\\users\\ziad\\anaconda3\\lib\\site-packages (from bleach->nbconvert->jupyter) (0.5.1)\n",
      "Requirement already satisfied: idna>=2.8 in c:\\users\\ziad\\anaconda3\\lib\\site-packages (from anyio>=3.1.0->jupyter-server<3,>=2.4.0->jupyterlab->jupyter) (3.10)\n",
      "Requirement already satisfied: sniffio>=1.1 in c:\\users\\ziad\\anaconda3\\lib\\site-packages (from anyio>=3.1.0->jupyter-server<3,>=2.4.0->jupyterlab->jupyter) (1.3.1)\n",
      "Requirement already satisfied: pytz>=2015.7 in c:\\users\\ziad\\anaconda3\\lib\\site-packages (from babel>=2.10->jupyterlab-server<3,>=2.19.0->jupyterlab->jupyter) (2023.3.post1)\n",
      "Requirement already satisfied: attrs>=22.2.0 in c:\\users\\ziad\\anaconda3\\lib\\site-packages (from jsonschema>=4.18.0->jupyterlab-server<3,>=2.19.0->jupyterlab->jupyter) (24.2.0)\n",
      "Requirement already satisfied: jsonschema-specifications>=2023.03.6 in c:\\users\\ziad\\anaconda3\\lib\\site-packages (from jsonschema>=4.18.0->jupyterlab-server<3,>=2.19.0->jupyterlab->jupyter) (2023.7.1)\n",
      "Requirement already satisfied: referencing>=0.28.4 in c:\\users\\ziad\\anaconda3\\lib\\site-packages (from jsonschema>=4.18.0->jupyterlab-server<3,>=2.19.0->jupyterlab->jupyter) (0.30.2)\n",
      "Requirement already satisfied: rpds-py>=0.7.1 in c:\\users\\ziad\\anaconda3\\lib\\site-packages (from jsonschema>=4.18.0->jupyterlab-server<3,>=2.19.0->jupyterlab->jupyter) (0.10.6)\n",
      "Requirement already satisfied: python-json-logger>=2.0.4 in c:\\users\\ziad\\anaconda3\\lib\\site-packages (from jupyter-events>=0.6.0->jupyter-server<3,>=2.4.0->jupyterlab->jupyter) (2.0.7)\n",
      "Requirement already satisfied: pyyaml>=5.3 in c:\\users\\ziad\\anaconda3\\lib\\site-packages (from jupyter-events>=0.6.0->jupyter-server<3,>=2.4.0->jupyterlab->jupyter) (6.0.2)\n",
      "Requirement already satisfied: rfc3339-validator in c:\\users\\ziad\\anaconda3\\lib\\site-packages (from jupyter-events>=0.6.0->jupyter-server<3,>=2.4.0->jupyterlab->jupyter) (0.1.4)\n",
      "Requirement already satisfied: rfc3986-validator>=0.1.1 in c:\\users\\ziad\\anaconda3\\lib\\site-packages (from jupyter-events>=0.6.0->jupyter-server<3,>=2.4.0->jupyterlab->jupyter) (0.1.1)\n",
      "Requirement already satisfied: charset-normalizer<4,>=2 in c:\\users\\ziad\\anaconda3\\lib\\site-packages (from requests>=2.31->jupyterlab-server<3,>=2.19.0->jupyterlab->jupyter) (2.0.4)\n",
      "Requirement already satisfied: urllib3<3,>=1.21.1 in c:\\users\\ziad\\anaconda3\\lib\\site-packages (from requests>=2.31->jupyterlab-server<3,>=2.19.0->jupyterlab->jupyter) (1.26.16)\n",
      "Requirement already satisfied: certifi>=2017.4.17 in c:\\users\\ziad\\anaconda3\\lib\\site-packages (from requests>=2.31->jupyterlab-server<3,>=2.19.0->jupyterlab->jupyter) (2024.12.14)\n",
      "Requirement already satisfied: argon2-cffi-bindings in c:\\users\\ziad\\anaconda3\\lib\\site-packages (from argon2-cffi->jupyter-server<3,>=2.4.0->jupyterlab->jupyter) (21.2.0)\n",
      "Collecting fqdn (from jsonschema>=4.18.0->jupyterlab-server<3,>=2.19.0->jupyterlab->jupyter)\n",
      "  Obtaining dependency information for fqdn from https://files.pythonhosted.org/packages/cf/58/8acf1b3e91c58313ce5cb67df61001fc9dcd21be4fadb76c1a2d540e09ed/fqdn-1.5.1-py3-none-any.whl.metadata\n",
      "  Downloading fqdn-1.5.1-py3-none-any.whl.metadata (1.4 kB)\n",
      "Collecting isoduration (from jsonschema>=4.18.0->jupyterlab-server<3,>=2.19.0->jupyterlab->jupyter)\n",
      "  Obtaining dependency information for isoduration from https://files.pythonhosted.org/packages/7b/55/e5326141505c5d5e34c5e0935d2908a74e4561eca44108fbfb9c13d2911a/isoduration-20.11.0-py3-none-any.whl.metadata\n",
      "  Downloading isoduration-20.11.0-py3-none-any.whl.metadata (5.7 kB)\n",
      "Requirement already satisfied: jsonpointer>1.13 in c:\\users\\ziad\\anaconda3\\lib\\site-packages (from jsonschema>=4.18.0->jupyterlab-server<3,>=2.19.0->jupyterlab->jupyter) (2.1)\n",
      "Collecting uri-template (from jsonschema>=4.18.0->jupyterlab-server<3,>=2.19.0->jupyterlab->jupyter)\n",
      "  Obtaining dependency information for uri-template from https://files.pythonhosted.org/packages/e7/00/3fca040d7cf8a32776d3d81a00c8ee7457e00f80c649f1e4a863c8321ae9/uri_template-1.3.0-py3-none-any.whl.metadata\n",
      "  Downloading uri_template-1.3.0-py3-none-any.whl.metadata (8.8 kB)\n",
      "Collecting webcolors>=1.11 (from jsonschema>=4.18.0->jupyterlab-server<3,>=2.19.0->jupyterlab->jupyter)\n",
      "  Obtaining dependency information for webcolors>=1.11 from https://files.pythonhosted.org/packages/60/e8/c0e05e4684d13459f93d312077a9a2efbe04d59c393bc2b8802248c908d4/webcolors-24.11.1-py3-none-any.whl.metadata\n",
      "  Downloading webcolors-24.11.1-py3-none-any.whl.metadata (2.2 kB)\n",
      "Requirement already satisfied: cffi>=1.0.1 in c:\\users\\ziad\\anaconda3\\lib\\site-packages (from argon2-cffi-bindings->argon2-cffi->jupyter-server<3,>=2.4.0->jupyterlab->jupyter) (1.15.1)\n",
      "Requirement already satisfied: pycparser in c:\\users\\ziad\\anaconda3\\lib\\site-packages (from cffi>=1.0.1->argon2-cffi-bindings->argon2-cffi->jupyter-server<3,>=2.4.0->jupyterlab->jupyter) (2.21)\n",
      "Requirement already satisfied: arrow>=0.15.0 in c:\\users\\ziad\\anaconda3\\lib\\site-packages (from isoduration->jsonschema>=4.18.0->jupyterlab-server<3,>=2.19.0->jupyterlab->jupyter) (1.2.3)\n",
      "Downloading ipython-8.31.0-py3-none-any.whl (821 kB)\n",
      "   ---------------------------------------- 0.0/821.6 kB ? eta -:--:--\n",
      "   -- ------------------------------------- 61.4/821.6 kB 1.7 MB/s eta 0:00:01\n",
      "   ---- ---------------------------------- 92.2/821.6 kB 871.5 kB/s eta 0:00:01\n",
      "   ---------- ----------------------------- 225.3/821.6 kB 1.7 MB/s eta 0:00:01\n",
      "   ------------ --------------------------- 256.0/821.6 kB 1.4 MB/s eta 0:00:01\n",
      "   -------------------------- ------------- 553.0/821.6 kB 2.5 MB/s eta 0:00:01\n",
      "   ----------------------------- ---------- 604.2/821.6 kB 2.2 MB/s eta 0:00:01\n",
      "   ---------------------------------------  819.2/821.6 kB 2.6 MB/s eta 0:00:01\n",
      "   ---------------------------------------- 821.6/821.6 kB 2.5 MB/s eta 0:00:00\n",
      "Downloading jupyter-1.1.1-py2.py3-none-any.whl (2.7 kB)\n",
      "Downloading stack_data-0.6.3-py3-none-any.whl (24 kB)\n",
      "Downloading executing-2.1.0-py2.py3-none-any.whl (25 kB)\n",
      "Downloading asttokens-3.0.0-py3-none-any.whl (26 kB)\n",
      "Downloading prompt_toolkit-3.0.48-py3-none-any.whl (386 kB)\n",
      "   ---------------------------------------- 0.0/386.6 kB ? eta -:--:--\n",
      "   --- ------------------------------------ 30.7/386.6 kB ? eta -:--:--\n",
      "   -------------------- ------------------- 194.6/386.6 kB 2.0 MB/s eta 0:00:01\n",
      "   -------------------- ------------------- 194.6/386.6 kB 2.0 MB/s eta 0:00:01\n",
      "   -------------------------------- ------- 317.4/386.6 kB 1.6 MB/s eta 0:00:01\n",
      "   ---------------------------------- ----- 337.9/386.6 kB 1.6 MB/s eta 0:00:01\n",
      "   ---------------------------------------- 386.6/386.6 kB 1.5 MB/s eta 0:00:00\n",
      "Downloading traitlets-5.14.3-py3-none-any.whl (85 kB)\n",
      "   ---------------------------------------- 0.0/85.4 kB ? eta -:--:--\n",
      "   -------------- ------------------------- 30.7/85.4 kB ? eta -:--:--\n",
      "   -------------------------------------- - 81.9/85.4 kB 1.5 MB/s eta 0:00:01\n",
      "   ---------------------------------------- 85.4/85.4 kB 682.9 kB/s eta 0:00:00\n",
      "Downloading webcolors-24.11.1-py3-none-any.whl (14 kB)\n",
      "Downloading fqdn-1.5.1-py3-none-any.whl (9.1 kB)\n",
      "Downloading isoduration-20.11.0-py3-none-any.whl (11 kB)\n",
      "Downloading uri_template-1.3.0-py3-none-any.whl (11 kB)\n",
      "Installing collected packages: webcolors, uri-template, traitlets, prompt_toolkit, fqdn, executing, asttokens, stack-data, isoduration, ipython, jupyter\n",
      "  Attempting uninstall: traitlets\n",
      "    Found existing installation: traitlets 5.7.1\n",
      "    Uninstalling traitlets-5.7.1:\n",
      "      Successfully uninstalled traitlets-5.7.1\n",
      "  Attempting uninstall: prompt_toolkit\n",
      "    Found existing installation: prompt-toolkit 3.0.36\n",
      "    Uninstalling prompt-toolkit-3.0.36:\n",
      "      Successfully uninstalled prompt-toolkit-3.0.36\n",
      "  Attempting uninstall: executing\n",
      "    Found existing installation: executing 0.8.3\n",
      "    Uninstalling executing-0.8.3:\n",
      "      Successfully uninstalled executing-0.8.3\n",
      "  Attempting uninstall: asttokens\n",
      "    Found existing installation: asttokens 2.0.5\n",
      "    Uninstalling asttokens-2.0.5:\n",
      "      Successfully uninstalled asttokens-2.0.5\n",
      "  Attempting uninstall: stack-data\n",
      "    Found existing installation: stack-data 0.2.0\n",
      "    Uninstalling stack-data-0.2.0:\n",
      "      Successfully uninstalled stack-data-0.2.0\n",
      "  Attempting uninstall: ipython\n",
      "    Found existing installation: ipython 8.15.0\n",
      "    Uninstalling ipython-8.15.0:\n",
      "      Successfully uninstalled ipython-8.15.0\n",
      "  Attempting uninstall: jupyter\n",
      "    Found existing installation: jupyter 1.0.0\n",
      "    Uninstalling jupyter-1.0.0:\n",
      "      Successfully uninstalled jupyter-1.0.0\n",
      "Successfully installed asttokens-3.0.0 executing-2.1.0 fqdn-1.5.1 ipython-8.31.0 isoduration-20.11.0 jupyter-1.1.1 prompt_toolkit-3.0.48 stack-data-0.6.3 traitlets-5.14.3 uri-template-1.3.0 webcolors-24.11.1\n",
      "Note: you may need to restart the kernel to use updated packages.\n"
     ]
    }
   ],
   "source": [
    "pip install --upgrade ipython jupyter stack-data executing"
   ]
  },
  {
   "cell_type": "code",
   "execution_count": null,
   "metadata": {},
   "outputs": [],
   "source": []
  }
 ],
 "metadata": {
  "accelerator": "TPU",
  "colab": {
   "collapsed_sections": [
    "h033vnhXzHGe",
    "g7_UQAOLzhbO",
    "DgxIBaWFzo-g",
    "NU0HMVbxzwfI",
    "fd2dhYkF0C6T",
    "TTLF0xXr0Iv5",
    "4fpETHtR0Ovf",
    "FFZveCpC0T_W",
    "xWsR-tNw0aQB",
    "8qFmfObW0iWD",
    "iOaogZGN0nrd",
    "HVzlxooh0t7w",
    "nFaSYJH-0wNv",
    "OFDByhF804IL",
    "OETg8yKO08ae",
    "JuHrmHFo1A27",
    "17HGHyyH1EU6",
    "KHxryGu21JCT",
    "-hqvmfW81S83",
    "q5oQspXu1W4a",
    "ek305P-q1Za8",
    "xwRFekzd1j84"
   ],
   "gpuType": "V28",
   "provenance": []
  },
  "kernelspec": {
   "display_name": "Python 3",
   "language": "python",
   "name": "python3"
  },
  "language_info": {
   "codemirror_mode": {
    "name": "ipython",
    "version": 3
   },
   "file_extension": ".py",
   "mimetype": "text/x-python",
   "name": "python",
   "nbconvert_exporter": "python",
   "pygments_lexer": "ipython3",
   "version": "3.11.9"
  }
 },
 "nbformat": 4,
 "nbformat_minor": 4
}
